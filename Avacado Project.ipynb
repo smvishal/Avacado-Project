{
 "cells": [
  {
   "cell_type": "code",
   "execution_count": 1,
   "id": "06f71113",
   "metadata": {},
   "outputs": [],
   "source": [
    "import pandas as pd\n",
    "import numpy as np\n",
    "import seaborn as sns\n",
    "import matplotlib.pyplot as plt\n",
    "%matplotlib inline\n",
    "\n",
    "import warnings\n",
    "warnings.filterwarnings('ignore')"
   ]
  },
  {
   "cell_type": "code",
   "execution_count": 3,
   "id": "8ab913b6",
   "metadata": {},
   "outputs": [],
   "source": [
    "df= pd.read_csv(\"D:/avocado.csv\")"
   ]
  },
  {
   "cell_type": "code",
   "execution_count": 4,
   "id": "d938c5cb",
   "metadata": {},
   "outputs": [],
   "source": [
    "df = df.iloc[: , 1:]"
   ]
  },
  {
   "cell_type": "code",
   "execution_count": 5,
   "id": "ff8d4ac4",
   "metadata": {},
   "outputs": [
    {
     "data": {
      "text/html": [
       "<div>\n",
       "<style scoped>\n",
       "    .dataframe tbody tr th:only-of-type {\n",
       "        vertical-align: middle;\n",
       "    }\n",
       "\n",
       "    .dataframe tbody tr th {\n",
       "        vertical-align: top;\n",
       "    }\n",
       "\n",
       "    .dataframe thead th {\n",
       "        text-align: right;\n",
       "    }\n",
       "</style>\n",
       "<table border=\"1\" class=\"dataframe\">\n",
       "  <thead>\n",
       "    <tr style=\"text-align: right;\">\n",
       "      <th></th>\n",
       "      <th>Date</th>\n",
       "      <th>AveragePrice</th>\n",
       "      <th>Total Volume</th>\n",
       "      <th>4046</th>\n",
       "      <th>4225</th>\n",
       "      <th>4770</th>\n",
       "      <th>Total Bags</th>\n",
       "      <th>Small Bags</th>\n",
       "      <th>Large Bags</th>\n",
       "      <th>XLarge Bags</th>\n",
       "      <th>type</th>\n",
       "      <th>year</th>\n",
       "      <th>region</th>\n",
       "    </tr>\n",
       "  </thead>\n",
       "  <tbody>\n",
       "    <tr>\n",
       "      <th>0</th>\n",
       "      <td>27-12-2015</td>\n",
       "      <td>1.33</td>\n",
       "      <td>64236.62</td>\n",
       "      <td>1036.74</td>\n",
       "      <td>54454.85</td>\n",
       "      <td>48.16</td>\n",
       "      <td>8696.87</td>\n",
       "      <td>8603.62</td>\n",
       "      <td>93.25</td>\n",
       "      <td>0.0</td>\n",
       "      <td>conventional</td>\n",
       "      <td>2015</td>\n",
       "      <td>Albany</td>\n",
       "    </tr>\n",
       "    <tr>\n",
       "      <th>1</th>\n",
       "      <td>20-12-2015</td>\n",
       "      <td>1.35</td>\n",
       "      <td>54876.98</td>\n",
       "      <td>674.28</td>\n",
       "      <td>44638.81</td>\n",
       "      <td>58.33</td>\n",
       "      <td>9505.56</td>\n",
       "      <td>9408.07</td>\n",
       "      <td>97.49</td>\n",
       "      <td>0.0</td>\n",
       "      <td>conventional</td>\n",
       "      <td>2015</td>\n",
       "      <td>Albany</td>\n",
       "    </tr>\n",
       "    <tr>\n",
       "      <th>2</th>\n",
       "      <td>13-12-2015</td>\n",
       "      <td>0.93</td>\n",
       "      <td>118220.22</td>\n",
       "      <td>794.70</td>\n",
       "      <td>109149.67</td>\n",
       "      <td>130.50</td>\n",
       "      <td>8145.35</td>\n",
       "      <td>8042.21</td>\n",
       "      <td>103.14</td>\n",
       "      <td>0.0</td>\n",
       "      <td>conventional</td>\n",
       "      <td>2015</td>\n",
       "      <td>Albany</td>\n",
       "    </tr>\n",
       "  </tbody>\n",
       "</table>\n",
       "</div>"
      ],
      "text/plain": [
       "         Date  AveragePrice  Total Volume     4046       4225    4770  \\\n",
       "0  27-12-2015          1.33      64236.62  1036.74   54454.85   48.16   \n",
       "1  20-12-2015          1.35      54876.98   674.28   44638.81   58.33   \n",
       "2  13-12-2015          0.93     118220.22   794.70  109149.67  130.50   \n",
       "\n",
       "   Total Bags  Small Bags  Large Bags  XLarge Bags          type  year  region  \n",
       "0     8696.87     8603.62       93.25          0.0  conventional  2015  Albany  \n",
       "1     9505.56     9408.07       97.49          0.0  conventional  2015  Albany  \n",
       "2     8145.35     8042.21      103.14          0.0  conventional  2015  Albany  "
      ]
     },
     "execution_count": 5,
     "metadata": {},
     "output_type": "execute_result"
    }
   ],
   "source": [
    "df.head(3)"
   ]
  },
  {
   "cell_type": "code",
   "execution_count": 6,
   "id": "178bb78d",
   "metadata": {},
   "outputs": [
    {
     "data": {
      "text/plain": [
       "(18249, 13)"
      ]
     },
     "execution_count": 6,
     "metadata": {},
     "output_type": "execute_result"
    }
   ],
   "source": [
    "df.shape"
   ]
  },
  {
   "cell_type": "code",
   "execution_count": 7,
   "id": "d81d4b8f",
   "metadata": {},
   "outputs": [
    {
     "name": "stdout",
     "output_type": "stream",
     "text": [
      "<class 'pandas.core.frame.DataFrame'>\n",
      "RangeIndex: 18249 entries, 0 to 18248\n",
      "Data columns (total 13 columns):\n",
      " #   Column        Non-Null Count  Dtype  \n",
      "---  ------        --------------  -----  \n",
      " 0   Date          18249 non-null  object \n",
      " 1   AveragePrice  18249 non-null  float64\n",
      " 2   Total Volume  18249 non-null  float64\n",
      " 3   4046          18249 non-null  float64\n",
      " 4   4225          18249 non-null  float64\n",
      " 5   4770          18249 non-null  float64\n",
      " 6   Total Bags    18249 non-null  float64\n",
      " 7   Small Bags    18249 non-null  float64\n",
      " 8   Large Bags    18249 non-null  float64\n",
      " 9   XLarge Bags   18249 non-null  float64\n",
      " 10  type          18249 non-null  object \n",
      " 11  year          18249 non-null  int64  \n",
      " 12  region        18249 non-null  object \n",
      "dtypes: float64(9), int64(1), object(3)\n",
      "memory usage: 1.8+ MB\n"
     ]
    }
   ],
   "source": [
    "df.info()"
   ]
  },
  {
   "cell_type": "code",
   "execution_count": 8,
   "id": "d66d624e",
   "metadata": {},
   "outputs": [],
   "source": [
    "# We have 13 features here, No null value present in any of the feature\n",
    "# Date, type and region are of object type, categorical deatures\n",
    "# while others are float\n",
    "# year in integer"
   ]
  },
  {
   "cell_type": "code",
   "execution_count": 9,
   "id": "1bd9defe",
   "metadata": {},
   "outputs": [
    {
     "data": {
      "text/html": [
       "<div>\n",
       "<style scoped>\n",
       "    .dataframe tbody tr th:only-of-type {\n",
       "        vertical-align: middle;\n",
       "    }\n",
       "\n",
       "    .dataframe tbody tr th {\n",
       "        vertical-align: top;\n",
       "    }\n",
       "\n",
       "    .dataframe thead th {\n",
       "        text-align: right;\n",
       "    }\n",
       "</style>\n",
       "<table border=\"1\" class=\"dataframe\">\n",
       "  <thead>\n",
       "    <tr style=\"text-align: right;\">\n",
       "      <th></th>\n",
       "      <th>count</th>\n",
       "      <th>mean</th>\n",
       "      <th>std</th>\n",
       "      <th>min</th>\n",
       "      <th>25%</th>\n",
       "      <th>50%</th>\n",
       "      <th>75%</th>\n",
       "      <th>max</th>\n",
       "    </tr>\n",
       "  </thead>\n",
       "  <tbody>\n",
       "    <tr>\n",
       "      <th>AveragePrice</th>\n",
       "      <td>18249.0</td>\n",
       "      <td>1.405978</td>\n",
       "      <td>4.026766e-01</td>\n",
       "      <td>0.44</td>\n",
       "      <td>1.10</td>\n",
       "      <td>1.37</td>\n",
       "      <td>1.66</td>\n",
       "      <td>3.25</td>\n",
       "    </tr>\n",
       "    <tr>\n",
       "      <th>Total Volume</th>\n",
       "      <td>18249.0</td>\n",
       "      <td>850644.013009</td>\n",
       "      <td>3.453545e+06</td>\n",
       "      <td>84.56</td>\n",
       "      <td>10838.58</td>\n",
       "      <td>107376.76</td>\n",
       "      <td>432962.29</td>\n",
       "      <td>62505646.52</td>\n",
       "    </tr>\n",
       "    <tr>\n",
       "      <th>4046</th>\n",
       "      <td>18249.0</td>\n",
       "      <td>293008.424531</td>\n",
       "      <td>1.264989e+06</td>\n",
       "      <td>0.00</td>\n",
       "      <td>854.07</td>\n",
       "      <td>8645.30</td>\n",
       "      <td>111020.20</td>\n",
       "      <td>22743616.17</td>\n",
       "    </tr>\n",
       "    <tr>\n",
       "      <th>4225</th>\n",
       "      <td>18249.0</td>\n",
       "      <td>295154.568356</td>\n",
       "      <td>1.204120e+06</td>\n",
       "      <td>0.00</td>\n",
       "      <td>3008.78</td>\n",
       "      <td>29061.02</td>\n",
       "      <td>150206.86</td>\n",
       "      <td>20470572.61</td>\n",
       "    </tr>\n",
       "    <tr>\n",
       "      <th>4770</th>\n",
       "      <td>18249.0</td>\n",
       "      <td>22839.735993</td>\n",
       "      <td>1.074641e+05</td>\n",
       "      <td>0.00</td>\n",
       "      <td>0.00</td>\n",
       "      <td>184.99</td>\n",
       "      <td>6243.42</td>\n",
       "      <td>2546439.11</td>\n",
       "    </tr>\n",
       "    <tr>\n",
       "      <th>Total Bags</th>\n",
       "      <td>18249.0</td>\n",
       "      <td>239639.202060</td>\n",
       "      <td>9.862424e+05</td>\n",
       "      <td>0.00</td>\n",
       "      <td>5088.64</td>\n",
       "      <td>39743.83</td>\n",
       "      <td>110783.37</td>\n",
       "      <td>19373134.37</td>\n",
       "    </tr>\n",
       "    <tr>\n",
       "      <th>Small Bags</th>\n",
       "      <td>18249.0</td>\n",
       "      <td>182194.686696</td>\n",
       "      <td>7.461785e+05</td>\n",
       "      <td>0.00</td>\n",
       "      <td>2849.42</td>\n",
       "      <td>26362.82</td>\n",
       "      <td>83337.67</td>\n",
       "      <td>13384586.80</td>\n",
       "    </tr>\n",
       "    <tr>\n",
       "      <th>Large Bags</th>\n",
       "      <td>18249.0</td>\n",
       "      <td>54338.088145</td>\n",
       "      <td>2.439660e+05</td>\n",
       "      <td>0.00</td>\n",
       "      <td>127.47</td>\n",
       "      <td>2647.71</td>\n",
       "      <td>22029.25</td>\n",
       "      <td>5719096.61</td>\n",
       "    </tr>\n",
       "    <tr>\n",
       "      <th>XLarge Bags</th>\n",
       "      <td>18249.0</td>\n",
       "      <td>3106.426507</td>\n",
       "      <td>1.769289e+04</td>\n",
       "      <td>0.00</td>\n",
       "      <td>0.00</td>\n",
       "      <td>0.00</td>\n",
       "      <td>132.50</td>\n",
       "      <td>551693.65</td>\n",
       "    </tr>\n",
       "    <tr>\n",
       "      <th>year</th>\n",
       "      <td>18249.0</td>\n",
       "      <td>2016.147899</td>\n",
       "      <td>9.399385e-01</td>\n",
       "      <td>2015.00</td>\n",
       "      <td>2015.00</td>\n",
       "      <td>2016.00</td>\n",
       "      <td>2017.00</td>\n",
       "      <td>2018.00</td>\n",
       "    </tr>\n",
       "  </tbody>\n",
       "</table>\n",
       "</div>"
      ],
      "text/plain": [
       "                count           mean           std      min       25%  \\\n",
       "AveragePrice  18249.0       1.405978  4.026766e-01     0.44      1.10   \n",
       "Total Volume  18249.0  850644.013009  3.453545e+06    84.56  10838.58   \n",
       "4046          18249.0  293008.424531  1.264989e+06     0.00    854.07   \n",
       "4225          18249.0  295154.568356  1.204120e+06     0.00   3008.78   \n",
       "4770          18249.0   22839.735993  1.074641e+05     0.00      0.00   \n",
       "Total Bags    18249.0  239639.202060  9.862424e+05     0.00   5088.64   \n",
       "Small Bags    18249.0  182194.686696  7.461785e+05     0.00   2849.42   \n",
       "Large Bags    18249.0   54338.088145  2.439660e+05     0.00    127.47   \n",
       "XLarge Bags   18249.0    3106.426507  1.769289e+04     0.00      0.00   \n",
       "year          18249.0    2016.147899  9.399385e-01  2015.00   2015.00   \n",
       "\n",
       "                    50%        75%          max  \n",
       "AveragePrice       1.37       1.66         3.25  \n",
       "Total Volume  107376.76  432962.29  62505646.52  \n",
       "4046            8645.30  111020.20  22743616.17  \n",
       "4225           29061.02  150206.86  20470572.61  \n",
       "4770             184.99    6243.42   2546439.11  \n",
       "Total Bags     39743.83  110783.37  19373134.37  \n",
       "Small Bags     26362.82   83337.67  13384586.80  \n",
       "Large Bags      2647.71   22029.25   5719096.61  \n",
       "XLarge Bags        0.00     132.50    551693.65  \n",
       "year            2016.00    2017.00      2018.00  "
      ]
     },
     "execution_count": 9,
     "metadata": {},
     "output_type": "execute_result"
    }
   ],
   "source": [
    "df.describe().T"
   ]
  },
  {
   "cell_type": "code",
   "execution_count": 10,
   "id": "052702fd",
   "metadata": {},
   "outputs": [
    {
     "data": {
      "text/plain": [
       "Date            0\n",
       "AveragePrice    0\n",
       "Total Volume    0\n",
       "4046            0\n",
       "4225            0\n",
       "4770            0\n",
       "Total Bags      0\n",
       "Small Bags      0\n",
       "Large Bags      0\n",
       "XLarge Bags     0\n",
       "type            0\n",
       "year            0\n",
       "region          0\n",
       "dtype: int64"
      ]
     },
     "execution_count": 10,
     "metadata": {},
     "output_type": "execute_result"
    }
   ],
   "source": [
    "df.isnull().sum()"
   ]
  },
  {
   "cell_type": "code",
   "execution_count": 11,
   "id": "da8dfdbc",
   "metadata": {},
   "outputs": [
    {
     "data": {
      "text/plain": [
       "<AxesSubplot:>"
      ]
     },
     "execution_count": 11,
     "metadata": {},
     "output_type": "execute_result"
    },
    {
     "data": {
      "image/png": "[encoded data removed]",
      "text/plain": [
       "<Figure size 432x288 with 2 Axes>"
      ]
     },
     "metadata": {
      "needs_background": "light"
     },
     "output_type": "display_data"
    }
   ],
   "source": [
    "sns.heatmap(df.isnull())"
   ]
  },
  {
   "cell_type": "code",
   "execution_count": 12,
   "id": "731da0c3",
   "metadata": {},
   "outputs": [],
   "source": [
    "# No Null values present int he data"
   ]
  },
  {
   "cell_type": "code",
   "execution_count": 13,
   "id": "fb765105",
   "metadata": {},
   "outputs": [
    {
     "data": {
      "text/html": [
       "<div>\n",
       "<style scoped>\n",
       "    .dataframe tbody tr th:only-of-type {\n",
       "        vertical-align: middle;\n",
       "    }\n",
       "\n",
       "    .dataframe tbody tr th {\n",
       "        vertical-align: top;\n",
       "    }\n",
       "\n",
       "    .dataframe thead th {\n",
       "        text-align: right;\n",
       "    }\n",
       "</style>\n",
       "<table border=\"1\" class=\"dataframe\">\n",
       "  <thead>\n",
       "    <tr style=\"text-align: right;\">\n",
       "      <th></th>\n",
       "      <th>Date</th>\n",
       "      <th>AveragePrice</th>\n",
       "      <th>Total Volume</th>\n",
       "      <th>4046</th>\n",
       "      <th>4225</th>\n",
       "      <th>4770</th>\n",
       "      <th>Total Bags</th>\n",
       "      <th>Small Bags</th>\n",
       "      <th>Large Bags</th>\n",
       "      <th>XLarge Bags</th>\n",
       "      <th>type</th>\n",
       "      <th>year</th>\n",
       "      <th>region</th>\n",
       "    </tr>\n",
       "  </thead>\n",
       "  <tbody>\n",
       "    <tr>\n",
       "      <th>0</th>\n",
       "      <td>27-12-2015</td>\n",
       "      <td>1.33</td>\n",
       "      <td>64236.62</td>\n",
       "      <td>1036.74</td>\n",
       "      <td>54454.85</td>\n",
       "      <td>48.16</td>\n",
       "      <td>8696.87</td>\n",
       "      <td>8603.62</td>\n",
       "      <td>93.25</td>\n",
       "      <td>0.0</td>\n",
       "      <td>conventional</td>\n",
       "      <td>2015</td>\n",
       "      <td>Albany</td>\n",
       "    </tr>\n",
       "    <tr>\n",
       "      <th>1</th>\n",
       "      <td>20-12-2015</td>\n",
       "      <td>1.35</td>\n",
       "      <td>54876.98</td>\n",
       "      <td>674.28</td>\n",
       "      <td>44638.81</td>\n",
       "      <td>58.33</td>\n",
       "      <td>9505.56</td>\n",
       "      <td>9408.07</td>\n",
       "      <td>97.49</td>\n",
       "      <td>0.0</td>\n",
       "      <td>conventional</td>\n",
       "      <td>2015</td>\n",
       "      <td>Albany</td>\n",
       "    </tr>\n",
       "  </tbody>\n",
       "</table>\n",
       "</div>"
      ],
      "text/plain": [
       "         Date  AveragePrice  Total Volume     4046      4225   4770  \\\n",
       "0  27-12-2015          1.33      64236.62  1036.74  54454.85  48.16   \n",
       "1  20-12-2015          1.35      54876.98   674.28  44638.81  58.33   \n",
       "\n",
       "   Total Bags  Small Bags  Large Bags  XLarge Bags          type  year  region  \n",
       "0     8696.87     8603.62       93.25          0.0  conventional  2015  Albany  \n",
       "1     9505.56     9408.07       97.49          0.0  conventional  2015  Albany  "
      ]
     },
     "execution_count": 13,
     "metadata": {},
     "output_type": "execute_result"
    }
   ],
   "source": [
    "df.head(2)"
   ]
  },
  {
   "cell_type": "code",
   "execution_count": 14,
   "id": "2d547798",
   "metadata": {},
   "outputs": [
    {
     "data": {
      "text/plain": [
       "169"
      ]
     },
     "execution_count": 14,
     "metadata": {},
     "output_type": "execute_result"
    }
   ],
   "source": [
    "#Date:\n",
    "# Date - The date of the observation\n",
    "df['Date'].nunique()\n",
    "\n",
    "# 169 category out of 18249 records"
   ]
  },
  {
   "cell_type": "code",
   "execution_count": 15,
   "id": "43c68135",
   "metadata": {},
   "outputs": [
    {
     "data": {
      "text/plain": [
       "<AxesSubplot:xlabel='AveragePrice', ylabel='Density'>"
      ]
     },
     "execution_count": 15,
     "metadata": {},
     "output_type": "execute_result"
    },
    {
     "data": {
      "image/png": "[encoded data removed]",
      "text/plain": [
       "<Figure size 432x288 with 1 Axes>"
      ]
     },
     "metadata": {
      "needs_background": "light"
     },
     "output_type": "display_data"
    }
   ],
   "source": [
    "# Average Price\n",
    "sns.distplot(df['AveragePrice'])"
   ]
  },
  {
   "cell_type": "code",
   "execution_count": 16,
   "id": "b28c1ff7",
   "metadata": {},
   "outputs": [],
   "source": [
    "# Average price feature have right skewed data and, 2 bumps near mean"
   ]
  },
  {
   "cell_type": "code",
   "execution_count": 17,
   "id": "01c6a9b5",
   "metadata": {},
   "outputs": [
    {
     "data": {
      "text/plain": [
       "<AxesSubplot:xlabel='Total Volume', ylabel='year'>"
      ]
     },
     "execution_count": 17,
     "metadata": {},
     "output_type": "execute_result"
    },
    {
     "data": {
      "image/png": "[encoded data removed]",
      "text/plain": [
       "<Figure size 432x288 with 1 Axes>"
      ]
     },
     "metadata": {
      "needs_background": "light"
     },
     "output_type": "display_data"
    }
   ],
   "source": [
    "# Total Volume :   total number of avacado cold\n",
    "sns.scatterplot('Total Volume','year',data=df)"
   ]
  },
  {
   "cell_type": "code",
   "execution_count": 18,
   "id": "3b38563e",
   "metadata": {},
   "outputs": [
    {
     "data": {
      "text/plain": [
       "array([2015, 2016, 2017, 2018], dtype=int64)"
      ]
     },
     "execution_count": 18,
     "metadata": {},
     "output_type": "execute_result"
    }
   ],
   "source": [
    "# Year\n",
    "df['year'].unique()"
   ]
  },
  {
   "cell_type": "code",
   "execution_count": 19,
   "id": "825d1275",
   "metadata": {},
   "outputs": [],
   "source": [
    "# we have records of sales of Avacado in 2015-2018 year"
   ]
  },
  {
   "cell_type": "code",
   "execution_count": 20,
   "id": "a26f7843",
   "metadata": {},
   "outputs": [
    {
     "data": {
      "text/plain": [
       "<AxesSubplot:xlabel='year', ylabel='Total Volume'>"
      ]
     },
     "execution_count": 20,
     "metadata": {},
     "output_type": "execute_result"
    },
    {
     "data": {
      "image/png": "[encoded data removed]",
      "text/plain": [
       "<Figure size 432x288 with 1 Axes>"
      ]
     },
     "metadata": {
      "needs_background": "light"
     },
     "output_type": "display_data"
    }
   ],
   "source": [
    "sns.barplot(y='Total Volume',x='year', data=df)"
   ]
  },
  {
   "cell_type": "code",
   "execution_count": 21,
   "id": "08b40088",
   "metadata": {},
   "outputs": [
    {
     "data": {
      "text/plain": [
       "year\n",
       "2015    4.385469e+09\n",
       "2016    4.820890e+09\n",
       "2017    4.934306e+09\n",
       "2018    1.382738e+09\n",
       "Name: Total Volume, dtype: float64"
      ]
     },
     "execution_count": 21,
     "metadata": {},
     "output_type": "execute_result"
    }
   ],
   "source": [
    "df.groupby('year')['Total Volume'].sum()"
   ]
  },
  {
   "cell_type": "code",
   "execution_count": 22,
   "id": "7b98eab6",
   "metadata": {},
   "outputs": [],
   "source": [
    "# Total avacado sales increases by year."
   ]
  },
  {
   "cell_type": "code",
   "execution_count": 23,
   "id": "4612a4df",
   "metadata": {},
   "outputs": [
    {
     "data": {
      "text/html": [
       "<div>\n",
       "<style scoped>\n",
       "    .dataframe tbody tr th:only-of-type {\n",
       "        vertical-align: middle;\n",
       "    }\n",
       "\n",
       "    .dataframe tbody tr th {\n",
       "        vertical-align: top;\n",
       "    }\n",
       "\n",
       "    .dataframe thead th {\n",
       "        text-align: right;\n",
       "    }\n",
       "</style>\n",
       "<table border=\"1\" class=\"dataframe\">\n",
       "  <thead>\n",
       "    <tr style=\"text-align: right;\">\n",
       "      <th></th>\n",
       "      <th>Date</th>\n",
       "      <th>AveragePrice</th>\n",
       "      <th>Total Volume</th>\n",
       "      <th>4046</th>\n",
       "      <th>4225</th>\n",
       "      <th>4770</th>\n",
       "      <th>Total Bags</th>\n",
       "      <th>Small Bags</th>\n",
       "      <th>Large Bags</th>\n",
       "      <th>XLarge Bags</th>\n",
       "      <th>type</th>\n",
       "      <th>year</th>\n",
       "      <th>region</th>\n",
       "    </tr>\n",
       "  </thead>\n",
       "  <tbody>\n",
       "    <tr>\n",
       "      <th>0</th>\n",
       "      <td>27-12-2015</td>\n",
       "      <td>1.33</td>\n",
       "      <td>64236.62</td>\n",
       "      <td>1036.74</td>\n",
       "      <td>54454.85</td>\n",
       "      <td>48.16</td>\n",
       "      <td>8696.87</td>\n",
       "      <td>8603.62</td>\n",
       "      <td>93.25</td>\n",
       "      <td>0.0</td>\n",
       "      <td>conventional</td>\n",
       "      <td>2015</td>\n",
       "      <td>Albany</td>\n",
       "    </tr>\n",
       "    <tr>\n",
       "      <th>1</th>\n",
       "      <td>20-12-2015</td>\n",
       "      <td>1.35</td>\n",
       "      <td>54876.98</td>\n",
       "      <td>674.28</td>\n",
       "      <td>44638.81</td>\n",
       "      <td>58.33</td>\n",
       "      <td>9505.56</td>\n",
       "      <td>9408.07</td>\n",
       "      <td>97.49</td>\n",
       "      <td>0.0</td>\n",
       "      <td>conventional</td>\n",
       "      <td>2015</td>\n",
       "      <td>Albany</td>\n",
       "    </tr>\n",
       "  </tbody>\n",
       "</table>\n",
       "</div>"
      ],
      "text/plain": [
       "         Date  AveragePrice  Total Volume     4046      4225   4770  \\\n",
       "0  27-12-2015          1.33      64236.62  1036.74  54454.85  48.16   \n",
       "1  20-12-2015          1.35      54876.98   674.28  44638.81  58.33   \n",
       "\n",
       "   Total Bags  Small Bags  Large Bags  XLarge Bags          type  year  region  \n",
       "0     8696.87     8603.62       93.25          0.0  conventional  2015  Albany  \n",
       "1     9505.56     9408.07       97.49          0.0  conventional  2015  Albany  "
      ]
     },
     "execution_count": 23,
     "metadata": {},
     "output_type": "execute_result"
    }
   ],
   "source": [
    "df.head(2)"
   ]
  },
  {
   "cell_type": "code",
   "execution_count": 24,
   "id": "7a20fc77",
   "metadata": {},
   "outputs": [],
   "source": [
    "# Average price Exploration"
   ]
  },
  {
   "cell_type": "code",
   "execution_count": 25,
   "id": "f86d4448",
   "metadata": {},
   "outputs": [
    {
     "data": {
      "text/plain": [
       "259"
      ]
     },
     "execution_count": 25,
     "metadata": {},
     "output_type": "execute_result"
    }
   ],
   "source": [
    "df['AveragePrice'].nunique()"
   ]
  },
  {
   "cell_type": "code",
   "execution_count": 26,
   "id": "528654c9",
   "metadata": {},
   "outputs": [],
   "source": [
    "# we have 3 varity of avacade,  Product Lookup Code  PLU\n",
    "# 4046 , 4225 , 4770"
   ]
  },
  {
   "cell_type": "code",
   "execution_count": 27,
   "id": "f0de1974",
   "metadata": {},
   "outputs": [
    {
     "data": {
      "text/plain": [
       "type\n",
       "conventional    1.158040\n",
       "organic         1.653999\n",
       "Name: AveragePrice, dtype: float64"
      ]
     },
     "execution_count": 27,
     "metadata": {},
     "output_type": "execute_result"
    }
   ],
   "source": [
    "# Find Average price by type of avacado\n",
    "\n",
    "df.groupby('type')['AveragePrice'].mean()"
   ]
  },
  {
   "cell_type": "code",
   "execution_count": 28,
   "id": "7dd8f6ab",
   "metadata": {},
   "outputs": [
    {
     "data": {
      "text/plain": [
       "([<matplotlib.patches.Wedge at 0x2c6f7f54580>,\n",
       "  <matplotlib.patches.Wedge at 0x2c6f7f54d00>],\n",
       " [Text(0.300862058141864, 1.0580557745084338, 'conventional'),\n",
       "  Text(-0.30086215720419374, -1.0580557463396905, 'organic')],\n",
       " [Text(0.16410657716828944, 0.5771213315500547, '41.18%'),\n",
       "  Text(-0.1641066312022875, -0.5771213161852856, '58.82%')])"
      ]
     },
     "execution_count": 28,
     "metadata": {},
     "output_type": "execute_result"
    },
    {
     "data": {
      "image/png": "[encoded data removed]",
      "text/plain": [
       "<Figure size 432x288 with 1 Axes>"
      ]
     },
     "metadata": {},
     "output_type": "display_data"
    }
   ],
   "source": [
    "plt.pie( df.groupby('type')['AveragePrice'].mean().values, labels= df.groupby('type')['AveragePrice'].mean().index, autopct='%1.2f%%'  )"
   ]
  },
  {
   "cell_type": "code",
   "execution_count": 29,
   "id": "931625a8",
   "metadata": {},
   "outputs": [
    {
     "data": {
      "text/plain": [
       "type\n",
       "conventional    1.508722e+10\n",
       "organic         4.361817e+08\n",
       "Name: Total Volume, dtype: float64"
      ]
     },
     "execution_count": 29,
     "metadata": {},
     "output_type": "execute_result"
    }
   ],
   "source": [
    "# Which type sold more, if price have any impact on sold\n",
    "\n",
    "df.groupby('type')['Total Volume'].sum()"
   ]
  },
  {
   "cell_type": "code",
   "execution_count": 30,
   "id": "9ec07433",
   "metadata": {},
   "outputs": [
    {
     "data": {
      "text/plain": [
       "array(['conventional', 'organic'], dtype=object)"
      ]
     },
     "execution_count": 30,
     "metadata": {},
     "output_type": "execute_result"
    }
   ],
   "source": [
    "df['type'].unique()"
   ]
  },
  {
   "cell_type": "code",
   "execution_count": 31,
   "id": "80d44d13",
   "metadata": {},
   "outputs": [
    {
     "data": {
      "text/plain": [
       "<AxesSubplot:xlabel='year', ylabel='Total Volume'>"
      ]
     },
     "execution_count": 31,
     "metadata": {},
     "output_type": "execute_result"
    },
    {
     "data": {
      "image/png": "[encoded data removed]",
      "text/plain": [
       "<Figure size 432x288 with 1 Axes>"
      ]
     },
     "metadata": {
      "needs_background": "light"
     },
     "output_type": "display_data"
    }
   ],
   "source": [
    "# Total sale by year by type\n",
    "sns.barplot(y='Total Volume',x='year',hue='type', data=df)"
   ]
  },
  {
   "cell_type": "code",
   "execution_count": 32,
   "id": "5d4b6e0b",
   "metadata": {},
   "outputs": [],
   "source": [
    "# Sales of avacado increased by year"
   ]
  },
  {
   "cell_type": "code",
   "execution_count": 33,
   "id": "5fd12c60",
   "metadata": {},
   "outputs": [
    {
     "data": {
      "text/plain": [
       "54"
      ]
     },
     "execution_count": 33,
     "metadata": {},
     "output_type": "execute_result"
    }
   ],
   "source": [
    "# Which type sold in which area\n",
    "\n",
    "df['region'].nunique()"
   ]
  },
  {
   "cell_type": "code",
   "execution_count": 34,
   "id": "3a47af89",
   "metadata": {},
   "outputs": [
    {
     "data": {
      "text/plain": [
       "region               type        \n",
       "Albany               conventional    1.348757\n",
       "                     organic         1.773314\n",
       "Atlanta              conventional    1.068817\n",
       "                     organic         1.607101\n",
       "BaltimoreWashington  conventional    1.344201\n",
       "                     organic         1.724260\n",
       "Boise                conventional    1.076036\n",
       "                     organic         1.620237\n",
       "Boston               conventional    1.304379\n",
       "                     organic         1.757396\n",
       "BuffaloRochester     conventional    1.382308\n",
       "                     organic         1.651361\n",
       "California           conventional    1.105444\n",
       "                     organic         1.685207\n",
       "Charlotte            conventional    1.275089\n",
       "                     organic         1.936982\n",
       "Chicago              conventional    1.369349\n",
       "                     organic         1.744201\n",
       "CincinnatiDayton     conventional    1.015503\n",
       "                     organic         1.402899\n",
       "Columbus             conventional    1.066272\n",
       "                     organic         1.439290\n",
       "DallasFtWorth        conventional    0.846450\n",
       "                     organic         1.324734\n",
       "Denver               conventional    1.073964\n",
       "                     organic         1.363195\n",
       "Detroit              conventional    1.123964\n",
       "                     organic         1.428225\n",
       "GrandRapids          conventional    1.325030\n",
       "                     organic         1.684970\n",
       "GreatLakes           conventional    1.181893\n",
       "                     organic         1.495207\n",
       "HarrisburgScranton   conventional    1.258817\n",
       "                     organic         1.767751\n",
       "HartfordSpringfield  conventional    1.408047\n",
       "                     organic         2.229231\n",
       "Houston              conventional    0.825089\n",
       "                     organic         1.270769\n",
       "Indianapolis         conventional    1.144852\n",
       "                     organic         1.483136\n",
       "Jacksonville         conventional    1.193609\n",
       "                     organic         1.828284\n",
       "LasVegas             conventional    1.012959\n",
       "                     organic         1.748876\n",
       "LosAngeles           conventional    0.976450\n",
       "                     organic         1.455562\n",
       "Louisville           conventional    1.105325\n",
       "                     organic         1.468047\n",
       "MiamiFtLauderdale    conventional    1.254320\n",
       "                     organic         1.602663\n",
       "Midsouth             conventional    1.207160\n",
       "                     organic         1.602367\n",
       "Nashville            conventional    1.012899\n",
       "                     organic         1.411302\n",
       "NewOrleansMobile     conventional    1.085266\n",
       "                     organic         1.524320\n",
       "NewYork              conventional    1.402130\n",
       "                     organic         2.053018\n",
       "Northeast            conventional    1.344438\n",
       "                     organic         1.859408\n",
       "Name: AveragePrice, dtype: float64"
      ]
     },
     "execution_count": 34,
     "metadata": {},
     "output_type": "execute_result"
    }
   ],
   "source": [
    "df.groupby(['region','type'])['AveragePrice'].mean().head(60)"
   ]
  },
  {
   "cell_type": "code",
   "execution_count": 35,
   "id": "0f5d94ea",
   "metadata": {},
   "outputs": [
    {
     "data": {
      "text/html": [
       "<div>\n",
       "<style scoped>\n",
       "    .dataframe tbody tr th:only-of-type {\n",
       "        vertical-align: middle;\n",
       "    }\n",
       "\n",
       "    .dataframe tbody tr th {\n",
       "        vertical-align: top;\n",
       "    }\n",
       "\n",
       "    .dataframe thead th {\n",
       "        text-align: right;\n",
       "    }\n",
       "</style>\n",
       "<table border=\"1\" class=\"dataframe\">\n",
       "  <thead>\n",
       "    <tr style=\"text-align: right;\">\n",
       "      <th></th>\n",
       "      <th>Date</th>\n",
       "      <th>AveragePrice</th>\n",
       "      <th>Total Volume</th>\n",
       "      <th>4046</th>\n",
       "      <th>4225</th>\n",
       "      <th>4770</th>\n",
       "      <th>Total Bags</th>\n",
       "      <th>Small Bags</th>\n",
       "      <th>Large Bags</th>\n",
       "      <th>XLarge Bags</th>\n",
       "      <th>type</th>\n",
       "      <th>year</th>\n",
       "      <th>region</th>\n",
       "    </tr>\n",
       "  </thead>\n",
       "  <tbody>\n",
       "    <tr>\n",
       "      <th>0</th>\n",
       "      <td>27-12-2015</td>\n",
       "      <td>1.33</td>\n",
       "      <td>64236.62</td>\n",
       "      <td>1036.74</td>\n",
       "      <td>54454.85</td>\n",
       "      <td>48.16</td>\n",
       "      <td>8696.87</td>\n",
       "      <td>8603.62</td>\n",
       "      <td>93.25</td>\n",
       "      <td>0.0</td>\n",
       "      <td>conventional</td>\n",
       "      <td>2015</td>\n",
       "      <td>Albany</td>\n",
       "    </tr>\n",
       "    <tr>\n",
       "      <th>1</th>\n",
       "      <td>20-12-2015</td>\n",
       "      <td>1.35</td>\n",
       "      <td>54876.98</td>\n",
       "      <td>674.28</td>\n",
       "      <td>44638.81</td>\n",
       "      <td>58.33</td>\n",
       "      <td>9505.56</td>\n",
       "      <td>9408.07</td>\n",
       "      <td>97.49</td>\n",
       "      <td>0.0</td>\n",
       "      <td>conventional</td>\n",
       "      <td>2015</td>\n",
       "      <td>Albany</td>\n",
       "    </tr>\n",
       "    <tr>\n",
       "      <th>2</th>\n",
       "      <td>13-12-2015</td>\n",
       "      <td>0.93</td>\n",
       "      <td>118220.22</td>\n",
       "      <td>794.70</td>\n",
       "      <td>109149.67</td>\n",
       "      <td>130.50</td>\n",
       "      <td>8145.35</td>\n",
       "      <td>8042.21</td>\n",
       "      <td>103.14</td>\n",
       "      <td>0.0</td>\n",
       "      <td>conventional</td>\n",
       "      <td>2015</td>\n",
       "      <td>Albany</td>\n",
       "    </tr>\n",
       "    <tr>\n",
       "      <th>3</th>\n",
       "      <td>06-12-2015</td>\n",
       "      <td>1.08</td>\n",
       "      <td>78992.15</td>\n",
       "      <td>1132.00</td>\n",
       "      <td>71976.41</td>\n",
       "      <td>72.58</td>\n",
       "      <td>5811.16</td>\n",
       "      <td>5677.40</td>\n",
       "      <td>133.76</td>\n",
       "      <td>0.0</td>\n",
       "      <td>conventional</td>\n",
       "      <td>2015</td>\n",
       "      <td>Albany</td>\n",
       "    </tr>\n",
       "    <tr>\n",
       "      <th>4</th>\n",
       "      <td>29-11-2015</td>\n",
       "      <td>1.28</td>\n",
       "      <td>51039.60</td>\n",
       "      <td>941.48</td>\n",
       "      <td>43838.39</td>\n",
       "      <td>75.78</td>\n",
       "      <td>6183.95</td>\n",
       "      <td>5986.26</td>\n",
       "      <td>197.69</td>\n",
       "      <td>0.0</td>\n",
       "      <td>conventional</td>\n",
       "      <td>2015</td>\n",
       "      <td>Albany</td>\n",
       "    </tr>\n",
       "  </tbody>\n",
       "</table>\n",
       "</div>"
      ],
      "text/plain": [
       "         Date  AveragePrice  Total Volume     4046       4225    4770  \\\n",
       "0  27-12-2015          1.33      64236.62  1036.74   54454.85   48.16   \n",
       "1  20-12-2015          1.35      54876.98   674.28   44638.81   58.33   \n",
       "2  13-12-2015          0.93     118220.22   794.70  109149.67  130.50   \n",
       "3  06-12-2015          1.08      78992.15  1132.00   71976.41   72.58   \n",
       "4  29-11-2015          1.28      51039.60   941.48   43838.39   75.78   \n",
       "\n",
       "   Total Bags  Small Bags  Large Bags  XLarge Bags          type  year  region  \n",
       "0     8696.87     8603.62       93.25          0.0  conventional  2015  Albany  \n",
       "1     9505.56     9408.07       97.49          0.0  conventional  2015  Albany  \n",
       "2     8145.35     8042.21      103.14          0.0  conventional  2015  Albany  \n",
       "3     5811.16     5677.40      133.76          0.0  conventional  2015  Albany  \n",
       "4     6183.95     5986.26      197.69          0.0  conventional  2015  Albany  "
      ]
     },
     "execution_count": 35,
     "metadata": {},
     "output_type": "execute_result"
    }
   ],
   "source": [
    "df.head(5)"
   ]
  },
  {
   "cell_type": "code",
   "execution_count": 36,
   "id": "cbf5803c",
   "metadata": {},
   "outputs": [
    {
     "data": {
      "text/plain": [
       "<AxesSubplot:xlabel='year', ylabel='AveragePrice'>"
      ]
     },
     "execution_count": 36,
     "metadata": {},
     "output_type": "execute_result"
    },
    {
     "data": {
      "image/png": "[encoded data removed]",
      "text/plain": [
       "<Figure size 432x288 with 1 Axes>"
      ]
     },
     "metadata": {
      "needs_background": "light"
     },
     "output_type": "display_data"
    }
   ],
   "source": [
    "sns.scatterplot('year','AveragePrice', data=df)"
   ]
  },
  {
   "cell_type": "code",
   "execution_count": 37,
   "id": "33e453f7",
   "metadata": {},
   "outputs": [
    {
     "data": {
      "text/plain": [
       "year\n",
       "2015    1.375590\n",
       "2016    1.338640\n",
       "2017    1.515128\n",
       "2018    1.347531\n",
       "Name: AveragePrice, dtype: float64"
      ]
     },
     "execution_count": 37,
     "metadata": {},
     "output_type": "execute_result"
    }
   ],
   "source": [
    "df.groupby('year')['AveragePrice'].mean()"
   ]
  },
  {
   "cell_type": "code",
   "execution_count": 38,
   "id": "aa2d7f5b",
   "metadata": {},
   "outputs": [
    {
     "data": {
      "text/plain": [
       "[<matplotlib.lines.Line2D at 0x2c6f80a2760>]"
      ]
     },
     "execution_count": 38,
     "metadata": {},
     "output_type": "execute_result"
    },
    {
     "data": {
      "image/png": "[encoded data removed]",
      "text/plain": [
       "<Figure size 432x288 with 1 Axes>"
      ]
     },
     "metadata": {
      "needs_background": "light"
     },
     "output_type": "display_data"
    }
   ],
   "source": [
    "plt.plot(df.groupby('year')['AveragePrice'].mean().index, df.groupby('year')['AveragePrice'].mean().values  )"
   ]
  },
  {
   "cell_type": "code",
   "execution_count": 39,
   "id": "7a426656",
   "metadata": {},
   "outputs": [
    {
     "data": {
      "text/plain": [
       "<AxesSubplot:xlabel='Total Volume', ylabel='AveragePrice'>"
      ]
     },
     "execution_count": 39,
     "metadata": {},
     "output_type": "execute_result"
    },
    {
     "data": {
      "image/png": "[encoded data removed]",
      "text/plain": [
       "<Figure size 432x288 with 1 Axes>"
      ]
     },
     "metadata": {
      "needs_background": "light"
     },
     "output_type": "display_data"
    }
   ],
   "source": [
    "sns.scatterplot('Total Volume','AveragePrice',hue='type',data=df)"
   ]
  },
  {
   "cell_type": "code",
   "execution_count": 40,
   "id": "d73276e7",
   "metadata": {},
   "outputs": [
    {
     "data": {
      "text/html": [
       "<div>\n",
       "<style scoped>\n",
       "    .dataframe tbody tr th:only-of-type {\n",
       "        vertical-align: middle;\n",
       "    }\n",
       "\n",
       "    .dataframe tbody tr th {\n",
       "        vertical-align: top;\n",
       "    }\n",
       "\n",
       "    .dataframe thead th {\n",
       "        text-align: right;\n",
       "    }\n",
       "</style>\n",
       "<table border=\"1\" class=\"dataframe\">\n",
       "  <thead>\n",
       "    <tr style=\"text-align: right;\">\n",
       "      <th></th>\n",
       "      <th>Date</th>\n",
       "      <th>AveragePrice</th>\n",
       "      <th>Total Volume</th>\n",
       "      <th>4046</th>\n",
       "      <th>4225</th>\n",
       "      <th>4770</th>\n",
       "      <th>Total Bags</th>\n",
       "      <th>Small Bags</th>\n",
       "      <th>Large Bags</th>\n",
       "      <th>XLarge Bags</th>\n",
       "      <th>type</th>\n",
       "      <th>year</th>\n",
       "      <th>region</th>\n",
       "    </tr>\n",
       "  </thead>\n",
       "  <tbody>\n",
       "    <tr>\n",
       "      <th>0</th>\n",
       "      <td>27-12-2015</td>\n",
       "      <td>1.33</td>\n",
       "      <td>64236.62</td>\n",
       "      <td>1036.74</td>\n",
       "      <td>54454.85</td>\n",
       "      <td>48.16</td>\n",
       "      <td>8696.87</td>\n",
       "      <td>8603.62</td>\n",
       "      <td>93.25</td>\n",
       "      <td>0.0</td>\n",
       "      <td>conventional</td>\n",
       "      <td>2015</td>\n",
       "      <td>Albany</td>\n",
       "    </tr>\n",
       "    <tr>\n",
       "      <th>1</th>\n",
       "      <td>20-12-2015</td>\n",
       "      <td>1.35</td>\n",
       "      <td>54876.98</td>\n",
       "      <td>674.28</td>\n",
       "      <td>44638.81</td>\n",
       "      <td>58.33</td>\n",
       "      <td>9505.56</td>\n",
       "      <td>9408.07</td>\n",
       "      <td>97.49</td>\n",
       "      <td>0.0</td>\n",
       "      <td>conventional</td>\n",
       "      <td>2015</td>\n",
       "      <td>Albany</td>\n",
       "    </tr>\n",
       "    <tr>\n",
       "      <th>2</th>\n",
       "      <td>13-12-2015</td>\n",
       "      <td>0.93</td>\n",
       "      <td>118220.22</td>\n",
       "      <td>794.70</td>\n",
       "      <td>109149.67</td>\n",
       "      <td>130.50</td>\n",
       "      <td>8145.35</td>\n",
       "      <td>8042.21</td>\n",
       "      <td>103.14</td>\n",
       "      <td>0.0</td>\n",
       "      <td>conventional</td>\n",
       "      <td>2015</td>\n",
       "      <td>Albany</td>\n",
       "    </tr>\n",
       "    <tr>\n",
       "      <th>3</th>\n",
       "      <td>06-12-2015</td>\n",
       "      <td>1.08</td>\n",
       "      <td>78992.15</td>\n",
       "      <td>1132.00</td>\n",
       "      <td>71976.41</td>\n",
       "      <td>72.58</td>\n",
       "      <td>5811.16</td>\n",
       "      <td>5677.40</td>\n",
       "      <td>133.76</td>\n",
       "      <td>0.0</td>\n",
       "      <td>conventional</td>\n",
       "      <td>2015</td>\n",
       "      <td>Albany</td>\n",
       "    </tr>\n",
       "    <tr>\n",
       "      <th>4</th>\n",
       "      <td>29-11-2015</td>\n",
       "      <td>1.28</td>\n",
       "      <td>51039.60</td>\n",
       "      <td>941.48</td>\n",
       "      <td>43838.39</td>\n",
       "      <td>75.78</td>\n",
       "      <td>6183.95</td>\n",
       "      <td>5986.26</td>\n",
       "      <td>197.69</td>\n",
       "      <td>0.0</td>\n",
       "      <td>conventional</td>\n",
       "      <td>2015</td>\n",
       "      <td>Albany</td>\n",
       "    </tr>\n",
       "  </tbody>\n",
       "</table>\n",
       "</div>"
      ],
      "text/plain": [
       "         Date  AveragePrice  Total Volume     4046       4225    4770  \\\n",
       "0  27-12-2015          1.33      64236.62  1036.74   54454.85   48.16   \n",
       "1  20-12-2015          1.35      54876.98   674.28   44638.81   58.33   \n",
       "2  13-12-2015          0.93     118220.22   794.70  109149.67  130.50   \n",
       "3  06-12-2015          1.08      78992.15  1132.00   71976.41   72.58   \n",
       "4  29-11-2015          1.28      51039.60   941.48   43838.39   75.78   \n",
       "\n",
       "   Total Bags  Small Bags  Large Bags  XLarge Bags          type  year  region  \n",
       "0     8696.87     8603.62       93.25          0.0  conventional  2015  Albany  \n",
       "1     9505.56     9408.07       97.49          0.0  conventional  2015  Albany  \n",
       "2     8145.35     8042.21      103.14          0.0  conventional  2015  Albany  \n",
       "3     5811.16     5677.40      133.76          0.0  conventional  2015  Albany  \n",
       "4     6183.95     5986.26      197.69          0.0  conventional  2015  Albany  "
      ]
     },
     "execution_count": 40,
     "metadata": {},
     "output_type": "execute_result"
    }
   ],
   "source": [
    "df.head()"
   ]
  },
  {
   "cell_type": "code",
   "execution_count": 41,
   "id": "473da826",
   "metadata": {},
   "outputs": [
    {
     "data": {
      "text/plain": [
       "([<matplotlib.axis.YTick at 0x2c6f8156be0>,\n",
       "  <matplotlib.axis.YTick at 0x2c6f8156460>,\n",
       "  <matplotlib.axis.YTick at 0x2c6f815b310>,\n",
       "  <matplotlib.axis.YTick at 0x2c6f93398e0>,\n",
       "  <matplotlib.axis.YTick at 0x2c6f932f130>,\n",
       "  <matplotlib.axis.YTick at 0x2c6f9339790>,\n",
       "  <matplotlib.axis.YTick at 0x2c6f932f970>,\n",
       "  <matplotlib.axis.YTick at 0x2c6f9329100>,\n",
       "  <matplotlib.axis.YTick at 0x2c6f9329850>,\n",
       "  <matplotlib.axis.YTick at 0x2c6f93230a0>,\n",
       "  <matplotlib.axis.YTick at 0x2c6f9323730>,\n",
       "  <matplotlib.axis.YTick at 0x2c6f9329b50>],\n",
       " [Text(0, 0, ''),\n",
       "  Text(0, 0, ''),\n",
       "  Text(0, 0, ''),\n",
       "  Text(0, 0, ''),\n",
       "  Text(0, 0, ''),\n",
       "  Text(0, 0, ''),\n",
       "  Text(0, 0, ''),\n",
       "  Text(0, 0, ''),\n",
       "  Text(0, 0, ''),\n",
       "  Text(0, 0, ''),\n",
       "  Text(0, 0, ''),\n",
       "  Text(0, 0, '')])"
      ]
     },
     "execution_count": 41,
     "metadata": {},
     "output_type": "execute_result"
    },
    {
     "data": {
      "image/png": "[encoded data removed]",
      "text/plain": [
       "<Figure size 432x288 with 1 Axes>"
      ]
     },
     "metadata": {
      "needs_background": "light"
     },
     "output_type": "display_data"
    }
   ],
   "source": [
    "# Avacado category wise\n",
    "\n",
    "plt.bar(  ['4046','4225','4770'],[df['4046'].sum(),df['4225'].sum(),df['4770'].sum()])\n",
    "plt.yticks(range(1,6000000000,500000000))"
   ]
  },
  {
   "cell_type": "code",
   "execution_count": 42,
   "id": "97ff4969",
   "metadata": {},
   "outputs": [
    {
     "data": {
      "text/plain": [
       "5347110739.26"
      ]
     },
     "execution_count": 42,
     "metadata": {},
     "output_type": "execute_result"
    }
   ],
   "source": [
    "df['4046'].sum()"
   ]
  },
  {
   "cell_type": "code",
   "execution_count": 43,
   "id": "1c31121a",
   "metadata": {},
   "outputs": [
    {
     "data": {
      "text/plain": [
       "5386275717.93"
      ]
     },
     "execution_count": 43,
     "metadata": {},
     "output_type": "execute_result"
    }
   ],
   "source": [
    "df['4225'].sum()"
   ]
  },
  {
   "cell_type": "code",
   "execution_count": 44,
   "id": "83de1234",
   "metadata": {},
   "outputs": [
    {
     "data": {
      "text/plain": [
       "416802342.12999994"
      ]
     },
     "execution_count": 44,
     "metadata": {},
     "output_type": "execute_result"
    }
   ],
   "source": [
    "df['4770'].sum()"
   ]
  },
  {
   "cell_type": "code",
   "execution_count": 47,
   "id": "032b591a",
   "metadata": {},
   "outputs": [
    {
     "data": {
      "text/plain": [
       "year  type        \n",
       "2015  conventional    2808\n",
       "      organic         2807\n",
       "2016  conventional    2808\n",
       "      organic         2808\n",
       "2017  conventional    2862\n",
       "      organic         2860\n",
       "2018  conventional     648\n",
       "      organic          648\n",
       "Name: type, dtype: int64"
      ]
     },
     "execution_count": 47,
     "metadata": {},
     "output_type": "execute_result"
    }
   ],
   "source": [
    "# how much avacaddo sell per year\n",
    "\n",
    "df.groupby('year')['type'].value_counts()"
   ]
  },
  {
   "cell_type": "code",
   "execution_count": 51,
   "id": "9ed1508d",
   "metadata": {},
   "outputs": [],
   "source": [
    "df['Date'] = pd.to_datetime(df['Date'])"
   ]
  },
  {
   "cell_type": "code",
   "execution_count": 49,
   "id": "fc195832",
   "metadata": {},
   "outputs": [
    {
     "data": {
      "text/plain": [
       "0        12\n",
       "1        12\n",
       "2        12\n",
       "3         6\n",
       "4        11\n",
       "         ..\n",
       "18244     4\n",
       "18245     1\n",
       "18246     1\n",
       "18247     1\n",
       "18248     7\n",
       "Name: Date, Length: 18249, dtype: int64"
      ]
     },
     "execution_count": 49,
     "metadata": {},
     "output_type": "execute_result"
    }
   ],
   "source": [
    "df['Date'].dt.month"
   ]
  },
  {
   "cell_type": "code",
   "execution_count": 50,
   "id": "2903771d",
   "metadata": {},
   "outputs": [],
   "source": [
    "df['Month']=df['Date'].dt.month"
   ]
  },
  {
   "cell_type": "code",
   "execution_count": 52,
   "id": "673047da",
   "metadata": {},
   "outputs": [
    {
     "data": {
      "text/plain": [
       "<AxesSubplot:xlabel='Month', ylabel='AveragePrice'>"
      ]
     },
     "execution_count": 52,
     "metadata": {},
     "output_type": "execute_result"
    },
    {
     "data": {
      "image/png": "[encoded data removed]",
      "text/plain": [
       "<Figure size 432x288 with 1 Axes>"
      ]
     },
     "metadata": {
      "needs_background": "light"
     },
     "output_type": "display_data"
    }
   ],
   "source": [
    "sns.barplot('Month','AveragePrice',data=df)"
   ]
  },
  {
   "cell_type": "code",
   "execution_count": 53,
   "id": "f66c3f01",
   "metadata": {},
   "outputs": [
    {
     "data": {
      "text/plain": [
       "Month\n",
       "1     1.337533\n",
       "12    1.345754\n",
       "3     1.348275\n",
       "5     1.368784\n",
       "2     1.372244\n",
       "4     1.384101\n",
       "11    1.411204\n",
       "6     1.425375\n",
       "7     1.436318\n",
       "8     1.468204\n",
       "10    1.486700\n",
       "9     1.539091\n",
       "Name: AveragePrice, dtype: float64"
      ]
     },
     "execution_count": 53,
     "metadata": {},
     "output_type": "execute_result"
    }
   ],
   "source": [
    "df.groupby('Month')['AveragePrice'].mean().sort_values()"
   ]
  },
  {
   "cell_type": "code",
   "execution_count": 54,
   "id": "2c53663d",
   "metadata": {},
   "outputs": [
    {
     "data": {
      "text/plain": [
       "<AxesSubplot:xlabel='Month', ylabel='AveragePrice'>"
      ]
     },
     "execution_count": 54,
     "metadata": {},
     "output_type": "execute_result"
    },
    {
     "data": {
      "image/png": "[encoded data removed]",
      "text/plain": [
       "<Figure size 720x216 with 1 Axes>"
      ]
     },
     "metadata": {
      "needs_background": "light"
     },
     "output_type": "display_data"
    }
   ],
   "source": [
    "plt.figure(figsize=(10,3))\n",
    "sns.lineplot('Month','AveragePrice',data=df)"
   ]
  },
  {
   "cell_type": "code",
   "execution_count": 55,
   "id": "b7f0edb8",
   "metadata": {},
   "outputs": [
    {
     "data": {
      "text/plain": [
       "<AxesSubplot:xlabel='Month', ylabel='AveragePrice'>"
      ]
     },
     "execution_count": 55,
     "metadata": {},
     "output_type": "execute_result"
    },
    {
     "data": {
      "image/png": "[encoded data removed]",
      "text/plain": [
       "<Figure size 720x216 with 1 Axes>"
      ]
     },
     "metadata": {
      "needs_background": "light"
     },
     "output_type": "display_data"
    }
   ],
   "source": [
    "plt.figure(figsize=(10,3))\n",
    "sns.lineplot('Month','AveragePrice',hue='type',data=df)"
   ]
  },
  {
   "cell_type": "code",
   "execution_count": 56,
   "id": "d2c85a61",
   "metadata": {},
   "outputs": [
    {
     "data": {
      "text/plain": [
       "array([[<AxesSubplot:title={'center':'Date'}>,\n",
       "        <AxesSubplot:title={'center':'AveragePrice'}>,\n",
       "        <AxesSubplot:title={'center':'Total Volume'}>],\n",
       "       [<AxesSubplot:title={'center':'4046'}>,\n",
       "        <AxesSubplot:title={'center':'4225'}>,\n",
       "        <AxesSubplot:title={'center':'4770'}>],\n",
       "       [<AxesSubplot:title={'center':'Total Bags'}>,\n",
       "        <AxesSubplot:title={'center':'Small Bags'}>,\n",
       "        <AxesSubplot:title={'center':'Large Bags'}>],\n",
       "       [<AxesSubplot:title={'center':'XLarge Bags'}>,\n",
       "        <AxesSubplot:title={'center':'year'}>,\n",
       "        <AxesSubplot:title={'center':'Month'}>]], dtype=object)"
      ]
     },
     "execution_count": 56,
     "metadata": {},
     "output_type": "execute_result"
    },
    {
     "data": {
      "image/png": "[encoded data removed]",
      "text/plain": [
       "<Figure size 720x720 with 12 Axes>"
      ]
     },
     "metadata": {
      "needs_background": "light"
     },
     "output_type": "display_data"
    }
   ],
   "source": [
    "# Conclusion:  Price hike for both type of avacado during 8,9,10 months\n",
    "# Jan-FEB-March  is the season for avacado, so price is comapritvely low\n",
    "# in DEC, every one wants to clear stock for nre production , so price came down\n",
    "df.hist(figsize=(10,10), bins=25)"
   ]
  },
  {
   "cell_type": "code",
   "execution_count": 57,
   "id": "539a7c90",
   "metadata": {},
   "outputs": [
    {
     "data": {
      "text/plain": [
       "Index(['Date', 'AveragePrice', 'Total Volume', '4046', '4225', '4770',\n",
       "       'Total Bags', 'Small Bags', 'Large Bags', 'XLarge Bags', 'type', 'year',\n",
       "       'region', 'Month'],\n",
       "      dtype='object')"
      ]
     },
     "execution_count": 57,
     "metadata": {},
     "output_type": "execute_result"
    }
   ],
   "source": [
    "# AveragePrice is almost normally distributed\n",
    "# other columns are right skewed\n",
    "df.columns"
   ]
  },
  {
   "cell_type": "code",
   "execution_count": 58,
   "id": "2662b702",
   "metadata": {},
   "outputs": [],
   "source": [
    "# Total Bage are the sum of Small Bags + Large Bags + XLarge Bags"
   ]
  },
  {
   "cell_type": "code",
   "execution_count": 59,
   "id": "d3407960",
   "metadata": {},
   "outputs": [
    {
     "data": {
      "text/plain": [
       "4373175798.389999"
      ]
     },
     "execution_count": 59,
     "metadata": {},
     "output_type": "execute_result"
    }
   ],
   "source": [
    "df['Total Bags'].sum()"
   ]
  },
  {
   "cell_type": "code",
   "execution_count": 60,
   "id": "d077f04f",
   "metadata": {},
   "outputs": [
    {
     "data": {
      "text/plain": [
       "4373175785.39"
      ]
     },
     "execution_count": 60,
     "metadata": {},
     "output_type": "execute_result"
    }
   ],
   "source": [
    "df['Small Bags'].sum() + df['Large Bags'].sum() +df['XLarge Bags'].sum()"
   ]
  },
  {
   "cell_type": "code",
   "execution_count": 61,
   "id": "0ecf36ba",
   "metadata": {},
   "outputs": [
    {
     "data": {
      "text/html": [
       "<div>\n",
       "<style scoped>\n",
       "    .dataframe tbody tr th:only-of-type {\n",
       "        vertical-align: middle;\n",
       "    }\n",
       "\n",
       "    .dataframe tbody tr th {\n",
       "        vertical-align: top;\n",
       "    }\n",
       "\n",
       "    .dataframe thead th {\n",
       "        text-align: right;\n",
       "    }\n",
       "</style>\n",
       "<table border=\"1\" class=\"dataframe\">\n",
       "  <thead>\n",
       "    <tr style=\"text-align: right;\">\n",
       "      <th></th>\n",
       "      <th>AveragePrice</th>\n",
       "      <th>Total Volume</th>\n",
       "      <th>4046</th>\n",
       "      <th>4225</th>\n",
       "      <th>4770</th>\n",
       "      <th>Total Bags</th>\n",
       "      <th>Small Bags</th>\n",
       "      <th>Large Bags</th>\n",
       "      <th>XLarge Bags</th>\n",
       "      <th>year</th>\n",
       "      <th>Month</th>\n",
       "    </tr>\n",
       "  </thead>\n",
       "  <tbody>\n",
       "    <tr>\n",
       "      <th>AveragePrice</th>\n",
       "      <td>1.000000</td>\n",
       "      <td>-0.192752</td>\n",
       "      <td>-0.208317</td>\n",
       "      <td>-0.172928</td>\n",
       "      <td>-0.179446</td>\n",
       "      <td>-0.177088</td>\n",
       "      <td>-0.174730</td>\n",
       "      <td>-0.172940</td>\n",
       "      <td>-0.117592</td>\n",
       "      <td>0.093197</td>\n",
       "      <td>0.075134</td>\n",
       "    </tr>\n",
       "    <tr>\n",
       "      <th>Total Volume</th>\n",
       "      <td>-0.192752</td>\n",
       "      <td>1.000000</td>\n",
       "      <td>0.977863</td>\n",
       "      <td>0.974181</td>\n",
       "      <td>0.872202</td>\n",
       "      <td>0.963047</td>\n",
       "      <td>0.967238</td>\n",
       "      <td>0.880640</td>\n",
       "      <td>0.747157</td>\n",
       "      <td>0.017193</td>\n",
       "      <td>-0.015344</td>\n",
       "    </tr>\n",
       "    <tr>\n",
       "      <th>4046</th>\n",
       "      <td>-0.208317</td>\n",
       "      <td>0.977863</td>\n",
       "      <td>1.000000</td>\n",
       "      <td>0.926110</td>\n",
       "      <td>0.833389</td>\n",
       "      <td>0.920057</td>\n",
       "      <td>0.925280</td>\n",
       "      <td>0.838645</td>\n",
       "      <td>0.699377</td>\n",
       "      <td>0.003353</td>\n",
       "      <td>-0.014522</td>\n",
       "    </tr>\n",
       "    <tr>\n",
       "      <th>4225</th>\n",
       "      <td>-0.172928</td>\n",
       "      <td>0.974181</td>\n",
       "      <td>0.926110</td>\n",
       "      <td>1.000000</td>\n",
       "      <td>0.887855</td>\n",
       "      <td>0.905787</td>\n",
       "      <td>0.916031</td>\n",
       "      <td>0.810015</td>\n",
       "      <td>0.688809</td>\n",
       "      <td>-0.009559</td>\n",
       "      <td>-0.015892</td>\n",
       "    </tr>\n",
       "    <tr>\n",
       "      <th>4770</th>\n",
       "      <td>-0.179446</td>\n",
       "      <td>0.872202</td>\n",
       "      <td>0.833389</td>\n",
       "      <td>0.887855</td>\n",
       "      <td>1.000000</td>\n",
       "      <td>0.792314</td>\n",
       "      <td>0.802733</td>\n",
       "      <td>0.698471</td>\n",
       "      <td>0.679861</td>\n",
       "      <td>-0.036531</td>\n",
       "      <td>-0.024220</td>\n",
       "    </tr>\n",
       "    <tr>\n",
       "      <th>Total Bags</th>\n",
       "      <td>-0.177088</td>\n",
       "      <td>0.963047</td>\n",
       "      <td>0.920057</td>\n",
       "      <td>0.905787</td>\n",
       "      <td>0.792314</td>\n",
       "      <td>1.000000</td>\n",
       "      <td>0.994335</td>\n",
       "      <td>0.943009</td>\n",
       "      <td>0.804233</td>\n",
       "      <td>0.071552</td>\n",
       "      <td>-0.013061</td>\n",
       "    </tr>\n",
       "    <tr>\n",
       "      <th>Small Bags</th>\n",
       "      <td>-0.174730</td>\n",
       "      <td>0.967238</td>\n",
       "      <td>0.925280</td>\n",
       "      <td>0.916031</td>\n",
       "      <td>0.802733</td>\n",
       "      <td>0.994335</td>\n",
       "      <td>1.000000</td>\n",
       "      <td>0.902589</td>\n",
       "      <td>0.806845</td>\n",
       "      <td>0.063915</td>\n",
       "      <td>-0.012432</td>\n",
       "    </tr>\n",
       "    <tr>\n",
       "      <th>Large Bags</th>\n",
       "      <td>-0.172940</td>\n",
       "      <td>0.880640</td>\n",
       "      <td>0.838645</td>\n",
       "      <td>0.810015</td>\n",
       "      <td>0.698471</td>\n",
       "      <td>0.943009</td>\n",
       "      <td>0.902589</td>\n",
       "      <td>1.000000</td>\n",
       "      <td>0.710858</td>\n",
       "      <td>0.087891</td>\n",
       "      <td>-0.014330</td>\n",
       "    </tr>\n",
       "    <tr>\n",
       "      <th>XLarge Bags</th>\n",
       "      <td>-0.117592</td>\n",
       "      <td>0.747157</td>\n",
       "      <td>0.699377</td>\n",
       "      <td>0.688809</td>\n",
       "      <td>0.679861</td>\n",
       "      <td>0.804233</td>\n",
       "      <td>0.806845</td>\n",
       "      <td>0.710858</td>\n",
       "      <td>1.000000</td>\n",
       "      <td>0.081033</td>\n",
       "      <td>-0.006182</td>\n",
       "    </tr>\n",
       "    <tr>\n",
       "      <th>year</th>\n",
       "      <td>0.093197</td>\n",
       "      <td>0.017193</td>\n",
       "      <td>0.003353</td>\n",
       "      <td>-0.009559</td>\n",
       "      <td>-0.036531</td>\n",
       "      <td>0.071552</td>\n",
       "      <td>0.063915</td>\n",
       "      <td>0.087891</td>\n",
       "      <td>0.081033</td>\n",
       "      <td>1.000000</td>\n",
       "      <td>-0.098812</td>\n",
       "    </tr>\n",
       "    <tr>\n",
       "      <th>Month</th>\n",
       "      <td>0.075134</td>\n",
       "      <td>-0.015344</td>\n",
       "      <td>-0.014522</td>\n",
       "      <td>-0.015892</td>\n",
       "      <td>-0.024220</td>\n",
       "      <td>-0.013061</td>\n",
       "      <td>-0.012432</td>\n",
       "      <td>-0.014330</td>\n",
       "      <td>-0.006182</td>\n",
       "      <td>-0.098812</td>\n",
       "      <td>1.000000</td>\n",
       "    </tr>\n",
       "  </tbody>\n",
       "</table>\n",
       "</div>"
      ],
      "text/plain": [
       "              AveragePrice  Total Volume      4046      4225      4770  \\\n",
       "AveragePrice      1.000000     -0.192752 -0.208317 -0.172928 -0.179446   \n",
       "Total Volume     -0.192752      1.000000  0.977863  0.974181  0.872202   \n",
       "4046             -0.208317      0.977863  1.000000  0.926110  0.833389   \n",
       "4225             -0.172928      0.974181  0.926110  1.000000  0.887855   \n",
       "4770             -0.179446      0.872202  0.833389  0.887855  1.000000   \n",
       "Total Bags       -0.177088      0.963047  0.920057  0.905787  0.792314   \n",
       "Small Bags       -0.174730      0.967238  0.925280  0.916031  0.802733   \n",
       "Large Bags       -0.172940      0.880640  0.838645  0.810015  0.698471   \n",
       "XLarge Bags      -0.117592      0.747157  0.699377  0.688809  0.679861   \n",
       "year              0.093197      0.017193  0.003353 -0.009559 -0.036531   \n",
       "Month             0.075134     -0.015344 -0.014522 -0.015892 -0.024220   \n",
       "\n",
       "              Total Bags  Small Bags  Large Bags  XLarge Bags      year  \\\n",
       "AveragePrice   -0.177088   -0.174730   -0.172940    -0.117592  0.093197   \n",
       "Total Volume    0.963047    0.967238    0.880640     0.747157  0.017193   \n",
       "4046            0.920057    0.925280    0.838645     0.699377  0.003353   \n",
       "4225            0.905787    0.916031    0.810015     0.688809 -0.009559   \n",
       "4770            0.792314    0.802733    0.698471     0.679861 -0.036531   \n",
       "Total Bags      1.000000    0.994335    0.943009     0.804233  0.071552   \n",
       "Small Bags      0.994335    1.000000    0.902589     0.806845  0.063915   \n",
       "Large Bags      0.943009    0.902589    1.000000     0.710858  0.087891   \n",
       "XLarge Bags     0.804233    0.806845    0.710858     1.000000  0.081033   \n",
       "year            0.071552    0.063915    0.087891     0.081033  1.000000   \n",
       "Month          -0.013061   -0.012432   -0.014330    -0.006182 -0.098812   \n",
       "\n",
       "                 Month  \n",
       "AveragePrice  0.075134  \n",
       "Total Volume -0.015344  \n",
       "4046         -0.014522  \n",
       "4225         -0.015892  \n",
       "4770         -0.024220  \n",
       "Total Bags   -0.013061  \n",
       "Small Bags   -0.012432  \n",
       "Large Bags   -0.014330  \n",
       "XLarge Bags  -0.006182  \n",
       "year         -0.098812  \n",
       "Month         1.000000  "
      ]
     },
     "execution_count": 61,
     "metadata": {},
     "output_type": "execute_result"
    }
   ],
   "source": [
    "#  correlation\n",
    "\n",
    "\n",
    "df.corr()"
   ]
  },
  {
   "cell_type": "code",
   "execution_count": 62,
   "id": "eee83003",
   "metadata": {},
   "outputs": [],
   "source": [
    "correlation= list(df.columns)"
   ]
  },
  {
   "cell_type": "code",
   "execution_count": 63,
   "id": "2aa04040",
   "metadata": {},
   "outputs": [
    {
     "data": {
      "text/plain": [
       "'AveragePrice'"
      ]
     },
     "execution_count": 63,
     "metadata": {},
     "output_type": "execute_result"
    }
   ],
   "source": [
    "correlation.pop(1)"
   ]
  },
  {
   "cell_type": "code",
   "execution_count": 64,
   "id": "de02e79c",
   "metadata": {},
   "outputs": [],
   "source": [
    "correlation.insert(14,'AveragePrice')"
   ]
  },
  {
   "cell_type": "code",
   "execution_count": 65,
   "id": "6dce7f38",
   "metadata": {},
   "outputs": [],
   "source": [
    "corr=df[correlation]"
   ]
  },
  {
   "cell_type": "code",
   "execution_count": 66,
   "id": "de1ba5ac",
   "metadata": {},
   "outputs": [
    {
     "data": {
      "text/plain": [
       "<AxesSubplot:>"
      ]
     },
     "execution_count": 66,
     "metadata": {},
     "output_type": "execute_result"
    },
    {
     "data": {
      "image/png": "[encoded data removed]",
      "text/plain": [
       "<Figure size 720x576 with 2 Axes>"
      ]
     },
     "metadata": {
      "needs_background": "light"
     },
     "output_type": "display_data"
    }
   ],
   "source": [
    "plt.figure(figsize=(10,8))\n",
    "sns.heatmap(corr.corr(), annot=True, linecolor='white',linewidths=.25)"
   ]
  },
  {
   "cell_type": "code",
   "execution_count": 67,
   "id": "14a6b97b",
   "metadata": {},
   "outputs": [],
   "source": [
    "#Target variable is Average Price\n",
    "# correlation:  almost all features are negatively low correlated, \n",
    "# while year and month are positively low correlated\n",
    "# much more independent features are highly correlated to each other, lets fine VIF\n",
    "# Year is very low correlated with average price"
   ]
  },
  {
   "cell_type": "code",
   "execution_count": 68,
   "id": "facb356c",
   "metadata": {},
   "outputs": [
    {
     "data": {
      "text/plain": [
       "Index(['Date', 'AveragePrice', 'Total Volume', '4046', '4225', '4770',\n",
       "       'Total Bags', 'Small Bags', 'Large Bags', 'XLarge Bags', 'type', 'year',\n",
       "       'region', 'Month'],\n",
       "      dtype='object')"
      ]
     },
     "execution_count": 68,
     "metadata": {},
     "output_type": "execute_result"
    }
   ],
   "source": [
    " # VIF to find multi colinearity\n",
    "    \n",
    " df.columns   "
   ]
  },
  {
   "cell_type": "code",
   "execution_count": 69,
   "id": "38c3de79",
   "metadata": {},
   "outputs": [
    {
     "data": {
      "text/html": [
       "<div>\n",
       "<style scoped>\n",
       "    .dataframe tbody tr th:only-of-type {\n",
       "        vertical-align: middle;\n",
       "    }\n",
       "\n",
       "    .dataframe tbody tr th {\n",
       "        vertical-align: top;\n",
       "    }\n",
       "\n",
       "    .dataframe thead th {\n",
       "        text-align: right;\n",
       "    }\n",
       "</style>\n",
       "<table border=\"1\" class=\"dataframe\">\n",
       "  <thead>\n",
       "    <tr style=\"text-align: right;\">\n",
       "      <th></th>\n",
       "      <th>Total Volume</th>\n",
       "      <th>4046</th>\n",
       "      <th>4225</th>\n",
       "      <th>4770</th>\n",
       "      <th>Small Bags</th>\n",
       "      <th>Large Bags</th>\n",
       "      <th>XLarge Bags</th>\n",
       "      <th>Month</th>\n",
       "    </tr>\n",
       "  </thead>\n",
       "  <tbody>\n",
       "    <tr>\n",
       "      <th>0</th>\n",
       "      <td>64236.62</td>\n",
       "      <td>1036.74</td>\n",
       "      <td>54454.85</td>\n",
       "      <td>48.16</td>\n",
       "      <td>8603.62</td>\n",
       "      <td>93.25</td>\n",
       "      <td>0.0</td>\n",
       "      <td>12</td>\n",
       "    </tr>\n",
       "    <tr>\n",
       "      <th>1</th>\n",
       "      <td>54876.98</td>\n",
       "      <td>674.28</td>\n",
       "      <td>44638.81</td>\n",
       "      <td>58.33</td>\n",
       "      <td>9408.07</td>\n",
       "      <td>97.49</td>\n",
       "      <td>0.0</td>\n",
       "      <td>12</td>\n",
       "    </tr>\n",
       "    <tr>\n",
       "      <th>2</th>\n",
       "      <td>118220.22</td>\n",
       "      <td>794.70</td>\n",
       "      <td>109149.67</td>\n",
       "      <td>130.50</td>\n",
       "      <td>8042.21</td>\n",
       "      <td>103.14</td>\n",
       "      <td>0.0</td>\n",
       "      <td>12</td>\n",
       "    </tr>\n",
       "    <tr>\n",
       "      <th>3</th>\n",
       "      <td>78992.15</td>\n",
       "      <td>1132.00</td>\n",
       "      <td>71976.41</td>\n",
       "      <td>72.58</td>\n",
       "      <td>5677.40</td>\n",
       "      <td>133.76</td>\n",
       "      <td>0.0</td>\n",
       "      <td>6</td>\n",
       "    </tr>\n",
       "    <tr>\n",
       "      <th>4</th>\n",
       "      <td>51039.60</td>\n",
       "      <td>941.48</td>\n",
       "      <td>43838.39</td>\n",
       "      <td>75.78</td>\n",
       "      <td>5986.26</td>\n",
       "      <td>197.69</td>\n",
       "      <td>0.0</td>\n",
       "      <td>11</td>\n",
       "    </tr>\n",
       "    <tr>\n",
       "      <th>...</th>\n",
       "      <td>...</td>\n",
       "      <td>...</td>\n",
       "      <td>...</td>\n",
       "      <td>...</td>\n",
       "      <td>...</td>\n",
       "      <td>...</td>\n",
       "      <td>...</td>\n",
       "      <td>...</td>\n",
       "    </tr>\n",
       "    <tr>\n",
       "      <th>18244</th>\n",
       "      <td>17074.83</td>\n",
       "      <td>2046.96</td>\n",
       "      <td>1529.20</td>\n",
       "      <td>0.00</td>\n",
       "      <td>13066.82</td>\n",
       "      <td>431.85</td>\n",
       "      <td>0.0</td>\n",
       "      <td>4</td>\n",
       "    </tr>\n",
       "    <tr>\n",
       "      <th>18245</th>\n",
       "      <td>13888.04</td>\n",
       "      <td>1191.70</td>\n",
       "      <td>3431.50</td>\n",
       "      <td>0.00</td>\n",
       "      <td>8940.04</td>\n",
       "      <td>324.80</td>\n",
       "      <td>0.0</td>\n",
       "      <td>1</td>\n",
       "    </tr>\n",
       "    <tr>\n",
       "      <th>18246</th>\n",
       "      <td>13766.76</td>\n",
       "      <td>1191.92</td>\n",
       "      <td>2452.79</td>\n",
       "      <td>727.94</td>\n",
       "      <td>9351.80</td>\n",
       "      <td>42.31</td>\n",
       "      <td>0.0</td>\n",
       "      <td>1</td>\n",
       "    </tr>\n",
       "    <tr>\n",
       "      <th>18247</th>\n",
       "      <td>16205.22</td>\n",
       "      <td>1527.63</td>\n",
       "      <td>2981.04</td>\n",
       "      <td>727.01</td>\n",
       "      <td>10919.54</td>\n",
       "      <td>50.00</td>\n",
       "      <td>0.0</td>\n",
       "      <td>1</td>\n",
       "    </tr>\n",
       "    <tr>\n",
       "      <th>18248</th>\n",
       "      <td>17489.58</td>\n",
       "      <td>2894.77</td>\n",
       "      <td>2356.13</td>\n",
       "      <td>224.53</td>\n",
       "      <td>11988.14</td>\n",
       "      <td>26.01</td>\n",
       "      <td>0.0</td>\n",
       "      <td>7</td>\n",
       "    </tr>\n",
       "  </tbody>\n",
       "</table>\n",
       "<p>18249 rows × 8 columns</p>\n",
       "</div>"
      ],
      "text/plain": [
       "       Total Volume     4046       4225    4770  Small Bags  Large Bags  \\\n",
       "0          64236.62  1036.74   54454.85   48.16     8603.62       93.25   \n",
       "1          54876.98   674.28   44638.81   58.33     9408.07       97.49   \n",
       "2         118220.22   794.70  109149.67  130.50     8042.21      103.14   \n",
       "3          78992.15  1132.00   71976.41   72.58     5677.40      133.76   \n",
       "4          51039.60   941.48   43838.39   75.78     5986.26      197.69   \n",
       "...             ...      ...        ...     ...         ...         ...   \n",
       "18244      17074.83  2046.96    1529.20    0.00    13066.82      431.85   \n",
       "18245      13888.04  1191.70    3431.50    0.00     8940.04      324.80   \n",
       "18246      13766.76  1191.92    2452.79  727.94     9351.80       42.31   \n",
       "18247      16205.22  1527.63    2981.04  727.01    10919.54       50.00   \n",
       "18248      17489.58  2894.77    2356.13  224.53    11988.14       26.01   \n",
       "\n",
       "       XLarge Bags  Month  \n",
       "0              0.0     12  \n",
       "1              0.0     12  \n",
       "2              0.0     12  \n",
       "3              0.0      6  \n",
       "4              0.0     11  \n",
       "...            ...    ...  \n",
       "18244          0.0      4  \n",
       "18245          0.0      1  \n",
       "18246          0.0      1  \n",
       "18247          0.0      1  \n",
       "18248          0.0      7  \n",
       "\n",
       "[18249 rows x 8 columns]"
      ]
     },
     "execution_count": 69,
     "metadata": {},
     "output_type": "execute_result"
    }
   ],
   "source": [
    "d=df.drop(['Date','type','region','AveragePrice','Total Bags','year'], axis=1)\n",
    "d"
   ]
  },
  {
   "cell_type": "code",
   "execution_count": 70,
   "id": "4b7fee2c",
   "metadata": {},
   "outputs": [
    {
     "data": {
      "text/plain": [
       "<AxesSubplot:>"
      ]
     },
     "execution_count": 70,
     "metadata": {},
     "output_type": "execute_result"
    },
    {
     "data": {
      "image/png": "[encoded data removed]",
      "text/plain": [
       "<Figure size 432x288 with 2 Axes>"
      ]
     },
     "metadata": {
      "needs_background": "light"
     },
     "output_type": "display_data"
    }
   ],
   "source": [
    "sns.heatmap(d.corr(),annot=True)"
   ]
  },
  {
   "cell_type": "code",
   "execution_count": 71,
   "id": "fa30f0e8",
   "metadata": {},
   "outputs": [],
   "source": [
    "from sklearn.preprocessing import StandardScaler\n",
    "sc= StandardScaler()\n",
    "scaled= sc.fit_transform(d)"
   ]
  },
  {
   "cell_type": "code",
   "execution_count": 72,
   "id": "910a6a98",
   "metadata": {},
   "outputs": [
    {
     "data": {
      "text/plain": [
       "array([[-0.22771641, -0.23081597, -0.1999022 , ..., -0.22235202,\n",
       "        -0.17557961,  1.59638512],\n",
       "       [-0.23042664, -0.23110251, -0.20805446, ..., -0.22233464,\n",
       "        -0.17557961,  1.59638512],\n",
       "       [-0.21208462, -0.23100731, -0.1544779 , ..., -0.22231148,\n",
       "        -0.17557961,  1.59638512],\n",
       "       ...,\n",
       "       [-0.24233073, -0.2306933 , -0.24309014, ..., -0.22256082,\n",
       "        -0.17557961, -1.52423765],\n",
       "       [-0.24162464, -0.2304279 , -0.24265143, ..., -0.2225293 ,\n",
       "        -0.17557961, -1.52423765],\n",
       "       [-0.24125273, -0.22934712, -0.24317042, ..., -0.22262764,\n",
       "        -0.17557961,  0.17792022]])"
      ]
     },
     "execution_count": 72,
     "metadata": {},
     "output_type": "execute_result"
    }
   ],
   "source": [
    "scaled"
   ]
  },
  {
   "cell_type": "code",
   "execution_count": 73,
   "id": "86a2bbe9",
   "metadata": {},
   "outputs": [],
   "source": [
    "from statsmodels.stats.outliers_influence import variance_inflation_factor\n",
    "VIF= pd.DataFrame()\n",
    "VIF['features']= d.columns"
   ]
  },
  {
   "cell_type": "code",
   "execution_count": 74,
   "id": "a7aed299",
   "metadata": {},
   "outputs": [
    {
     "data": {
      "text/html": [
       "<div>\n",
       "<style scoped>\n",
       "    .dataframe tbody tr th:only-of-type {\n",
       "        vertical-align: middle;\n",
       "    }\n",
       "\n",
       "    .dataframe tbody tr th {\n",
       "        vertical-align: top;\n",
       "    }\n",
       "\n",
       "    .dataframe thead th {\n",
       "        text-align: right;\n",
       "    }\n",
       "</style>\n",
       "<table border=\"1\" class=\"dataframe\">\n",
       "  <thead>\n",
       "    <tr style=\"text-align: right;\">\n",
       "      <th></th>\n",
       "      <th>features</th>\n",
       "      <th>vif</th>\n",
       "    </tr>\n",
       "  </thead>\n",
       "  <tbody>\n",
       "    <tr>\n",
       "      <th>0</th>\n",
       "      <td>Total Volume</td>\n",
       "      <td>5.201119e+09</td>\n",
       "    </tr>\n",
       "    <tr>\n",
       "      <th>1</th>\n",
       "      <td>4046</td>\n",
       "      <td>6.931920e+08</td>\n",
       "    </tr>\n",
       "    <tr>\n",
       "      <th>2</th>\n",
       "      <td>4225</td>\n",
       "      <td>6.319232e+08</td>\n",
       "    </tr>\n",
       "    <tr>\n",
       "      <th>3</th>\n",
       "      <td>4770</td>\n",
       "      <td>4.962583e+06</td>\n",
       "    </tr>\n",
       "    <tr>\n",
       "      <th>4</th>\n",
       "      <td>Small Bags</td>\n",
       "      <td>2.425694e+08</td>\n",
       "    </tr>\n",
       "    <tr>\n",
       "      <th>5</th>\n",
       "      <td>Large Bags</td>\n",
       "      <td>2.568425e+07</td>\n",
       "    </tr>\n",
       "    <tr>\n",
       "      <th>6</th>\n",
       "      <td>XLarge Bags</td>\n",
       "      <td>1.326206e+05</td>\n",
       "    </tr>\n",
       "    <tr>\n",
       "      <th>7</th>\n",
       "      <td>Month</td>\n",
       "      <td>1.046163e+00</td>\n",
       "    </tr>\n",
       "  </tbody>\n",
       "</table>\n",
       "</div>"
      ],
      "text/plain": [
       "       features           vif\n",
       "0  Total Volume  5.201119e+09\n",
       "1          4046  6.931920e+08\n",
       "2          4225  6.319232e+08\n",
       "3          4770  4.962583e+06\n",
       "4    Small Bags  2.425694e+08\n",
       "5    Large Bags  2.568425e+07\n",
       "6   XLarge Bags  1.326206e+05\n",
       "7         Month  1.046163e+00"
      ]
     },
     "execution_count": 74,
     "metadata": {},
     "output_type": "execute_result"
    }
   ],
   "source": [
    "VIF['vif']= [variance_inflation_factor(d.values,i) for i in range(len(d.columns))]\n",
    "VIF"
   ]
  },
  {
   "cell_type": "code",
   "execution_count": 75,
   "id": "b48d3067",
   "metadata": {},
   "outputs": [
    {
     "data": {
      "text/html": [
       "<div>\n",
       "<style scoped>\n",
       "    .dataframe tbody tr th:only-of-type {\n",
       "        vertical-align: middle;\n",
       "    }\n",
       "\n",
       "    .dataframe tbody tr th {\n",
       "        vertical-align: top;\n",
       "    }\n",
       "\n",
       "    .dataframe thead th {\n",
       "        text-align: right;\n",
       "    }\n",
       "</style>\n",
       "<table border=\"1\" class=\"dataframe\">\n",
       "  <thead>\n",
       "    <tr style=\"text-align: right;\">\n",
       "      <th></th>\n",
       "      <th>Date</th>\n",
       "      <th>AveragePrice</th>\n",
       "      <th>Total Volume</th>\n",
       "      <th>4046</th>\n",
       "      <th>4225</th>\n",
       "      <th>4770</th>\n",
       "      <th>Total Bags</th>\n",
       "      <th>Small Bags</th>\n",
       "      <th>Large Bags</th>\n",
       "      <th>XLarge Bags</th>\n",
       "      <th>type</th>\n",
       "      <th>year</th>\n",
       "      <th>region</th>\n",
       "      <th>Month</th>\n",
       "    </tr>\n",
       "  </thead>\n",
       "  <tbody>\n",
       "    <tr>\n",
       "      <th>0</th>\n",
       "      <td>2015-12-27</td>\n",
       "      <td>1.33</td>\n",
       "      <td>64236.62</td>\n",
       "      <td>1036.74</td>\n",
       "      <td>54454.85</td>\n",
       "      <td>48.16</td>\n",
       "      <td>8696.87</td>\n",
       "      <td>8603.62</td>\n",
       "      <td>93.25</td>\n",
       "      <td>0.0</td>\n",
       "      <td>conventional</td>\n",
       "      <td>2015</td>\n",
       "      <td>Albany</td>\n",
       "      <td>12</td>\n",
       "    </tr>\n",
       "    <tr>\n",
       "      <th>1</th>\n",
       "      <td>2015-12-20</td>\n",
       "      <td>1.35</td>\n",
       "      <td>54876.98</td>\n",
       "      <td>674.28</td>\n",
       "      <td>44638.81</td>\n",
       "      <td>58.33</td>\n",
       "      <td>9505.56</td>\n",
       "      <td>9408.07</td>\n",
       "      <td>97.49</td>\n",
       "      <td>0.0</td>\n",
       "      <td>conventional</td>\n",
       "      <td>2015</td>\n",
       "      <td>Albany</td>\n",
       "      <td>12</td>\n",
       "    </tr>\n",
       "    <tr>\n",
       "      <th>2</th>\n",
       "      <td>2015-12-13</td>\n",
       "      <td>0.93</td>\n",
       "      <td>118220.22</td>\n",
       "      <td>794.70</td>\n",
       "      <td>109149.67</td>\n",
       "      <td>130.50</td>\n",
       "      <td>8145.35</td>\n",
       "      <td>8042.21</td>\n",
       "      <td>103.14</td>\n",
       "      <td>0.0</td>\n",
       "      <td>conventional</td>\n",
       "      <td>2015</td>\n",
       "      <td>Albany</td>\n",
       "      <td>12</td>\n",
       "    </tr>\n",
       "    <tr>\n",
       "      <th>3</th>\n",
       "      <td>2015-06-12</td>\n",
       "      <td>1.08</td>\n",
       "      <td>78992.15</td>\n",
       "      <td>1132.00</td>\n",
       "      <td>71976.41</td>\n",
       "      <td>72.58</td>\n",
       "      <td>5811.16</td>\n",
       "      <td>5677.40</td>\n",
       "      <td>133.76</td>\n",
       "      <td>0.0</td>\n",
       "      <td>conventional</td>\n",
       "      <td>2015</td>\n",
       "      <td>Albany</td>\n",
       "      <td>6</td>\n",
       "    </tr>\n",
       "    <tr>\n",
       "      <th>4</th>\n",
       "      <td>2015-11-29</td>\n",
       "      <td>1.28</td>\n",
       "      <td>51039.60</td>\n",
       "      <td>941.48</td>\n",
       "      <td>43838.39</td>\n",
       "      <td>75.78</td>\n",
       "      <td>6183.95</td>\n",
       "      <td>5986.26</td>\n",
       "      <td>197.69</td>\n",
       "      <td>0.0</td>\n",
       "      <td>conventional</td>\n",
       "      <td>2015</td>\n",
       "      <td>Albany</td>\n",
       "      <td>11</td>\n",
       "    </tr>\n",
       "  </tbody>\n",
       "</table>\n",
       "</div>"
      ],
      "text/plain": [
       "        Date  AveragePrice  Total Volume     4046       4225    4770  \\\n",
       "0 2015-12-27          1.33      64236.62  1036.74   54454.85   48.16   \n",
       "1 2015-12-20          1.35      54876.98   674.28   44638.81   58.33   \n",
       "2 2015-12-13          0.93     118220.22   794.70  109149.67  130.50   \n",
       "3 2015-06-12          1.08      78992.15  1132.00   71976.41   72.58   \n",
       "4 2015-11-29          1.28      51039.60   941.48   43838.39   75.78   \n",
       "\n",
       "   Total Bags  Small Bags  Large Bags  XLarge Bags          type  year  \\\n",
       "0     8696.87     8603.62       93.25          0.0  conventional  2015   \n",
       "1     9505.56     9408.07       97.49          0.0  conventional  2015   \n",
       "2     8145.35     8042.21      103.14          0.0  conventional  2015   \n",
       "3     5811.16     5677.40      133.76          0.0  conventional  2015   \n",
       "4     6183.95     5986.26      197.69          0.0  conventional  2015   \n",
       "\n",
       "   region  Month  \n",
       "0  Albany     12  \n",
       "1  Albany     12  \n",
       "2  Albany     12  \n",
       "3  Albany      6  \n",
       "4  Albany     11  "
      ]
     },
     "execution_count": 75,
     "metadata": {},
     "output_type": "execute_result"
    }
   ],
   "source": [
    "df.head(5)"
   ]
  },
  {
   "cell_type": "code",
   "execution_count": 76,
   "id": "7af42063",
   "metadata": {},
   "outputs": [
    {
     "data": {
      "text/plain": [
       "Index(['Date', 'AveragePrice', 'Total Volume', '4046', '4225', '4770',\n",
       "       'Total Bags', 'Small Bags', 'Large Bags', 'XLarge Bags', 'type', 'year',\n",
       "       'region', 'Month'],\n",
       "      dtype='object')"
      ]
     },
     "execution_count": 76,
     "metadata": {},
     "output_type": "execute_result"
    }
   ],
   "source": [
    "# However some independent are highly correlated to each other but we cant drop those features because they provide different kind of information to predict average price\n",
    "df.columns"
   ]
  },
  {
   "cell_type": "code",
   "execution_count": 77,
   "id": "47564760",
   "metadata": {},
   "outputs": [
    {
     "data": {
      "text/plain": [
       "AveragePrice     0.580303\n",
       "Total Volume     9.007687\n",
       "4046             8.648220\n",
       "4225             8.942466\n",
       "4770            10.159396\n",
       "Total Bags       9.756072\n",
       "Small Bags       9.540660\n",
       "Large Bags       9.796455\n",
       "XLarge Bags     13.139751\n",
       "year             0.215339\n",
       "Month            0.047551\n",
       "dtype: float64"
      ]
     },
     "execution_count": 77,
     "metadata": {},
     "output_type": "execute_result"
    }
   ],
   "source": [
    "#outliers\n",
    "num= df.select_dtypes(np.number)\n",
    "num.skew()"
   ]
  },
  {
   "cell_type": "code",
   "execution_count": 78,
   "id": "cbab74fc",
   "metadata": {},
   "outputs": [
    {
     "data": {
      "text/plain": [
       "AveragePrice        AxesSubplot(0.125,0.71587;0.133621x0.16413)\n",
       "Total Volume     AxesSubplot(0.285345,0.71587;0.133621x0.16413)\n",
       "4046              AxesSubplot(0.44569,0.71587;0.133621x0.16413)\n",
       "4225             AxesSubplot(0.606034,0.71587;0.133621x0.16413)\n",
       "4770             AxesSubplot(0.766379,0.71587;0.133621x0.16413)\n",
       "Total Bags         AxesSubplot(0.125,0.518913;0.133621x0.16413)\n",
       "Small Bags      AxesSubplot(0.285345,0.518913;0.133621x0.16413)\n",
       "Large Bags       AxesSubplot(0.44569,0.518913;0.133621x0.16413)\n",
       "XLarge Bags     AxesSubplot(0.606034,0.518913;0.133621x0.16413)\n",
       "year            AxesSubplot(0.766379,0.518913;0.133621x0.16413)\n",
       "Month              AxesSubplot(0.125,0.321957;0.133621x0.16413)\n",
       "dtype: object"
      ]
     },
     "execution_count": 78,
     "metadata": {},
     "output_type": "execute_result"
    },
    {
     "data": {
      "image/png": "[encoded data removed]",
      "text/plain": [
       "<Figure size 1080x720 with 20 Axes>"
      ]
     },
     "metadata": {
      "needs_background": "light"
     },
     "output_type": "display_data"
    }
   ],
   "source": [
    "# data is skewed\n",
    "df.plot(kind='box', subplots=True, layout=(4,5),figsize=(15,10))"
   ]
  },
  {
   "cell_type": "code",
   "execution_count": 79,
   "id": "c52670e2",
   "metadata": {},
   "outputs": [
    {
     "data": {
      "image/png": "[encoded data removed]",
      "text/plain": [
       "<Figure size 432x288 with 1 Axes>"
      ]
     },
     "metadata": {
      "needs_background": "light"
     },
     "output_type": "display_data"
    },
    {
     "data": {
      "image/png": "[encoded data removed]",
      "text/plain": [
       "<Figure size 432x288 with 1 Axes>"
      ]
     },
     "metadata": {
      "needs_background": "light"
     },
     "output_type": "display_data"
    },
    {
     "data": {
      "image/png": "[encoded data removed]",
      "text/plain": [
       "<Figure size 432x288 with 1 Axes>"
      ]
     },
     "metadata": {
      "needs_background": "light"
     },
     "output_type": "display_data"
    },
    {
     "data": {
      "image/png": "[encoded data removed]",
      "text/plain": [
       "<Figure size 432x288 with 1 Axes>"
      ]
     },
     "metadata": {
      "needs_background": "light"
     },
     "output_type": "display_data"
    },
    {
     "data": {
      "image/png": "[encoded data removed]",
      "text/plain": [
       "<Figure size 432x288 with 1 Axes>"
      ]
     },
     "metadata": {
      "needs_background": "light"
     },
     "output_type": "display_data"
    },
    {
     "data": {
      "image/png": "[encoded data removed]",
      "text/plain": [
       "<Figure size 432x288 with 1 Axes>"
      ]
     },
     "metadata": {
      "needs_background": "light"
     },
     "output_type": "display_data"
    },
    {
     "data": {
      "image/png": "[encoded data removed]",
      "text/plain": [
       "<Figure size 432x288 with 1 Axes>"
      ]
     },
     "metadata": {
      "needs_background": "light"
     },
     "output_type": "display_data"
    },
    {
     "data": {
      "image/png": "[encoded data removed]",
      "text/plain": [
       "<Figure size 432x288 with 1 Axes>"
      ]
     },
     "metadata": {
      "needs_background": "light"
     },
     "output_type": "display_data"
    },
    {
     "data": {
      "image/png": "[encoded data removed]",
      "text/plain": [
       "<Figure size 432x288 with 1 Axes>"
      ]
     },
     "metadata": {
      "needs_background": "light"
     },
     "output_type": "display_data"
    },
    {
     "data": {
      "image/png": "[encoded data removed]",
      "text/plain": [
       "<Figure size 432x288 with 1 Axes>"
      ]
     },
     "metadata": {
      "needs_background": "light"
     },
     "output_type": "display_data"
    },
    {
     "data": {
      "image/png": "[encoded data removed]",
      "text/plain": [
       "<Figure size 432x288 with 1 Axes>"
      ]
     },
     "metadata": {
      "needs_background": "light"
     },
     "output_type": "display_data"
    }
   ],
   "source": [
    "for i in num:\n",
    "    sns.boxplot(df[i])\n",
    "    plt.show()"
   ]
  },
  {
   "cell_type": "code",
   "execution_count": 80,
   "id": "2ae5a3c3",
   "metadata": {},
   "outputs": [],
   "source": [
    "# All columns have outliers except, year and month\n",
    "#lets handle"
   ]
  },
  {
   "cell_type": "code",
   "execution_count": 81,
   "id": "afc3331e",
   "metadata": {},
   "outputs": [
    {
     "name": "stdout",
     "output_type": "stream",
     "text": [
      "       AveragePrice  Total Volume      4046      4225      4770  Total Bags  \\\n",
      "0          0.188689      0.227716  0.230816  0.199902  0.212091    0.234170   \n",
      "1          0.139020      0.230427  0.231103  0.208054  0.211997    0.233350   \n",
      "2          1.182069      0.212085  0.231007  0.154478  0.211325    0.234730   \n",
      "3          0.809551      0.223444  0.230741  0.185350  0.211864    0.237096   \n",
      "4          0.312861      0.231538  0.230891  0.208719  0.211834    0.236718   \n",
      "...             ...           ...       ...       ...       ...         ...   \n",
      "18244      0.556347      0.241373  0.230017  0.243857  0.212540    0.229301   \n",
      "18245      0.755023      0.242296  0.230693  0.242277  0.212540    0.233594   \n",
      "18246      1.152375      0.242331  0.230693  0.243090  0.205766    0.233463   \n",
      "18247      1.301382      0.241625  0.230428  0.242651  0.205774    0.231866   \n",
      "18248      0.531512      0.241253  0.229347  0.243170  0.210450    0.230807   \n",
      "\n",
      "       Small Bags  Large Bags  XLarge Bags      year     Month  \n",
      "0        0.232647    0.222352      0.17558  1.221282  1.596385  \n",
      "1        0.231568    0.222335      0.17558  1.221282  1.596385  \n",
      "2        0.233399    0.222311      0.17558  1.221282  1.596385  \n",
      "3        0.236568    0.222186      0.17558  1.221282  0.105773  \n",
      "4        0.236154    0.221924      0.17558  1.221282  1.312692  \n",
      "...           ...         ...          ...       ...       ...  \n",
      "18244    0.226665    0.220964      0.17558  1.970504  0.673159  \n",
      "18245    0.232196    0.221403      0.17558  1.970504  1.524238  \n",
      "18246    0.231644    0.222561      0.17558  1.970504  1.524238  \n",
      "18247    0.229543    0.222529      0.17558  1.970504  1.524238  \n",
      "18248    0.228111    0.222628      0.17558  1.970504  0.177920  \n",
      "\n",
      "[18249 rows x 11 columns]\n"
     ]
    }
   ],
   "source": [
    "from scipy.stats import zscore\n",
    "\n",
    "# calculate z score\n",
    "z=np.abs(zscore(num))\n",
    "print(z)"
   ]
  },
  {
   "cell_type": "code",
   "execution_count": 82,
   "id": "97d94ef5",
   "metadata": {},
   "outputs": [
    {
     "name": "stdout",
     "output_type": "stream",
     "text": [
      "(array([    0,     0,     0, ..., 18248, 18248, 18248], dtype=int64), array([ 0,  1,  2, ...,  8,  9, 10], dtype=int64))\n",
      "(18249, 11)\n"
     ]
    }
   ],
   "source": [
    "threshold=3\n",
    "print(np.where(z<3))\n",
    "print(num.shape)"
   ]
  },
  {
   "cell_type": "code",
   "execution_count": 84,
   "id": "4d4b7d6f",
   "metadata": {},
   "outputs": [
    {
     "data": {
      "text/plain": [
       "(17651, 14)"
      ]
     },
     "execution_count": 84,
     "metadata": {},
     "output_type": "execute_result"
    }
   ],
   "source": [
    "# assign the value to df_new which are less the threshold\n",
    "data.shape"
   ]
  },
  {
   "cell_type": "code",
   "execution_count": 85,
   "id": "ad6cbd69",
   "metadata": {},
   "outputs": [
    {
     "data": {
      "text/plain": [
       "598"
      ]
     },
     "execution_count": 85,
     "metadata": {},
     "output_type": "execute_result"
    }
   ],
   "source": [
    "# Decide to remove ooutliers here.\n",
    "df.shape[0]-data.shape[0]"
   ]
  },
  {
   "cell_type": "code",
   "execution_count": 86,
   "id": "939b6793",
   "metadata": {},
   "outputs": [],
   "source": [
    "# 467 records have been deleted as outliers\n",
    "num_new=data.drop(['AveragePrice','Date','type','region'], axis=1)"
   ]
  },
  {
   "cell_type": "code",
   "execution_count": 87,
   "id": "8ed99bb6",
   "metadata": {},
   "outputs": [
    {
     "data": {
      "text/plain": [
       "Total Volume    3.767138\n",
       "4046            4.909848\n",
       "4225            4.455745\n",
       "4770            5.117170\n",
       "Total Bags      4.066771\n",
       "Small Bags      4.222706\n",
       "Large Bags      5.053434\n",
       "XLarge Bags     6.135607\n",
       "year            0.229976\n",
       "Month           0.046419\n",
       "dtype: float64"
      ]
     },
     "execution_count": 87,
     "metadata": {},
     "output_type": "execute_result"
    }
   ],
   "source": [
    "num_new.skew()"
   ]
  },
  {
   "cell_type": "code",
   "execution_count": 88,
   "id": "1c0e23bc",
   "metadata": {},
   "outputs": [
    {
     "data": {
      "text/html": [
       "<div>\n",
       "<style scoped>\n",
       "    .dataframe tbody tr th:only-of-type {\n",
       "        vertical-align: middle;\n",
       "    }\n",
       "\n",
       "    .dataframe tbody tr th {\n",
       "        vertical-align: top;\n",
       "    }\n",
       "\n",
       "    .dataframe thead th {\n",
       "        text-align: right;\n",
       "    }\n",
       "</style>\n",
       "<table border=\"1\" class=\"dataframe\">\n",
       "  <thead>\n",
       "    <tr style=\"text-align: right;\">\n",
       "      <th></th>\n",
       "      <th>Total Volume</th>\n",
       "      <th>4046</th>\n",
       "      <th>4225</th>\n",
       "      <th>4770</th>\n",
       "      <th>Total Bags</th>\n",
       "      <th>Small Bags</th>\n",
       "      <th>Large Bags</th>\n",
       "      <th>XLarge Bags</th>\n",
       "      <th>year</th>\n",
       "      <th>Month</th>\n",
       "    </tr>\n",
       "  </thead>\n",
       "  <tbody>\n",
       "    <tr>\n",
       "      <th>0</th>\n",
       "      <td>64236.62</td>\n",
       "      <td>1036.74</td>\n",
       "      <td>54454.85</td>\n",
       "      <td>48.16</td>\n",
       "      <td>8696.87</td>\n",
       "      <td>8603.62</td>\n",
       "      <td>93.25</td>\n",
       "      <td>0.0</td>\n",
       "      <td>2015</td>\n",
       "      <td>12</td>\n",
       "    </tr>\n",
       "    <tr>\n",
       "      <th>1</th>\n",
       "      <td>54876.98</td>\n",
       "      <td>674.28</td>\n",
       "      <td>44638.81</td>\n",
       "      <td>58.33</td>\n",
       "      <td>9505.56</td>\n",
       "      <td>9408.07</td>\n",
       "      <td>97.49</td>\n",
       "      <td>0.0</td>\n",
       "      <td>2015</td>\n",
       "      <td>12</td>\n",
       "    </tr>\n",
       "  </tbody>\n",
       "</table>\n",
       "</div>"
      ],
      "text/plain": [
       "   Total Volume     4046      4225   4770  Total Bags  Small Bags  Large Bags  \\\n",
       "0      64236.62  1036.74  54454.85  48.16     8696.87     8603.62       93.25   \n",
       "1      54876.98   674.28  44638.81  58.33     9505.56     9408.07       97.49   \n",
       "\n",
       "   XLarge Bags  year  Month  \n",
       "0          0.0  2015     12  \n",
       "1          0.0  2015     12  "
      ]
     },
     "execution_count": 88,
     "metadata": {},
     "output_type": "execute_result"
    }
   ],
   "source": [
    "num_new.head(2)"
   ]
  },
  {
   "cell_type": "code",
   "execution_count": 89,
   "id": "49893665",
   "metadata": {},
   "outputs": [
    {
     "data": {
      "text/plain": [
       "(17651, 10)"
      ]
     },
     "execution_count": 89,
     "metadata": {},
     "output_type": "execute_result"
    }
   ],
   "source": [
    "num_new.shape"
   ]
  },
  {
   "cell_type": "code",
   "execution_count": 90,
   "id": "c1151d48",
   "metadata": {},
   "outputs": [
    {
     "data": {
      "text/plain": [
       "(17651,)"
      ]
     },
     "execution_count": 90,
     "metadata": {},
     "output_type": "execute_result"
    }
   ],
   "source": [
    "Y=data['AveragePrice']\n",
    "Y.shape"
   ]
  },
  {
   "cell_type": "code",
   "execution_count": 91,
   "id": "a949bdad",
   "metadata": {},
   "outputs": [],
   "source": [
    "#  Transformation to remove skewness\n",
    "from sklearn.preprocessing import power_transform\n",
    "transformed=power_transform(num_new)"
   ]
  },
  {
   "cell_type": "code",
   "execution_count": 92,
   "id": "ceeb912f",
   "metadata": {},
   "outputs": [
    {
     "data": {
      "text/plain": [
       "Total Volume   -0.008642\n",
       "4046           -0.039282\n",
       "4225           -0.044675\n",
       "4770            0.024168\n",
       "Total Bags     -0.022204\n",
       "Small Bags     -0.024405\n",
       "Large Bags     -0.110913\n",
       "XLarge Bags     0.853758\n",
       "year            0.227731\n",
       "Month          -0.161423\n",
       "dtype: float64"
      ]
     },
     "execution_count": 92,
     "metadata": {},
     "output_type": "execute_result"
    }
   ],
   "source": [
    "transformed=pd.DataFrame(transformed)\n",
    "transformed.columns=num_new.columns\n",
    "transformed.skew()"
   ]
  },
  {
   "cell_type": "code",
   "execution_count": 93,
   "id": "da50e2e3",
   "metadata": {},
   "outputs": [
    {
     "data": {
      "text/html": [
       "<div>\n",
       "<style scoped>\n",
       "    .dataframe tbody tr th:only-of-type {\n",
       "        vertical-align: middle;\n",
       "    }\n",
       "\n",
       "    .dataframe tbody tr th {\n",
       "        vertical-align: top;\n",
       "    }\n",
       "\n",
       "    .dataframe thead th {\n",
       "        text-align: right;\n",
       "    }\n",
       "</style>\n",
       "<table border=\"1\" class=\"dataframe\">\n",
       "  <thead>\n",
       "    <tr style=\"text-align: right;\">\n",
       "      <th></th>\n",
       "      <th>Total Volume</th>\n",
       "      <th>4046</th>\n",
       "      <th>4225</th>\n",
       "      <th>4770</th>\n",
       "      <th>Total Bags</th>\n",
       "      <th>Small Bags</th>\n",
       "      <th>Large Bags</th>\n",
       "      <th>XLarge Bags</th>\n",
       "      <th>year</th>\n",
       "      <th>Month</th>\n",
       "    </tr>\n",
       "  </thead>\n",
       "  <tbody>\n",
       "    <tr>\n",
       "      <th>0</th>\n",
       "      <td>-0.075324</td>\n",
       "      <td>-0.657421</td>\n",
       "      <td>0.351430</td>\n",
       "      <td>-0.222566</td>\n",
       "      <td>-0.537507</td>\n",
       "      <td>-0.347421</td>\n",
       "      <td>-0.781153</td>\n",
       "      <td>-0.677919</td>\n",
       "      <td>-1.210647</td>\n",
       "      <td>1.475625</td>\n",
       "    </tr>\n",
       "    <tr>\n",
       "      <th>1</th>\n",
       "      <td>-0.147497</td>\n",
       "      <td>-0.777179</td>\n",
       "      <td>0.269513</td>\n",
       "      <td>-0.175223</td>\n",
       "      <td>-0.498128</td>\n",
       "      <td>-0.311322</td>\n",
       "      <td>-0.771198</td>\n",
       "      <td>-0.677919</td>\n",
       "      <td>-1.210647</td>\n",
       "      <td>1.475625</td>\n",
       "    </tr>\n",
       "    <tr>\n",
       "      <th>2</th>\n",
       "      <td>0.205556</td>\n",
       "      <td>-0.731776</td>\n",
       "      <td>0.649333</td>\n",
       "      <td>0.023923</td>\n",
       "      <td>-0.566369</td>\n",
       "      <td>-0.374453</td>\n",
       "      <td>-0.758523</td>\n",
       "      <td>-0.677919</td>\n",
       "      <td>-1.210647</td>\n",
       "      <td>1.475625</td>\n",
       "    </tr>\n",
       "  </tbody>\n",
       "</table>\n",
       "</div>"
      ],
      "text/plain": [
       "   Total Volume      4046      4225      4770  Total Bags  Small Bags  \\\n",
       "0     -0.075324 -0.657421  0.351430 -0.222566   -0.537507   -0.347421   \n",
       "1     -0.147497 -0.777179  0.269513 -0.175223   -0.498128   -0.311322   \n",
       "2      0.205556 -0.731776  0.649333  0.023923   -0.566369   -0.374453   \n",
       "\n",
       "   Large Bags  XLarge Bags      year     Month  \n",
       "0   -0.781153    -0.677919 -1.210647  1.475625  \n",
       "1   -0.771198    -0.677919 -1.210647  1.475625  \n",
       "2   -0.758523    -0.677919 -1.210647  1.475625  "
      ]
     },
     "execution_count": 93,
     "metadata": {},
     "output_type": "execute_result"
    }
   ],
   "source": [
    "# It has reduced skewness very well\n",
    "transformed.head(3)"
   ]
  },
  {
   "cell_type": "code",
   "execution_count": 94,
   "id": "903ad11b",
   "metadata": {},
   "outputs": [
    {
     "data": {
      "text/plain": [
       "(17651, 10)"
      ]
     },
     "execution_count": 94,
     "metadata": {},
     "output_type": "execute_result"
    }
   ],
   "source": [
    "transformed.shape"
   ]
  },
  {
   "cell_type": "code",
   "execution_count": 95,
   "id": "519ee69e",
   "metadata": {},
   "outputs": [],
   "source": [
    "#PCA to handle Dimentionality Reduction\n",
    "#pcs_data=df.select_dtypes(np.number)\n",
    "#pcs_data.shape"
   ]
  },
  {
   "cell_type": "code",
   "execution_count": 96,
   "id": "432479d2",
   "metadata": {},
   "outputs": [],
   "source": [
    "from sklearn.preprocessing import StandardScaler\n",
    "sc= StandardScaler()\n",
    "scaled= sc.fit_transform(transformed)"
   ]
  },
  {
   "cell_type": "code",
   "execution_count": 97,
   "id": "ba4ce52e",
   "metadata": {},
   "outputs": [],
   "source": [
    "from sklearn.decomposition import PCA\n",
    "pca= PCA()"
   ]
  },
  {
   "cell_type": "code",
   "execution_count": 98,
   "id": "b240fed8",
   "metadata": {},
   "outputs": [],
   "source": [
    "principal_component=pca.fit_transform(scaled)"
   ]
  },
  {
   "cell_type": "code",
   "execution_count": 99,
   "id": "8192a9aa",
   "metadata": {},
   "outputs": [
    {
     "data": {
      "image/png": "[encoded data removed]",
      "text/plain": [
       "<Figure size 432x288 with 1 Axes>"
      ]
     },
     "metadata": {
      "needs_background": "light"
     },
     "output_type": "display_data"
    }
   ],
   "source": [
    "plt.figure()\n",
    "plt.plot(np.cumsum(pca.explained_variance_ratio_))\n",
    "plt.xlabel('no of component')\n",
    "plt.ylabel('variance (%)')\n",
    "plt.title('explained variance')\n",
    "plt.show()"
   ]
  },
  {
   "cell_type": "code",
   "execution_count": 100,
   "id": "faf38cda",
   "metadata": {},
   "outputs": [],
   "source": [
    "# Graph shows 7 components has explained 97% variance of all features, so use 7\n",
    "pca=PCA(n_components=7)"
   ]
  },
  {
   "cell_type": "code",
   "execution_count": 101,
   "id": "ea965366",
   "metadata": {},
   "outputs": [
    {
     "data": {
      "text/html": [
       "<div>\n",
       "<style scoped>\n",
       "    .dataframe tbody tr th:only-of-type {\n",
       "        vertical-align: middle;\n",
       "    }\n",
       "\n",
       "    .dataframe tbody tr th {\n",
       "        vertical-align: top;\n",
       "    }\n",
       "\n",
       "    .dataframe thead th {\n",
       "        text-align: right;\n",
       "    }\n",
       "</style>\n",
       "<table border=\"1\" class=\"dataframe\">\n",
       "  <thead>\n",
       "    <tr style=\"text-align: right;\">\n",
       "      <th></th>\n",
       "      <th>PC1</th>\n",
       "      <th>PC2</th>\n",
       "      <th>PC3</th>\n",
       "      <th>PC4</th>\n",
       "      <th>PC5</th>\n",
       "      <th>PC6</th>\n",
       "      <th>PC7</th>\n",
       "    </tr>\n",
       "  </thead>\n",
       "  <tbody>\n",
       "    <tr>\n",
       "      <th>0</th>\n",
       "      <td>-1.048920</td>\n",
       "      <td>-1.874342</td>\n",
       "      <td>-0.543770</td>\n",
       "      <td>-0.126007</td>\n",
       "      <td>0.474316</td>\n",
       "      <td>0.449075</td>\n",
       "      <td>-0.277767</td>\n",
       "    </tr>\n",
       "    <tr>\n",
       "      <th>1</th>\n",
       "      <td>-1.102014</td>\n",
       "      <td>-1.850309</td>\n",
       "      <td>-0.565570</td>\n",
       "      <td>-0.111236</td>\n",
       "      <td>0.459043</td>\n",
       "      <td>0.527147</td>\n",
       "      <td>-0.356573</td>\n",
       "    </tr>\n",
       "    <tr>\n",
       "      <th>2</th>\n",
       "      <td>-0.784176</td>\n",
       "      <td>-1.954333</td>\n",
       "      <td>-0.474775</td>\n",
       "      <td>-0.125959</td>\n",
       "      <td>0.509006</td>\n",
       "      <td>0.742266</td>\n",
       "      <td>-0.209003</td>\n",
       "    </tr>\n",
       "    <tr>\n",
       "      <th>3</th>\n",
       "      <td>-1.022170</td>\n",
       "      <td>-1.153917</td>\n",
       "      <td>0.770670</td>\n",
       "      <td>-0.101365</td>\n",
       "      <td>0.266615</td>\n",
       "      <td>0.519797</td>\n",
       "      <td>-0.174159</td>\n",
       "    </tr>\n",
       "    <tr>\n",
       "      <th>4</th>\n",
       "      <td>-1.151358</td>\n",
       "      <td>-1.753994</td>\n",
       "      <td>-0.352499</td>\n",
       "      <td>-0.168967</td>\n",
       "      <td>0.233667</td>\n",
       "      <td>0.536290</td>\n",
       "      <td>-0.145520</td>\n",
       "    </tr>\n",
       "    <tr>\n",
       "      <th>...</th>\n",
       "      <td>...</td>\n",
       "      <td>...</td>\n",
       "      <td>...</td>\n",
       "      <td>...</td>\n",
       "      <td>...</td>\n",
       "      <td>...</td>\n",
       "      <td>...</td>\n",
       "    </tr>\n",
       "    <tr>\n",
       "      <th>17646</th>\n",
       "      <td>-1.607525</td>\n",
       "      <td>2.161459</td>\n",
       "      <td>-0.549159</td>\n",
       "      <td>-0.209314</td>\n",
       "      <td>0.574886</td>\n",
       "      <td>-0.385537</td>\n",
       "      <td>0.092712</td>\n",
       "    </tr>\n",
       "    <tr>\n",
       "      <th>17647</th>\n",
       "      <td>-1.747076</td>\n",
       "      <td>2.671582</td>\n",
       "      <td>0.397472</td>\n",
       "      <td>-0.107405</td>\n",
       "      <td>0.467747</td>\n",
       "      <td>-0.195686</td>\n",
       "      <td>0.066960</td>\n",
       "    </tr>\n",
       "    <tr>\n",
       "      <th>17648</th>\n",
       "      <td>-1.334575</td>\n",
       "      <td>2.345013</td>\n",
       "      <td>0.653480</td>\n",
       "      <td>0.446963</td>\n",
       "      <td>0.822071</td>\n",
       "      <td>0.806422</td>\n",
       "      <td>0.818580</td>\n",
       "    </tr>\n",
       "    <tr>\n",
       "      <th>17649</th>\n",
       "      <td>-1.196982</td>\n",
       "      <td>2.341236</td>\n",
       "      <td>0.657611</td>\n",
       "      <td>0.405886</td>\n",
       "      <td>0.857581</td>\n",
       "      <td>0.767948</td>\n",
       "      <td>0.803266</td>\n",
       "    </tr>\n",
       "    <tr>\n",
       "      <th>17650</th>\n",
       "      <td>-1.261437</td>\n",
       "      <td>1.369091</td>\n",
       "      <td>-1.001758</td>\n",
       "      <td>0.354033</td>\n",
       "      <td>1.094993</td>\n",
       "      <td>0.478917</td>\n",
       "      <td>0.873796</td>\n",
       "    </tr>\n",
       "  </tbody>\n",
       "</table>\n",
       "<p>17651 rows × 7 columns</p>\n",
       "</div>"
      ],
      "text/plain": [
       "            PC1       PC2       PC3       PC4       PC5       PC6       PC7\n",
       "0     -1.048920 -1.874342 -0.543770 -0.126007  0.474316  0.449075 -0.277767\n",
       "1     -1.102014 -1.850309 -0.565570 -0.111236  0.459043  0.527147 -0.356573\n",
       "2     -0.784176 -1.954333 -0.474775 -0.125959  0.509006  0.742266 -0.209003\n",
       "3     -1.022170 -1.153917  0.770670 -0.101365  0.266615  0.519797 -0.174159\n",
       "4     -1.151358 -1.753994 -0.352499 -0.168967  0.233667  0.536290 -0.145520\n",
       "...         ...       ...       ...       ...       ...       ...       ...\n",
       "17646 -1.607525  2.161459 -0.549159 -0.209314  0.574886 -0.385537  0.092712\n",
       "17647 -1.747076  2.671582  0.397472 -0.107405  0.467747 -0.195686  0.066960\n",
       "17648 -1.334575  2.345013  0.653480  0.446963  0.822071  0.806422  0.818580\n",
       "17649 -1.196982  2.341236  0.657611  0.405886  0.857581  0.767948  0.803266\n",
       "17650 -1.261437  1.369091 -1.001758  0.354033  1.094993  0.478917  0.873796\n",
       "\n",
       "[17651 rows x 7 columns]"
      ]
     },
     "execution_count": 101,
     "metadata": {},
     "output_type": "execute_result"
    }
   ],
   "source": [
    "new_data= pca.fit_transform(scaled)\n",
    "principal_x= pd.DataFrame(new_data,columns=['PC1','PC2','PC3','PC4','PC5','PC6','PC7'])\n",
    "principal_x"
   ]
  },
  {
   "cell_type": "code",
   "execution_count": 102,
   "id": "6a6f2d73",
   "metadata": {},
   "outputs": [
    {
     "data": {
      "text/plain": [
       "54"
      ]
     },
     "execution_count": 102,
     "metadata": {},
     "output_type": "execute_result"
    }
   ],
   "source": [
    "#Encoding of categoricl data\n",
    "# we will drop Date column, because we have already extracted year and month from it.\n",
    "\n",
    "#df.select_dtypes('O')  #  these are nominal categorical features\n",
    "df['region'].nunique()"
   ]
  },
  {
   "cell_type": "code",
   "execution_count": 103,
   "id": "1d4a7094",
   "metadata": {},
   "outputs": [
    {
     "data": {
      "text/plain": [
       "array(['Albany', 'Atlanta', 'BaltimoreWashington', 'Boise', 'Boston',\n",
       "       'BuffaloRochester', 'California', 'Charlotte', 'Chicago',\n",
       "       'CincinnatiDayton', 'Columbus', 'DallasFtWorth', 'Denver',\n",
       "       'Detroit', 'GrandRapids', 'GreatLakes', 'HarrisburgScranton',\n",
       "       'HartfordSpringfield', 'Houston', 'Indianapolis', 'Jacksonville',\n",
       "       'LasVegas', 'LosAngeles', 'Louisville', 'MiamiFtLauderdale',\n",
       "       'Midsouth', 'Nashville', 'NewOrleansMobile', 'NewYork',\n",
       "       'Northeast', 'NorthernNewEngland', 'Orlando', 'Philadelphia',\n",
       "       'PhoenixTucson', 'Pittsburgh', 'Plains', 'Portland',\n",
       "       'RaleighGreensboro', 'RichmondNorfolk', 'Roanoke', 'Sacramento',\n",
       "       'SanDiego', 'SanFrancisco', 'Seattle', 'SouthCarolina',\n",
       "       'SouthCentral', 'Southeast', 'Spokane', 'StLouis', 'Syracuse',\n",
       "       'Tampa', 'TotalUS', 'West', 'WestTexNewMexico'], dtype=object)"
      ]
     },
     "execution_count": 103,
     "metadata": {},
     "output_type": "execute_result"
    }
   ],
   "source": [
    "df['region'].unique()"
   ]
  },
  {
   "cell_type": "code",
   "execution_count": 104,
   "id": "01afb0c0",
   "metadata": {},
   "outputs": [],
   "source": [
    "#Binary Encoding\n",
    "cat= data[['type','region']]"
   ]
  },
  {
   "cell_type": "code",
   "execution_count": 105,
   "id": "95274855",
   "metadata": {},
   "outputs": [
    {
     "data": {
      "text/html": [
       "<div>\n",
       "<style scoped>\n",
       "    .dataframe tbody tr th:only-of-type {\n",
       "        vertical-align: middle;\n",
       "    }\n",
       "\n",
       "    .dataframe tbody tr th {\n",
       "        vertical-align: top;\n",
       "    }\n",
       "\n",
       "    .dataframe thead th {\n",
       "        text-align: right;\n",
       "    }\n",
       "</style>\n",
       "<table border=\"1\" class=\"dataframe\">\n",
       "  <thead>\n",
       "    <tr style=\"text-align: right;\">\n",
       "      <th></th>\n",
       "      <th>type</th>\n",
       "      <th>region</th>\n",
       "    </tr>\n",
       "  </thead>\n",
       "  <tbody>\n",
       "    <tr>\n",
       "      <th>0</th>\n",
       "      <td>conventional</td>\n",
       "      <td>Albany</td>\n",
       "    </tr>\n",
       "    <tr>\n",
       "      <th>1</th>\n",
       "      <td>conventional</td>\n",
       "      <td>Albany</td>\n",
       "    </tr>\n",
       "    <tr>\n",
       "      <th>2</th>\n",
       "      <td>conventional</td>\n",
       "      <td>Albany</td>\n",
       "    </tr>\n",
       "    <tr>\n",
       "      <th>3</th>\n",
       "      <td>conventional</td>\n",
       "      <td>Albany</td>\n",
       "    </tr>\n",
       "    <tr>\n",
       "      <th>4</th>\n",
       "      <td>conventional</td>\n",
       "      <td>Albany</td>\n",
       "    </tr>\n",
       "    <tr>\n",
       "      <th>...</th>\n",
       "      <td>...</td>\n",
       "      <td>...</td>\n",
       "    </tr>\n",
       "    <tr>\n",
       "      <th>18244</th>\n",
       "      <td>organic</td>\n",
       "      <td>WestTexNewMexico</td>\n",
       "    </tr>\n",
       "    <tr>\n",
       "      <th>18245</th>\n",
       "      <td>organic</td>\n",
       "      <td>WestTexNewMexico</td>\n",
       "    </tr>\n",
       "    <tr>\n",
       "      <th>18246</th>\n",
       "      <td>organic</td>\n",
       "      <td>WestTexNewMexico</td>\n",
       "    </tr>\n",
       "    <tr>\n",
       "      <th>18247</th>\n",
       "      <td>organic</td>\n",
       "      <td>WestTexNewMexico</td>\n",
       "    </tr>\n",
       "    <tr>\n",
       "      <th>18248</th>\n",
       "      <td>organic</td>\n",
       "      <td>WestTexNewMexico</td>\n",
       "    </tr>\n",
       "  </tbody>\n",
       "</table>\n",
       "<p>17651 rows × 2 columns</p>\n",
       "</div>"
      ],
      "text/plain": [
       "               type            region\n",
       "0      conventional            Albany\n",
       "1      conventional            Albany\n",
       "2      conventional            Albany\n",
       "3      conventional            Albany\n",
       "4      conventional            Albany\n",
       "...             ...               ...\n",
       "18244       organic  WestTexNewMexico\n",
       "18245       organic  WestTexNewMexico\n",
       "18246       organic  WestTexNewMexico\n",
       "18247       organic  WestTexNewMexico\n",
       "18248       organic  WestTexNewMexico\n",
       "\n",
       "[17651 rows x 2 columns]"
      ]
     },
     "execution_count": 105,
     "metadata": {},
     "output_type": "execute_result"
    }
   ],
   "source": [
    "cat"
   ]
  },
  {
   "cell_type": "code",
   "execution_count": 110,
   "id": "249f8a09",
   "metadata": {},
   "outputs": [],
   "source": [
    "#Machine Learning"
   ]
  },
  {
   "cell_type": "code",
   "execution_count": 111,
   "id": "073d424e",
   "metadata": {},
   "outputs": [],
   "source": [
    "# Its a Regression problem coz output variable have continuous data, Average Price\n",
    "from sklearn.model_selection import train_test_split\n",
    "from sklearn.linear_model import LinearRegression\n",
    "from sklearn.metrics import r2_score,mean_absolute_error,mean_squared_error\n",
    "\n",
    "LR= LinearRegression()"
   ]
  },
  {
   "cell_type": "code",
   "execution_count": 113,
   "id": "1d72d23f",
   "metadata": {},
   "outputs": [],
   "source": [
    "#Outlier()\n",
    "# if outlier records are lewss, we will delete"
   ]
  },
  {
   "cell_type": "code",
   "execution_count": 114,
   "id": "4044e335",
   "metadata": {},
   "outputs": [],
   "source": [
    "num= df.select_dtypes(np.number)"
   ]
  },
  {
   "cell_type": "code",
   "execution_count": 115,
   "id": "6e126905",
   "metadata": {},
   "outputs": [
    {
     "data": {
      "text/html": [
       "<div>\n",
       "<style scoped>\n",
       "    .dataframe tbody tr th:only-of-type {\n",
       "        vertical-align: middle;\n",
       "    }\n",
       "\n",
       "    .dataframe tbody tr th {\n",
       "        vertical-align: top;\n",
       "    }\n",
       "\n",
       "    .dataframe thead th {\n",
       "        text-align: right;\n",
       "    }\n",
       "</style>\n",
       "<table border=\"1\" class=\"dataframe\">\n",
       "  <thead>\n",
       "    <tr style=\"text-align: right;\">\n",
       "      <th></th>\n",
       "      <th>AveragePrice</th>\n",
       "      <th>Total Volume</th>\n",
       "      <th>4046</th>\n",
       "      <th>4225</th>\n",
       "      <th>4770</th>\n",
       "      <th>Total Bags</th>\n",
       "      <th>Small Bags</th>\n",
       "      <th>Large Bags</th>\n",
       "      <th>XLarge Bags</th>\n",
       "      <th>year</th>\n",
       "      <th>Month</th>\n",
       "    </tr>\n",
       "  </thead>\n",
       "  <tbody>\n",
       "    <tr>\n",
       "      <th>0</th>\n",
       "      <td>1.33</td>\n",
       "      <td>64236.62</td>\n",
       "      <td>1036.74</td>\n",
       "      <td>54454.85</td>\n",
       "      <td>48.16</td>\n",
       "      <td>8696.87</td>\n",
       "      <td>8603.62</td>\n",
       "      <td>93.25</td>\n",
       "      <td>0.0</td>\n",
       "      <td>2015</td>\n",
       "      <td>12</td>\n",
       "    </tr>\n",
       "    <tr>\n",
       "      <th>1</th>\n",
       "      <td>1.35</td>\n",
       "      <td>54876.98</td>\n",
       "      <td>674.28</td>\n",
       "      <td>44638.81</td>\n",
       "      <td>58.33</td>\n",
       "      <td>9505.56</td>\n",
       "      <td>9408.07</td>\n",
       "      <td>97.49</td>\n",
       "      <td>0.0</td>\n",
       "      <td>2015</td>\n",
       "      <td>12</td>\n",
       "    </tr>\n",
       "    <tr>\n",
       "      <th>2</th>\n",
       "      <td>0.93</td>\n",
       "      <td>118220.22</td>\n",
       "      <td>794.70</td>\n",
       "      <td>109149.67</td>\n",
       "      <td>130.50</td>\n",
       "      <td>8145.35</td>\n",
       "      <td>8042.21</td>\n",
       "      <td>103.14</td>\n",
       "      <td>0.0</td>\n",
       "      <td>2015</td>\n",
       "      <td>12</td>\n",
       "    </tr>\n",
       "    <tr>\n",
       "      <th>3</th>\n",
       "      <td>1.08</td>\n",
       "      <td>78992.15</td>\n",
       "      <td>1132.00</td>\n",
       "      <td>71976.41</td>\n",
       "      <td>72.58</td>\n",
       "      <td>5811.16</td>\n",
       "      <td>5677.40</td>\n",
       "      <td>133.76</td>\n",
       "      <td>0.0</td>\n",
       "      <td>2015</td>\n",
       "      <td>6</td>\n",
       "    </tr>\n",
       "    <tr>\n",
       "      <th>4</th>\n",
       "      <td>1.28</td>\n",
       "      <td>51039.60</td>\n",
       "      <td>941.48</td>\n",
       "      <td>43838.39</td>\n",
       "      <td>75.78</td>\n",
       "      <td>6183.95</td>\n",
       "      <td>5986.26</td>\n",
       "      <td>197.69</td>\n",
       "      <td>0.0</td>\n",
       "      <td>2015</td>\n",
       "      <td>11</td>\n",
       "    </tr>\n",
       "    <tr>\n",
       "      <th>...</th>\n",
       "      <td>...</td>\n",
       "      <td>...</td>\n",
       "      <td>...</td>\n",
       "      <td>...</td>\n",
       "      <td>...</td>\n",
       "      <td>...</td>\n",
       "      <td>...</td>\n",
       "      <td>...</td>\n",
       "      <td>...</td>\n",
       "      <td>...</td>\n",
       "      <td>...</td>\n",
       "    </tr>\n",
       "    <tr>\n",
       "      <th>18244</th>\n",
       "      <td>1.63</td>\n",
       "      <td>17074.83</td>\n",
       "      <td>2046.96</td>\n",
       "      <td>1529.20</td>\n",
       "      <td>0.00</td>\n",
       "      <td>13498.67</td>\n",
       "      <td>13066.82</td>\n",
       "      <td>431.85</td>\n",
       "      <td>0.0</td>\n",
       "      <td>2018</td>\n",
       "      <td>4</td>\n",
       "    </tr>\n",
       "    <tr>\n",
       "      <th>18245</th>\n",
       "      <td>1.71</td>\n",
       "      <td>13888.04</td>\n",
       "      <td>1191.70</td>\n",
       "      <td>3431.50</td>\n",
       "      <td>0.00</td>\n",
       "      <td>9264.84</td>\n",
       "      <td>8940.04</td>\n",
       "      <td>324.80</td>\n",
       "      <td>0.0</td>\n",
       "      <td>2018</td>\n",
       "      <td>1</td>\n",
       "    </tr>\n",
       "    <tr>\n",
       "      <th>18246</th>\n",
       "      <td>1.87</td>\n",
       "      <td>13766.76</td>\n",
       "      <td>1191.92</td>\n",
       "      <td>2452.79</td>\n",
       "      <td>727.94</td>\n",
       "      <td>9394.11</td>\n",
       "      <td>9351.80</td>\n",
       "      <td>42.31</td>\n",
       "      <td>0.0</td>\n",
       "      <td>2018</td>\n",
       "      <td>1</td>\n",
       "    </tr>\n",
       "    <tr>\n",
       "      <th>18247</th>\n",
       "      <td>1.93</td>\n",
       "      <td>16205.22</td>\n",
       "      <td>1527.63</td>\n",
       "      <td>2981.04</td>\n",
       "      <td>727.01</td>\n",
       "      <td>10969.54</td>\n",
       "      <td>10919.54</td>\n",
       "      <td>50.00</td>\n",
       "      <td>0.0</td>\n",
       "      <td>2018</td>\n",
       "      <td>1</td>\n",
       "    </tr>\n",
       "    <tr>\n",
       "      <th>18248</th>\n",
       "      <td>1.62</td>\n",
       "      <td>17489.58</td>\n",
       "      <td>2894.77</td>\n",
       "      <td>2356.13</td>\n",
       "      <td>224.53</td>\n",
       "      <td>12014.15</td>\n",
       "      <td>11988.14</td>\n",
       "      <td>26.01</td>\n",
       "      <td>0.0</td>\n",
       "      <td>2018</td>\n",
       "      <td>7</td>\n",
       "    </tr>\n",
       "  </tbody>\n",
       "</table>\n",
       "<p>18249 rows × 11 columns</p>\n",
       "</div>"
      ],
      "text/plain": [
       "       AveragePrice  Total Volume     4046       4225    4770  Total Bags  \\\n",
       "0              1.33      64236.62  1036.74   54454.85   48.16     8696.87   \n",
       "1              1.35      54876.98   674.28   44638.81   58.33     9505.56   \n",
       "2              0.93     118220.22   794.70  109149.67  130.50     8145.35   \n",
       "3              1.08      78992.15  1132.00   71976.41   72.58     5811.16   \n",
       "4              1.28      51039.60   941.48   43838.39   75.78     6183.95   \n",
       "...             ...           ...      ...        ...     ...         ...   \n",
       "18244          1.63      17074.83  2046.96    1529.20    0.00    13498.67   \n",
       "18245          1.71      13888.04  1191.70    3431.50    0.00     9264.84   \n",
       "18246          1.87      13766.76  1191.92    2452.79  727.94     9394.11   \n",
       "18247          1.93      16205.22  1527.63    2981.04  727.01    10969.54   \n",
       "18248          1.62      17489.58  2894.77    2356.13  224.53    12014.15   \n",
       "\n",
       "       Small Bags  Large Bags  XLarge Bags  year  Month  \n",
       "0         8603.62       93.25          0.0  2015     12  \n",
       "1         9408.07       97.49          0.0  2015     12  \n",
       "2         8042.21      103.14          0.0  2015     12  \n",
       "3         5677.40      133.76          0.0  2015      6  \n",
       "4         5986.26      197.69          0.0  2015     11  \n",
       "...           ...         ...          ...   ...    ...  \n",
       "18244    13066.82      431.85          0.0  2018      4  \n",
       "18245     8940.04      324.80          0.0  2018      1  \n",
       "18246     9351.80       42.31          0.0  2018      1  \n",
       "18247    10919.54       50.00          0.0  2018      1  \n",
       "18248    11988.14       26.01          0.0  2018      7  \n",
       "\n",
       "[18249 rows x 11 columns]"
      ]
     },
     "execution_count": 115,
     "metadata": {},
     "output_type": "execute_result"
    }
   ],
   "source": [
    "num"
   ]
  },
  {
   "cell_type": "code",
   "execution_count": 116,
   "id": "66ffd958",
   "metadata": {},
   "outputs": [
    {
     "data": {
      "text/plain": [
       "AveragePrice     0.580303\n",
       "Total Volume     9.007687\n",
       "4046             8.648220\n",
       "4225             8.942466\n",
       "4770            10.159396\n",
       "Total Bags       9.756072\n",
       "Small Bags       9.540660\n",
       "Large Bags       9.796455\n",
       "XLarge Bags     13.139751\n",
       "year             0.215339\n",
       "Month            0.047551\n",
       "dtype: float64"
      ]
     },
     "execution_count": 116,
     "metadata": {},
     "output_type": "execute_result"
    }
   ],
   "source": [
    "num.skew()"
   ]
  },
  {
   "cell_type": "code",
   "execution_count": 117,
   "id": "a7fb2c4c",
   "metadata": {},
   "outputs": [
    {
     "data": {
      "text/plain": [
       "AveragePrice        AxesSubplot(0.125,0.71587;0.133621x0.16413)\n",
       "Total Volume     AxesSubplot(0.285345,0.71587;0.133621x0.16413)\n",
       "4046              AxesSubplot(0.44569,0.71587;0.133621x0.16413)\n",
       "4225             AxesSubplot(0.606034,0.71587;0.133621x0.16413)\n",
       "4770             AxesSubplot(0.766379,0.71587;0.133621x0.16413)\n",
       "Total Bags         AxesSubplot(0.125,0.518913;0.133621x0.16413)\n",
       "Small Bags      AxesSubplot(0.285345,0.518913;0.133621x0.16413)\n",
       "Large Bags       AxesSubplot(0.44569,0.518913;0.133621x0.16413)\n",
       "XLarge Bags     AxesSubplot(0.606034,0.518913;0.133621x0.16413)\n",
       "year            AxesSubplot(0.766379,0.518913;0.133621x0.16413)\n",
       "Month              AxesSubplot(0.125,0.321957;0.133621x0.16413)\n",
       "dtype: object"
      ]
     },
     "execution_count": 117,
     "metadata": {},
     "output_type": "execute_result"
    },
    {
     "data": {
      "image/png": "[encoded data removed]",
      "text/plain": [
       "<Figure size 1080x720 with 20 Axes>"
      ]
     },
     "metadata": {
      "needs_background": "light"
     },
     "output_type": "display_data"
    }
   ],
   "source": [
    "df.plot(kind='box', subplots=True, layout=(4,5),figsize=(15,10))"
   ]
  },
  {
   "cell_type": "code",
   "execution_count": 118,
   "id": "0f806855",
   "metadata": {},
   "outputs": [
    {
     "name": "stdout",
     "output_type": "stream",
     "text": [
      "       AveragePrice  Total Volume      4046      4225      4770  Total Bags  \\\n",
      "0          0.188689      0.227716  0.230816  0.199902  0.212091    0.234170   \n",
      "1          0.139020      0.230427  0.231103  0.208054  0.211997    0.233350   \n",
      "2          1.182069      0.212085  0.231007  0.154478  0.211325    0.234730   \n",
      "3          0.809551      0.223444  0.230741  0.185350  0.211864    0.237096   \n",
      "4          0.312861      0.231538  0.230891  0.208719  0.211834    0.236718   \n",
      "...             ...           ...       ...       ...       ...         ...   \n",
      "18244      0.556347      0.241373  0.230017  0.243857  0.212540    0.229301   \n",
      "18245      0.755023      0.242296  0.230693  0.242277  0.212540    0.233594   \n",
      "18246      1.152375      0.242331  0.230693  0.243090  0.205766    0.233463   \n",
      "18247      1.301382      0.241625  0.230428  0.242651  0.205774    0.231866   \n",
      "18248      0.531512      0.241253  0.229347  0.243170  0.210450    0.230807   \n",
      "\n",
      "       Small Bags  Large Bags  XLarge Bags      year     Month  \n",
      "0        0.232647    0.222352      0.17558  1.221282  1.596385  \n",
      "1        0.231568    0.222335      0.17558  1.221282  1.596385  \n",
      "2        0.233399    0.222311      0.17558  1.221282  1.596385  \n",
      "3        0.236568    0.222186      0.17558  1.221282  0.105773  \n",
      "4        0.236154    0.221924      0.17558  1.221282  1.312692  \n",
      "...           ...         ...          ...       ...       ...  \n",
      "18244    0.226665    0.220964      0.17558  1.970504  0.673159  \n",
      "18245    0.232196    0.221403      0.17558  1.970504  1.524238  \n",
      "18246    0.231644    0.222561      0.17558  1.970504  1.524238  \n",
      "18247    0.229543    0.222529      0.17558  1.970504  1.524238  \n",
      "18248    0.228111    0.222628      0.17558  1.970504  0.177920  \n",
      "\n",
      "[18249 rows x 11 columns]\n"
     ]
    }
   ],
   "source": [
    "from scipy.stats import zscore\n",
    "\n",
    "# calculate z score\n",
    "z=np.abs(zscore(num))\n",
    "print(z)"
   ]
  },
  {
   "cell_type": "code",
   "execution_count": 119,
   "id": "df0126ce",
   "metadata": {},
   "outputs": [
    {
     "name": "stdout",
     "output_type": "stream",
     "text": [
      "(array([    0,     0,     0, ..., 18248, 18248, 18248], dtype=int64), array([ 0,  1,  2, ...,  8,  9, 10], dtype=int64))\n",
      "(18249, 11)\n"
     ]
    }
   ],
   "source": [
    "threshold=3\n",
    "print(np.where(z<3))\n",
    "print(num.shape)"
   ]
  },
  {
   "cell_type": "code",
   "execution_count": 120,
   "id": "5367fc6e",
   "metadata": {},
   "outputs": [],
   "source": [
    "# assign the value to df_new which are less the threshold\n",
    "data= df[(z<3).all(axis=1)]"
   ]
  },
  {
   "cell_type": "code",
   "execution_count": 121,
   "id": "4b9ed35a",
   "metadata": {},
   "outputs": [
    {
     "data": {
      "text/plain": [
       "598"
      ]
     },
     "execution_count": 121,
     "metadata": {},
     "output_type": "execute_result"
    }
   ],
   "source": [
    "df.shape[0]- data.shape[0]"
   ]
  },
  {
   "cell_type": "code",
   "execution_count": 122,
   "id": "24bdf2f8",
   "metadata": {},
   "outputs": [
    {
     "data": {
      "text/plain": [
       "AveragePrice    0.377432\n",
       "Total Volume    3.767138\n",
       "4046            4.909848\n",
       "4225            4.455745\n",
       "4770            5.117170\n",
       "Total Bags      4.066771\n",
       "Small Bags      4.222706\n",
       "Large Bags      5.053434\n",
       "XLarge Bags     6.135607\n",
       "year            0.229976\n",
       "Month           0.046419\n",
       "dtype: float64"
      ]
     },
     "execution_count": 122,
     "metadata": {},
     "output_type": "execute_result"
    }
   ],
   "source": [
    "data.skew()"
   ]
  },
  {
   "cell_type": "code",
   "execution_count": 123,
   "id": "11304803",
   "metadata": {},
   "outputs": [
    {
     "data": {
      "text/plain": [
       "(17651, 13)"
      ]
     },
     "execution_count": 123,
     "metadata": {},
     "output_type": "execute_result"
    }
   ],
   "source": [
    "# Skewness reduced to some extent\n",
    "data.drop('Date', axis=1,inplace=True)\n",
    "data.shape"
   ]
  },
  {
   "cell_type": "code",
   "execution_count": 124,
   "id": "09ace627",
   "metadata": {},
   "outputs": [
    {
     "data": {
      "text/html": [
       "<div>\n",
       "<style scoped>\n",
       "    .dataframe tbody tr th:only-of-type {\n",
       "        vertical-align: middle;\n",
       "    }\n",
       "\n",
       "    .dataframe tbody tr th {\n",
       "        vertical-align: top;\n",
       "    }\n",
       "\n",
       "    .dataframe thead th {\n",
       "        text-align: right;\n",
       "    }\n",
       "</style>\n",
       "<table border=\"1\" class=\"dataframe\">\n",
       "  <thead>\n",
       "    <tr style=\"text-align: right;\">\n",
       "      <th></th>\n",
       "      <th>AveragePrice</th>\n",
       "      <th>Total Volume</th>\n",
       "      <th>4046</th>\n",
       "      <th>4225</th>\n",
       "      <th>4770</th>\n",
       "      <th>Total Bags</th>\n",
       "      <th>Small Bags</th>\n",
       "      <th>Large Bags</th>\n",
       "      <th>XLarge Bags</th>\n",
       "      <th>year</th>\n",
       "      <th>Month</th>\n",
       "    </tr>\n",
       "  </thead>\n",
       "  <tbody>\n",
       "    <tr>\n",
       "      <th>0</th>\n",
       "      <td>1.33</td>\n",
       "      <td>64236.62</td>\n",
       "      <td>1036.74</td>\n",
       "      <td>54454.85</td>\n",
       "      <td>48.16</td>\n",
       "      <td>8696.87</td>\n",
       "      <td>8603.62</td>\n",
       "      <td>93.25</td>\n",
       "      <td>0.0</td>\n",
       "      <td>2015</td>\n",
       "      <td>12</td>\n",
       "    </tr>\n",
       "    <tr>\n",
       "      <th>1</th>\n",
       "      <td>1.35</td>\n",
       "      <td>54876.98</td>\n",
       "      <td>674.28</td>\n",
       "      <td>44638.81</td>\n",
       "      <td>58.33</td>\n",
       "      <td>9505.56</td>\n",
       "      <td>9408.07</td>\n",
       "      <td>97.49</td>\n",
       "      <td>0.0</td>\n",
       "      <td>2015</td>\n",
       "      <td>12</td>\n",
       "    </tr>\n",
       "    <tr>\n",
       "      <th>2</th>\n",
       "      <td>0.93</td>\n",
       "      <td>118220.22</td>\n",
       "      <td>794.70</td>\n",
       "      <td>109149.67</td>\n",
       "      <td>130.50</td>\n",
       "      <td>8145.35</td>\n",
       "      <td>8042.21</td>\n",
       "      <td>103.14</td>\n",
       "      <td>0.0</td>\n",
       "      <td>2015</td>\n",
       "      <td>12</td>\n",
       "    </tr>\n",
       "    <tr>\n",
       "      <th>3</th>\n",
       "      <td>1.08</td>\n",
       "      <td>78992.15</td>\n",
       "      <td>1132.00</td>\n",
       "      <td>71976.41</td>\n",
       "      <td>72.58</td>\n",
       "      <td>5811.16</td>\n",
       "      <td>5677.40</td>\n",
       "      <td>133.76</td>\n",
       "      <td>0.0</td>\n",
       "      <td>2015</td>\n",
       "      <td>6</td>\n",
       "    </tr>\n",
       "    <tr>\n",
       "      <th>4</th>\n",
       "      <td>1.28</td>\n",
       "      <td>51039.60</td>\n",
       "      <td>941.48</td>\n",
       "      <td>43838.39</td>\n",
       "      <td>75.78</td>\n",
       "      <td>6183.95</td>\n",
       "      <td>5986.26</td>\n",
       "      <td>197.69</td>\n",
       "      <td>0.0</td>\n",
       "      <td>2015</td>\n",
       "      <td>11</td>\n",
       "    </tr>\n",
       "    <tr>\n",
       "      <th>...</th>\n",
       "      <td>...</td>\n",
       "      <td>...</td>\n",
       "      <td>...</td>\n",
       "      <td>...</td>\n",
       "      <td>...</td>\n",
       "      <td>...</td>\n",
       "      <td>...</td>\n",
       "      <td>...</td>\n",
       "      <td>...</td>\n",
       "      <td>...</td>\n",
       "      <td>...</td>\n",
       "    </tr>\n",
       "    <tr>\n",
       "      <th>18244</th>\n",
       "      <td>1.63</td>\n",
       "      <td>17074.83</td>\n",
       "      <td>2046.96</td>\n",
       "      <td>1529.20</td>\n",
       "      <td>0.00</td>\n",
       "      <td>13498.67</td>\n",
       "      <td>13066.82</td>\n",
       "      <td>431.85</td>\n",
       "      <td>0.0</td>\n",
       "      <td>2018</td>\n",
       "      <td>4</td>\n",
       "    </tr>\n",
       "    <tr>\n",
       "      <th>18245</th>\n",
       "      <td>1.71</td>\n",
       "      <td>13888.04</td>\n",
       "      <td>1191.70</td>\n",
       "      <td>3431.50</td>\n",
       "      <td>0.00</td>\n",
       "      <td>9264.84</td>\n",
       "      <td>8940.04</td>\n",
       "      <td>324.80</td>\n",
       "      <td>0.0</td>\n",
       "      <td>2018</td>\n",
       "      <td>1</td>\n",
       "    </tr>\n",
       "    <tr>\n",
       "      <th>18246</th>\n",
       "      <td>1.87</td>\n",
       "      <td>13766.76</td>\n",
       "      <td>1191.92</td>\n",
       "      <td>2452.79</td>\n",
       "      <td>727.94</td>\n",
       "      <td>9394.11</td>\n",
       "      <td>9351.80</td>\n",
       "      <td>42.31</td>\n",
       "      <td>0.0</td>\n",
       "      <td>2018</td>\n",
       "      <td>1</td>\n",
       "    </tr>\n",
       "    <tr>\n",
       "      <th>18247</th>\n",
       "      <td>1.93</td>\n",
       "      <td>16205.22</td>\n",
       "      <td>1527.63</td>\n",
       "      <td>2981.04</td>\n",
       "      <td>727.01</td>\n",
       "      <td>10969.54</td>\n",
       "      <td>10919.54</td>\n",
       "      <td>50.00</td>\n",
       "      <td>0.0</td>\n",
       "      <td>2018</td>\n",
       "      <td>1</td>\n",
       "    </tr>\n",
       "    <tr>\n",
       "      <th>18248</th>\n",
       "      <td>1.62</td>\n",
       "      <td>17489.58</td>\n",
       "      <td>2894.77</td>\n",
       "      <td>2356.13</td>\n",
       "      <td>224.53</td>\n",
       "      <td>12014.15</td>\n",
       "      <td>11988.14</td>\n",
       "      <td>26.01</td>\n",
       "      <td>0.0</td>\n",
       "      <td>2018</td>\n",
       "      <td>7</td>\n",
       "    </tr>\n",
       "  </tbody>\n",
       "</table>\n",
       "<p>17651 rows × 11 columns</p>\n",
       "</div>"
      ],
      "text/plain": [
       "       AveragePrice  Total Volume     4046       4225    4770  Total Bags  \\\n",
       "0              1.33      64236.62  1036.74   54454.85   48.16     8696.87   \n",
       "1              1.35      54876.98   674.28   44638.81   58.33     9505.56   \n",
       "2              0.93     118220.22   794.70  109149.67  130.50     8145.35   \n",
       "3              1.08      78992.15  1132.00   71976.41   72.58     5811.16   \n",
       "4              1.28      51039.60   941.48   43838.39   75.78     6183.95   \n",
       "...             ...           ...      ...        ...     ...         ...   \n",
       "18244          1.63      17074.83  2046.96    1529.20    0.00    13498.67   \n",
       "18245          1.71      13888.04  1191.70    3431.50    0.00     9264.84   \n",
       "18246          1.87      13766.76  1191.92    2452.79  727.94     9394.11   \n",
       "18247          1.93      16205.22  1527.63    2981.04  727.01    10969.54   \n",
       "18248          1.62      17489.58  2894.77    2356.13  224.53    12014.15   \n",
       "\n",
       "       Small Bags  Large Bags  XLarge Bags  year  Month  \n",
       "0         8603.62       93.25          0.0  2015     12  \n",
       "1         9408.07       97.49          0.0  2015     12  \n",
       "2         8042.21      103.14          0.0  2015     12  \n",
       "3         5677.40      133.76          0.0  2015      6  \n",
       "4         5986.26      197.69          0.0  2015     11  \n",
       "...           ...         ...          ...   ...    ...  \n",
       "18244    13066.82      431.85          0.0  2018      4  \n",
       "18245     8940.04      324.80          0.0  2018      1  \n",
       "18246     9351.80       42.31          0.0  2018      1  \n",
       "18247    10919.54       50.00          0.0  2018      1  \n",
       "18248    11988.14       26.01          0.0  2018      7  \n",
       "\n",
       "[17651 rows x 11 columns]"
      ]
     },
     "execution_count": 124,
     "metadata": {},
     "output_type": "execute_result"
    }
   ],
   "source": [
    "num= data.select_dtypes(np.number)\n",
    "num"
   ]
  },
  {
   "cell_type": "code",
   "execution_count": 125,
   "id": "b60207d4",
   "metadata": {},
   "outputs": [],
   "source": [
    "#Transformation to remove skewness"
   ]
  },
  {
   "cell_type": "code",
   "execution_count": 126,
   "id": "c89ce786",
   "metadata": {},
   "outputs": [],
   "source": [
    "from sklearn.preprocessing import power_transform\n",
    "transformed=power_transform(num)\n",
    "transformed=pd.DataFrame(transformed)\n",
    "transformed.columns= num.columns"
   ]
  },
  {
   "cell_type": "code",
   "execution_count": 127,
   "id": "5c476dbf",
   "metadata": {},
   "outputs": [
    {
     "data": {
      "text/html": [
       "<div>\n",
       "<style scoped>\n",
       "    .dataframe tbody tr th:only-of-type {\n",
       "        vertical-align: middle;\n",
       "    }\n",
       "\n",
       "    .dataframe tbody tr th {\n",
       "        vertical-align: top;\n",
       "    }\n",
       "\n",
       "    .dataframe thead th {\n",
       "        text-align: right;\n",
       "    }\n",
       "</style>\n",
       "<table border=\"1\" class=\"dataframe\">\n",
       "  <thead>\n",
       "    <tr style=\"text-align: right;\">\n",
       "      <th></th>\n",
       "      <th>AveragePrice</th>\n",
       "      <th>Total Volume</th>\n",
       "      <th>4046</th>\n",
       "      <th>4225</th>\n",
       "      <th>4770</th>\n",
       "      <th>Total Bags</th>\n",
       "      <th>Small Bags</th>\n",
       "      <th>Large Bags</th>\n",
       "      <th>XLarge Bags</th>\n",
       "      <th>year</th>\n",
       "      <th>Month</th>\n",
       "    </tr>\n",
       "  </thead>\n",
       "  <tbody>\n",
       "    <tr>\n",
       "      <th>0</th>\n",
       "      <td>-0.117824</td>\n",
       "      <td>-0.075324</td>\n",
       "      <td>-0.657421</td>\n",
       "      <td>0.351430</td>\n",
       "      <td>-0.222566</td>\n",
       "      <td>-0.537507</td>\n",
       "      <td>-0.347421</td>\n",
       "      <td>-0.781153</td>\n",
       "      <td>-0.677919</td>\n",
       "      <td>-1.210647</td>\n",
       "      <td>1.475625</td>\n",
       "    </tr>\n",
       "    <tr>\n",
       "      <th>1</th>\n",
       "      <td>-0.064330</td>\n",
       "      <td>-0.147497</td>\n",
       "      <td>-0.777179</td>\n",
       "      <td>0.269513</td>\n",
       "      <td>-0.175223</td>\n",
       "      <td>-0.498128</td>\n",
       "      <td>-0.311322</td>\n",
       "      <td>-0.771198</td>\n",
       "      <td>-0.677919</td>\n",
       "      <td>-1.210647</td>\n",
       "      <td>1.475625</td>\n",
       "    </tr>\n",
       "    <tr>\n",
       "      <th>2</th>\n",
       "      <td>-1.298865</td>\n",
       "      <td>0.205556</td>\n",
       "      <td>-0.731776</td>\n",
       "      <td>0.649333</td>\n",
       "      <td>0.023923</td>\n",
       "      <td>-0.566369</td>\n",
       "      <td>-0.374453</td>\n",
       "      <td>-0.758523</td>\n",
       "      <td>-0.677919</td>\n",
       "      <td>-1.210647</td>\n",
       "      <td>1.475625</td>\n",
       "    </tr>\n",
       "    <tr>\n",
       "      <th>3</th>\n",
       "      <td>-0.829026</td>\n",
       "      <td>0.019655</td>\n",
       "      <td>-0.632592</td>\n",
       "      <td>0.468799</td>\n",
       "      <td>-0.121164</td>\n",
       "      <td>-0.713068</td>\n",
       "      <td>-0.510991</td>\n",
       "      <td>-0.699123</td>\n",
       "      <td>-0.677919</td>\n",
       "      <td>-1.210647</td>\n",
       "      <td>-0.017894</td>\n",
       "    </tr>\n",
       "    <tr>\n",
       "      <th>4</th>\n",
       "      <td>-0.253635</td>\n",
       "      <td>-0.180674</td>\n",
       "      <td>-0.684504</td>\n",
       "      <td>0.262126</td>\n",
       "      <td>-0.110491</td>\n",
       "      <td>-0.686312</td>\n",
       "      <td>-0.490534</td>\n",
       "      <td>-0.607027</td>\n",
       "      <td>-0.677919</td>\n",
       "      <td>-1.210647</td>\n",
       "      <td>1.246164</td>\n",
       "    </tr>\n",
       "    <tr>\n",
       "      <th>...</th>\n",
       "      <td>...</td>\n",
       "      <td>...</td>\n",
       "      <td>...</td>\n",
       "      <td>...</td>\n",
       "      <td>...</td>\n",
       "      <td>...</td>\n",
       "      <td>...</td>\n",
       "      <td>...</td>\n",
       "      <td>...</td>\n",
       "      <td>...</td>\n",
       "      <td>...</td>\n",
       "    </tr>\n",
       "    <tr>\n",
       "      <th>17646</th>\n",
       "      <td>0.639410</td>\n",
       "      <td>-0.678214</td>\n",
       "      <td>-0.462066</td>\n",
       "      <td>-0.926028</td>\n",
       "      <td>-1.228986</td>\n",
       "      <td>-0.340422</td>\n",
       "      <td>-0.175753</td>\n",
       "      <td>-0.412401</td>\n",
       "      <td>-0.677919</td>\n",
       "      <td>1.978707</td>\n",
       "      <td>-0.605604</td>\n",
       "    </tr>\n",
       "    <tr>\n",
       "      <th>17647</th>\n",
       "      <td>0.826487</td>\n",
       "      <td>-0.771326</td>\n",
       "      <td>-0.618019</td>\n",
       "      <td>-0.670600</td>\n",
       "      <td>-1.228986</td>\n",
       "      <td>-0.509513</td>\n",
       "      <td>-0.331971</td>\n",
       "      <td>-0.484991</td>\n",
       "      <td>-0.677919</td>\n",
       "      <td>1.978707</td>\n",
       "      <td>-1.674575</td>\n",
       "    </tr>\n",
       "    <tr>\n",
       "      <th>17648</th>\n",
       "      <td>1.184324</td>\n",
       "      <td>-0.775274</td>\n",
       "      <td>-0.617966</td>\n",
       "      <td>-0.778893</td>\n",
       "      <td>0.445710</td>\n",
       "      <td>-0.503366</td>\n",
       "      <td>-0.313756</td>\n",
       "      <td>-0.950743</td>\n",
       "      <td>-0.677919</td>\n",
       "      <td>1.978707</td>\n",
       "      <td>-1.674575</td>\n",
       "    </tr>\n",
       "    <tr>\n",
       "      <th>17649</th>\n",
       "      <td>1.313296</td>\n",
       "      <td>-0.701797</td>\n",
       "      <td>-0.547011</td>\n",
       "      <td>-0.716371</td>\n",
       "      <td>0.445399</td>\n",
       "      <td>-0.434176</td>\n",
       "      <td>-0.250408</td>\n",
       "      <td>-0.916068</td>\n",
       "      <td>-0.677919</td>\n",
       "      <td>1.978707</td>\n",
       "      <td>-1.674575</td>\n",
       "    </tr>\n",
       "    <tr>\n",
       "      <th>17650</th>\n",
       "      <td>0.615619</td>\n",
       "      <td>-0.667381</td>\n",
       "      <td>-0.359671</td>\n",
       "      <td>-0.791650</td>\n",
       "      <td>0.157768</td>\n",
       "      <td>-0.393236</td>\n",
       "      <td>-0.211755</td>\n",
       "      <td>-1.048116</td>\n",
       "      <td>-0.677919</td>\n",
       "      <td>1.978707</td>\n",
       "      <td>0.254358</td>\n",
       "    </tr>\n",
       "  </tbody>\n",
       "</table>\n",
       "<p>17651 rows × 11 columns</p>\n",
       "</div>"
      ],
      "text/plain": [
       "       AveragePrice  Total Volume      4046      4225      4770  Total Bags  \\\n",
       "0         -0.117824     -0.075324 -0.657421  0.351430 -0.222566   -0.537507   \n",
       "1         -0.064330     -0.147497 -0.777179  0.269513 -0.175223   -0.498128   \n",
       "2         -1.298865      0.205556 -0.731776  0.649333  0.023923   -0.566369   \n",
       "3         -0.829026      0.019655 -0.632592  0.468799 -0.121164   -0.713068   \n",
       "4         -0.253635     -0.180674 -0.684504  0.262126 -0.110491   -0.686312   \n",
       "...             ...           ...       ...       ...       ...         ...   \n",
       "17646      0.639410     -0.678214 -0.462066 -0.926028 -1.228986   -0.340422   \n",
       "17647      0.826487     -0.771326 -0.618019 -0.670600 -1.228986   -0.509513   \n",
       "17648      1.184324     -0.775274 -0.617966 -0.778893  0.445710   -0.503366   \n",
       "17649      1.313296     -0.701797 -0.547011 -0.716371  0.445399   -0.434176   \n",
       "17650      0.615619     -0.667381 -0.359671 -0.791650  0.157768   -0.393236   \n",
       "\n",
       "       Small Bags  Large Bags  XLarge Bags      year     Month  \n",
       "0       -0.347421   -0.781153    -0.677919 -1.210647  1.475625  \n",
       "1       -0.311322   -0.771198    -0.677919 -1.210647  1.475625  \n",
       "2       -0.374453   -0.758523    -0.677919 -1.210647  1.475625  \n",
       "3       -0.510991   -0.699123    -0.677919 -1.210647 -0.017894  \n",
       "4       -0.490534   -0.607027    -0.677919 -1.210647  1.246164  \n",
       "...           ...         ...          ...       ...       ...  \n",
       "17646   -0.175753   -0.412401    -0.677919  1.978707 -0.605604  \n",
       "17647   -0.331971   -0.484991    -0.677919  1.978707 -1.674575  \n",
       "17648   -0.313756   -0.950743    -0.677919  1.978707 -1.674575  \n",
       "17649   -0.250408   -0.916068    -0.677919  1.978707 -1.674575  \n",
       "17650   -0.211755   -1.048116    -0.677919  1.978707  0.254358  \n",
       "\n",
       "[17651 rows x 11 columns]"
      ]
     },
     "execution_count": 127,
     "metadata": {},
     "output_type": "execute_result"
    }
   ],
   "source": [
    "transformed"
   ]
  },
  {
   "cell_type": "code",
   "execution_count": 128,
   "id": "1d0d95e8",
   "metadata": {},
   "outputs": [
    {
     "data": {
      "text/plain": [
       "AveragePrice    0.000464\n",
       "Total Volume   -0.008642\n",
       "4046           -0.039282\n",
       "4225           -0.044675\n",
       "4770            0.024168\n",
       "Total Bags     -0.022204\n",
       "Small Bags     -0.024405\n",
       "Large Bags     -0.110913\n",
       "XLarge Bags     0.853758\n",
       "year            0.227731\n",
       "Month          -0.161423\n",
       "dtype: float64"
      ]
     },
     "execution_count": 128,
     "metadata": {},
     "output_type": "execute_result"
    }
   ],
   "source": [
    "transformed.skew()"
   ]
  },
  {
   "cell_type": "code",
   "execution_count": 129,
   "id": "f0fe9f9d",
   "metadata": {},
   "outputs": [],
   "source": [
    "#PCA - to reduce curse of dimentionality\n",
    "from sklearn.preprocessing import StandardScaler\n",
    "sc= StandardScaler()\n",
    "scaled=sc.fit_transform(transformed)"
   ]
  },
  {
   "cell_type": "code",
   "execution_count": 130,
   "id": "2ec30892",
   "metadata": {},
   "outputs": [
    {
     "data": {
      "text/html": [
       "<div>\n",
       "<style scoped>\n",
       "    .dataframe tbody tr th:only-of-type {\n",
       "        vertical-align: middle;\n",
       "    }\n",
       "\n",
       "    .dataframe tbody tr th {\n",
       "        vertical-align: top;\n",
       "    }\n",
       "\n",
       "    .dataframe thead th {\n",
       "        text-align: right;\n",
       "    }\n",
       "</style>\n",
       "<table border=\"1\" class=\"dataframe\">\n",
       "  <thead>\n",
       "    <tr style=\"text-align: right;\">\n",
       "      <th></th>\n",
       "      <th>AveragePrice</th>\n",
       "      <th>Total Volume</th>\n",
       "      <th>4046</th>\n",
       "      <th>4225</th>\n",
       "      <th>4770</th>\n",
       "      <th>Total Bags</th>\n",
       "      <th>Small Bags</th>\n",
       "      <th>Large Bags</th>\n",
       "      <th>XLarge Bags</th>\n",
       "      <th>year</th>\n",
       "      <th>Month</th>\n",
       "    </tr>\n",
       "  </thead>\n",
       "  <tbody>\n",
       "    <tr>\n",
       "      <th>0</th>\n",
       "      <td>-0.117824</td>\n",
       "      <td>-0.075324</td>\n",
       "      <td>-0.657421</td>\n",
       "      <td>0.351430</td>\n",
       "      <td>-0.222566</td>\n",
       "      <td>-0.537507</td>\n",
       "      <td>-0.347421</td>\n",
       "      <td>-0.781153</td>\n",
       "      <td>-0.677919</td>\n",
       "      <td>-1.210618</td>\n",
       "      <td>1.475625</td>\n",
       "    </tr>\n",
       "    <tr>\n",
       "      <th>1</th>\n",
       "      <td>-0.064330</td>\n",
       "      <td>-0.147497</td>\n",
       "      <td>-0.777179</td>\n",
       "      <td>0.269513</td>\n",
       "      <td>-0.175223</td>\n",
       "      <td>-0.498128</td>\n",
       "      <td>-0.311322</td>\n",
       "      <td>-0.771198</td>\n",
       "      <td>-0.677919</td>\n",
       "      <td>-1.210618</td>\n",
       "      <td>1.475625</td>\n",
       "    </tr>\n",
       "    <tr>\n",
       "      <th>2</th>\n",
       "      <td>-1.298865</td>\n",
       "      <td>0.205556</td>\n",
       "      <td>-0.731776</td>\n",
       "      <td>0.649333</td>\n",
       "      <td>0.023923</td>\n",
       "      <td>-0.566369</td>\n",
       "      <td>-0.374453</td>\n",
       "      <td>-0.758523</td>\n",
       "      <td>-0.677919</td>\n",
       "      <td>-1.210618</td>\n",
       "      <td>1.475625</td>\n",
       "    </tr>\n",
       "    <tr>\n",
       "      <th>3</th>\n",
       "      <td>-0.829026</td>\n",
       "      <td>0.019655</td>\n",
       "      <td>-0.632592</td>\n",
       "      <td>0.468799</td>\n",
       "      <td>-0.121164</td>\n",
       "      <td>-0.713068</td>\n",
       "      <td>-0.510991</td>\n",
       "      <td>-0.699123</td>\n",
       "      <td>-0.677919</td>\n",
       "      <td>-1.210618</td>\n",
       "      <td>-0.017894</td>\n",
       "    </tr>\n",
       "    <tr>\n",
       "      <th>4</th>\n",
       "      <td>-0.253635</td>\n",
       "      <td>-0.180674</td>\n",
       "      <td>-0.684504</td>\n",
       "      <td>0.262126</td>\n",
       "      <td>-0.110491</td>\n",
       "      <td>-0.686312</td>\n",
       "      <td>-0.490534</td>\n",
       "      <td>-0.607027</td>\n",
       "      <td>-0.677919</td>\n",
       "      <td>-1.210618</td>\n",
       "      <td>1.246164</td>\n",
       "    </tr>\n",
       "    <tr>\n",
       "      <th>...</th>\n",
       "      <td>...</td>\n",
       "      <td>...</td>\n",
       "      <td>...</td>\n",
       "      <td>...</td>\n",
       "      <td>...</td>\n",
       "      <td>...</td>\n",
       "      <td>...</td>\n",
       "      <td>...</td>\n",
       "      <td>...</td>\n",
       "      <td>...</td>\n",
       "      <td>...</td>\n",
       "    </tr>\n",
       "    <tr>\n",
       "      <th>17646</th>\n",
       "      <td>0.639410</td>\n",
       "      <td>-0.678214</td>\n",
       "      <td>-0.462066</td>\n",
       "      <td>-0.926028</td>\n",
       "      <td>-1.228986</td>\n",
       "      <td>-0.340422</td>\n",
       "      <td>-0.175753</td>\n",
       "      <td>-0.412401</td>\n",
       "      <td>-0.677919</td>\n",
       "      <td>1.978735</td>\n",
       "      <td>-0.605604</td>\n",
       "    </tr>\n",
       "    <tr>\n",
       "      <th>17647</th>\n",
       "      <td>0.826487</td>\n",
       "      <td>-0.771326</td>\n",
       "      <td>-0.618019</td>\n",
       "      <td>-0.670600</td>\n",
       "      <td>-1.228986</td>\n",
       "      <td>-0.509513</td>\n",
       "      <td>-0.331971</td>\n",
       "      <td>-0.484991</td>\n",
       "      <td>-0.677919</td>\n",
       "      <td>1.978735</td>\n",
       "      <td>-1.674575</td>\n",
       "    </tr>\n",
       "    <tr>\n",
       "      <th>17648</th>\n",
       "      <td>1.184324</td>\n",
       "      <td>-0.775274</td>\n",
       "      <td>-0.617966</td>\n",
       "      <td>-0.778893</td>\n",
       "      <td>0.445710</td>\n",
       "      <td>-0.503366</td>\n",
       "      <td>-0.313756</td>\n",
       "      <td>-0.950743</td>\n",
       "      <td>-0.677919</td>\n",
       "      <td>1.978735</td>\n",
       "      <td>-1.674575</td>\n",
       "    </tr>\n",
       "    <tr>\n",
       "      <th>17649</th>\n",
       "      <td>1.313296</td>\n",
       "      <td>-0.701797</td>\n",
       "      <td>-0.547011</td>\n",
       "      <td>-0.716371</td>\n",
       "      <td>0.445399</td>\n",
       "      <td>-0.434176</td>\n",
       "      <td>-0.250408</td>\n",
       "      <td>-0.916068</td>\n",
       "      <td>-0.677919</td>\n",
       "      <td>1.978735</td>\n",
       "      <td>-1.674575</td>\n",
       "    </tr>\n",
       "    <tr>\n",
       "      <th>17650</th>\n",
       "      <td>0.615619</td>\n",
       "      <td>-0.667381</td>\n",
       "      <td>-0.359671</td>\n",
       "      <td>-0.791650</td>\n",
       "      <td>0.157768</td>\n",
       "      <td>-0.393236</td>\n",
       "      <td>-0.211755</td>\n",
       "      <td>-1.048116</td>\n",
       "      <td>-0.677919</td>\n",
       "      <td>1.978735</td>\n",
       "      <td>0.254358</td>\n",
       "    </tr>\n",
       "  </tbody>\n",
       "</table>\n",
       "<p>17651 rows × 11 columns</p>\n",
       "</div>"
      ],
      "text/plain": [
       "       AveragePrice  Total Volume      4046      4225      4770  Total Bags  \\\n",
       "0         -0.117824     -0.075324 -0.657421  0.351430 -0.222566   -0.537507   \n",
       "1         -0.064330     -0.147497 -0.777179  0.269513 -0.175223   -0.498128   \n",
       "2         -1.298865      0.205556 -0.731776  0.649333  0.023923   -0.566369   \n",
       "3         -0.829026      0.019655 -0.632592  0.468799 -0.121164   -0.713068   \n",
       "4         -0.253635     -0.180674 -0.684504  0.262126 -0.110491   -0.686312   \n",
       "...             ...           ...       ...       ...       ...         ...   \n",
       "17646      0.639410     -0.678214 -0.462066 -0.926028 -1.228986   -0.340422   \n",
       "17647      0.826487     -0.771326 -0.618019 -0.670600 -1.228986   -0.509513   \n",
       "17648      1.184324     -0.775274 -0.617966 -0.778893  0.445710   -0.503366   \n",
       "17649      1.313296     -0.701797 -0.547011 -0.716371  0.445399   -0.434176   \n",
       "17650      0.615619     -0.667381 -0.359671 -0.791650  0.157768   -0.393236   \n",
       "\n",
       "       Small Bags  Large Bags  XLarge Bags      year     Month  \n",
       "0       -0.347421   -0.781153    -0.677919 -1.210618  1.475625  \n",
       "1       -0.311322   -0.771198    -0.677919 -1.210618  1.475625  \n",
       "2       -0.374453   -0.758523    -0.677919 -1.210618  1.475625  \n",
       "3       -0.510991   -0.699123    -0.677919 -1.210618 -0.017894  \n",
       "4       -0.490534   -0.607027    -0.677919 -1.210618  1.246164  \n",
       "...           ...         ...          ...       ...       ...  \n",
       "17646   -0.175753   -0.412401    -0.677919  1.978735 -0.605604  \n",
       "17647   -0.331971   -0.484991    -0.677919  1.978735 -1.674575  \n",
       "17648   -0.313756   -0.950743    -0.677919  1.978735 -1.674575  \n",
       "17649   -0.250408   -0.916068    -0.677919  1.978735 -1.674575  \n",
       "17650   -0.211755   -1.048116    -0.677919  1.978735  0.254358  \n",
       "\n",
       "[17651 rows x 11 columns]"
      ]
     },
     "execution_count": 130,
     "metadata": {},
     "output_type": "execute_result"
    }
   ],
   "source": [
    "scaled= pd.DataFrame(scaled)\n",
    "scaled.columns= transformed.columns\n",
    "scaled"
   ]
  },
  {
   "cell_type": "code",
   "execution_count": 131,
   "id": "56f4b53a",
   "metadata": {},
   "outputs": [],
   "source": [
    "from sklearn.decomposition import PCA\n",
    "pca= PCA()"
   ]
  },
  {
   "cell_type": "code",
   "execution_count": 132,
   "id": "164b1209",
   "metadata": {},
   "outputs": [],
   "source": [
    "principal_component=pca.fit_transform(scaled)"
   ]
  },
  {
   "cell_type": "code",
   "execution_count": 133,
   "id": "81b688eb",
   "metadata": {},
   "outputs": [
    {
     "data": {
      "image/png": "[encoded data removed]",
      "text/plain": [
       "<Figure size 432x288 with 1 Axes>"
      ]
     },
     "metadata": {
      "needs_background": "light"
     },
     "output_type": "display_data"
    }
   ],
   "source": [
    "plt.figure()\n",
    "plt.plot(np.cumsum(pca.explained_variance_ratio_))\n",
    "plt.xlabel('no of component')\n",
    "plt.ylabel('variance (%)')\n",
    "plt.title('explained variance')\n",
    "plt.show()"
   ]
  },
  {
   "cell_type": "code",
   "execution_count": 134,
   "id": "4f2b4693",
   "metadata": {},
   "outputs": [],
   "source": [
    "## Graph shows 8 components has explained 98% variance of all features, so use 8\n",
    "pca=PCA(n_components=8)"
   ]
  },
  {
   "cell_type": "code",
   "execution_count": 135,
   "id": "c0ed1754",
   "metadata": {},
   "outputs": [
    {
     "data": {
      "text/html": [
       "<div>\n",
       "<style scoped>\n",
       "    .dataframe tbody tr th:only-of-type {\n",
       "        vertical-align: middle;\n",
       "    }\n",
       "\n",
       "    .dataframe tbody tr th {\n",
       "        vertical-align: top;\n",
       "    }\n",
       "\n",
       "    .dataframe thead th {\n",
       "        text-align: right;\n",
       "    }\n",
       "</style>\n",
       "<table border=\"1\" class=\"dataframe\">\n",
       "  <thead>\n",
       "    <tr style=\"text-align: right;\">\n",
       "      <th></th>\n",
       "      <th>PC1</th>\n",
       "      <th>PC2</th>\n",
       "      <th>PC3</th>\n",
       "      <th>PC4</th>\n",
       "      <th>PC5</th>\n",
       "      <th>PC6</th>\n",
       "      <th>PC7</th>\n",
       "      <th>PC8</th>\n",
       "    </tr>\n",
       "  </thead>\n",
       "  <tbody>\n",
       "    <tr>\n",
       "      <th>0</th>\n",
       "      <td>-0.984125</td>\n",
       "      <td>-1.821761</td>\n",
       "      <td>-0.751090</td>\n",
       "      <td>0.020908</td>\n",
       "      <td>0.238219</td>\n",
       "      <td>0.383519</td>\n",
       "      <td>0.411159</td>\n",
       "      <td>-0.284780</td>\n",
       "    </tr>\n",
       "    <tr>\n",
       "      <th>1</th>\n",
       "      <td>-1.049131</td>\n",
       "      <td>-1.788992</td>\n",
       "      <td>-0.778160</td>\n",
       "      <td>0.001129</td>\n",
       "      <td>0.231088</td>\n",
       "      <td>0.359932</td>\n",
       "      <td>0.504451</td>\n",
       "      <td>-0.359095</td>\n",
       "    </tr>\n",
       "    <tr>\n",
       "      <th>2</th>\n",
       "      <td>-0.430937</td>\n",
       "      <td>-2.109797</td>\n",
       "      <td>-0.386713</td>\n",
       "      <td>0.699269</td>\n",
       "      <td>-0.117224</td>\n",
       "      <td>0.740118</td>\n",
       "      <td>0.852498</td>\n",
       "      <td>-0.207940</td>\n",
       "    </tr>\n",
       "    <tr>\n",
       "      <th>3</th>\n",
       "      <td>-0.774276</td>\n",
       "      <td>-1.404481</td>\n",
       "      <td>0.811964</td>\n",
       "      <td>0.231431</td>\n",
       "      <td>0.014593</td>\n",
       "      <td>0.347864</td>\n",
       "      <td>0.537312</td>\n",
       "      <td>-0.179269</td>\n",
       "    </tr>\n",
       "    <tr>\n",
       "      <th>4</th>\n",
       "      <td>-1.047655</td>\n",
       "      <td>-1.762890</td>\n",
       "      <td>-0.492071</td>\n",
       "      <td>0.176083</td>\n",
       "      <td>0.153238</td>\n",
       "      <td>0.200720</td>\n",
       "      <td>0.515122</td>\n",
       "      <td>-0.148186</td>\n",
       "    </tr>\n",
       "    <tr>\n",
       "      <th>...</th>\n",
       "      <td>...</td>\n",
       "      <td>...</td>\n",
       "      <td>...</td>\n",
       "      <td>...</td>\n",
       "      <td>...</td>\n",
       "      <td>...</td>\n",
       "      <td>...</td>\n",
       "      <td>...</td>\n",
       "    </tr>\n",
       "    <tr>\n",
       "      <th>17646</th>\n",
       "      <td>-1.729864</td>\n",
       "      <td>2.202441</td>\n",
       "      <td>-0.201481</td>\n",
       "      <td>0.283140</td>\n",
       "      <td>0.229713</td>\n",
       "      <td>0.602968</td>\n",
       "      <td>-0.332488</td>\n",
       "      <td>0.088846</td>\n",
       "    </tr>\n",
       "    <tr>\n",
       "      <th>17647</th>\n",
       "      <td>-1.909826</td>\n",
       "      <td>2.625304</td>\n",
       "      <td>0.714962</td>\n",
       "      <td>-0.115159</td>\n",
       "      <td>0.286684</td>\n",
       "      <td>0.350781</td>\n",
       "      <td>-0.251632</td>\n",
       "      <td>0.055276</td>\n",
       "    </tr>\n",
       "    <tr>\n",
       "      <th>17648</th>\n",
       "      <td>-1.601258</td>\n",
       "      <td>2.391881</td>\n",
       "      <td>0.708398</td>\n",
       "      <td>-0.999497</td>\n",
       "      <td>0.207257</td>\n",
       "      <td>0.460092</td>\n",
       "      <td>0.806166</td>\n",
       "      <td>0.842408</td>\n",
       "    </tr>\n",
       "    <tr>\n",
       "      <th>17649</th>\n",
       "      <td>-1.500511</td>\n",
       "      <td>2.419321</td>\n",
       "      <td>0.662971</td>\n",
       "      <td>-1.101346</td>\n",
       "      <td>0.313820</td>\n",
       "      <td>0.431071</td>\n",
       "      <td>0.736948</td>\n",
       "      <td>0.824358</td>\n",
       "    </tr>\n",
       "    <tr>\n",
       "      <th>17650</th>\n",
       "      <td>-1.392796</td>\n",
       "      <td>1.526763</td>\n",
       "      <td>-0.845000</td>\n",
       "      <td>-0.242866</td>\n",
       "      <td>0.003706</td>\n",
       "      <td>1.028024</td>\n",
       "      <td>0.611137</td>\n",
       "      <td>0.896117</td>\n",
       "    </tr>\n",
       "  </tbody>\n",
       "</table>\n",
       "<p>17651 rows × 8 columns</p>\n",
       "</div>"
      ],
      "text/plain": [
       "            PC1       PC2       PC3       PC4       PC5       PC6       PC7  \\\n",
       "0     -0.984125 -1.821761 -0.751090  0.020908  0.238219  0.383519  0.411159   \n",
       "1     -1.049131 -1.788992 -0.778160  0.001129  0.231088  0.359932  0.504451   \n",
       "2     -0.430937 -2.109797 -0.386713  0.699269 -0.117224  0.740118  0.852498   \n",
       "3     -0.774276 -1.404481  0.811964  0.231431  0.014593  0.347864  0.537312   \n",
       "4     -1.047655 -1.762890 -0.492071  0.176083  0.153238  0.200720  0.515122   \n",
       "...         ...       ...       ...       ...       ...       ...       ...   \n",
       "17646 -1.729864  2.202441 -0.201481  0.283140  0.229713  0.602968 -0.332488   \n",
       "17647 -1.909826  2.625304  0.714962 -0.115159  0.286684  0.350781 -0.251632   \n",
       "17648 -1.601258  2.391881  0.708398 -0.999497  0.207257  0.460092  0.806166   \n",
       "17649 -1.500511  2.419321  0.662971 -1.101346  0.313820  0.431071  0.736948   \n",
       "17650 -1.392796  1.526763 -0.845000 -0.242866  0.003706  1.028024  0.611137   \n",
       "\n",
       "            PC8  \n",
       "0     -0.284780  \n",
       "1     -0.359095  \n",
       "2     -0.207940  \n",
       "3     -0.179269  \n",
       "4     -0.148186  \n",
       "...         ...  \n",
       "17646  0.088846  \n",
       "17647  0.055276  \n",
       "17648  0.842408  \n",
       "17649  0.824358  \n",
       "17650  0.896117  \n",
       "\n",
       "[17651 rows x 8 columns]"
      ]
     },
     "execution_count": 135,
     "metadata": {},
     "output_type": "execute_result"
    }
   ],
   "source": [
    "new_data= pca.fit_transform(scaled)\n",
    "principal_x= pd.DataFrame(new_data,columns=['PC1','PC2','PC3','PC4','PC5','PC6','PC7','PC8'])\n",
    "principal_x"
   ]
  },
  {
   "cell_type": "code",
   "execution_count": 136,
   "id": "afabed56",
   "metadata": {},
   "outputs": [
    {
     "data": {
      "text/plain": [
       "((17651, 8), (17651, 2))"
      ]
     },
     "execution_count": 136,
     "metadata": {},
     "output_type": "execute_result"
    }
   ],
   "source": [
    "cat=pd.get_dummies(data['type'])\n",
    "principal_x.shape , cat.shape"
   ]
  },
  {
   "cell_type": "code",
   "execution_count": 137,
   "id": "b31197a2",
   "metadata": {},
   "outputs": [
    {
     "data": {
      "text/html": [
       "<div>\n",
       "<style scoped>\n",
       "    .dataframe tbody tr th:only-of-type {\n",
       "        vertical-align: middle;\n",
       "    }\n",
       "\n",
       "    .dataframe tbody tr th {\n",
       "        vertical-align: top;\n",
       "    }\n",
       "\n",
       "    .dataframe thead th {\n",
       "        text-align: right;\n",
       "    }\n",
       "</style>\n",
       "<table border=\"1\" class=\"dataframe\">\n",
       "  <thead>\n",
       "    <tr style=\"text-align: right;\">\n",
       "      <th></th>\n",
       "      <th>PC1</th>\n",
       "      <th>PC2</th>\n",
       "      <th>PC3</th>\n",
       "      <th>PC4</th>\n",
       "      <th>PC5</th>\n",
       "      <th>PC6</th>\n",
       "      <th>PC7</th>\n",
       "      <th>PC8</th>\n",
       "      <th>conventional</th>\n",
       "      <th>organic</th>\n",
       "    </tr>\n",
       "  </thead>\n",
       "  <tbody>\n",
       "    <tr>\n",
       "      <th>0</th>\n",
       "      <td>-0.984125</td>\n",
       "      <td>-1.821761</td>\n",
       "      <td>-0.751090</td>\n",
       "      <td>0.020908</td>\n",
       "      <td>0.238219</td>\n",
       "      <td>0.383519</td>\n",
       "      <td>0.411159</td>\n",
       "      <td>-0.284780</td>\n",
       "      <td>1</td>\n",
       "      <td>0</td>\n",
       "    </tr>\n",
       "    <tr>\n",
       "      <th>1</th>\n",
       "      <td>-1.049131</td>\n",
       "      <td>-1.788992</td>\n",
       "      <td>-0.778160</td>\n",
       "      <td>0.001129</td>\n",
       "      <td>0.231088</td>\n",
       "      <td>0.359932</td>\n",
       "      <td>0.504451</td>\n",
       "      <td>-0.359095</td>\n",
       "      <td>1</td>\n",
       "      <td>0</td>\n",
       "    </tr>\n",
       "    <tr>\n",
       "      <th>2</th>\n",
       "      <td>-0.430937</td>\n",
       "      <td>-2.109797</td>\n",
       "      <td>-0.386713</td>\n",
       "      <td>0.699269</td>\n",
       "      <td>-0.117224</td>\n",
       "      <td>0.740118</td>\n",
       "      <td>0.852498</td>\n",
       "      <td>-0.207940</td>\n",
       "      <td>1</td>\n",
       "      <td>0</td>\n",
       "    </tr>\n",
       "    <tr>\n",
       "      <th>3</th>\n",
       "      <td>-0.774276</td>\n",
       "      <td>-1.404481</td>\n",
       "      <td>0.811964</td>\n",
       "      <td>0.231431</td>\n",
       "      <td>0.014593</td>\n",
       "      <td>0.347864</td>\n",
       "      <td>0.537312</td>\n",
       "      <td>-0.179269</td>\n",
       "      <td>1</td>\n",
       "      <td>0</td>\n",
       "    </tr>\n",
       "    <tr>\n",
       "      <th>4</th>\n",
       "      <td>-1.047655</td>\n",
       "      <td>-1.762890</td>\n",
       "      <td>-0.492071</td>\n",
       "      <td>0.176083</td>\n",
       "      <td>0.153238</td>\n",
       "      <td>0.200720</td>\n",
       "      <td>0.515122</td>\n",
       "      <td>-0.148186</td>\n",
       "      <td>1</td>\n",
       "      <td>0</td>\n",
       "    </tr>\n",
       "    <tr>\n",
       "      <th>...</th>\n",
       "      <td>...</td>\n",
       "      <td>...</td>\n",
       "      <td>...</td>\n",
       "      <td>...</td>\n",
       "      <td>...</td>\n",
       "      <td>...</td>\n",
       "      <td>...</td>\n",
       "      <td>...</td>\n",
       "      <td>...</td>\n",
       "      <td>...</td>\n",
       "    </tr>\n",
       "    <tr>\n",
       "      <th>17646</th>\n",
       "      <td>-1.729864</td>\n",
       "      <td>2.202441</td>\n",
       "      <td>-0.201481</td>\n",
       "      <td>0.283140</td>\n",
       "      <td>0.229713</td>\n",
       "      <td>0.602968</td>\n",
       "      <td>-0.332488</td>\n",
       "      <td>0.088846</td>\n",
       "      <td>0</td>\n",
       "      <td>1</td>\n",
       "    </tr>\n",
       "    <tr>\n",
       "      <th>17647</th>\n",
       "      <td>-1.909826</td>\n",
       "      <td>2.625304</td>\n",
       "      <td>0.714962</td>\n",
       "      <td>-0.115159</td>\n",
       "      <td>0.286684</td>\n",
       "      <td>0.350781</td>\n",
       "      <td>-0.251632</td>\n",
       "      <td>0.055276</td>\n",
       "      <td>0</td>\n",
       "      <td>1</td>\n",
       "    </tr>\n",
       "    <tr>\n",
       "      <th>17648</th>\n",
       "      <td>-1.601258</td>\n",
       "      <td>2.391881</td>\n",
       "      <td>0.708398</td>\n",
       "      <td>-0.999497</td>\n",
       "      <td>0.207257</td>\n",
       "      <td>0.460092</td>\n",
       "      <td>0.806166</td>\n",
       "      <td>0.842408</td>\n",
       "      <td>0</td>\n",
       "      <td>1</td>\n",
       "    </tr>\n",
       "    <tr>\n",
       "      <th>17649</th>\n",
       "      <td>-1.500511</td>\n",
       "      <td>2.419321</td>\n",
       "      <td>0.662971</td>\n",
       "      <td>-1.101346</td>\n",
       "      <td>0.313820</td>\n",
       "      <td>0.431071</td>\n",
       "      <td>0.736948</td>\n",
       "      <td>0.824358</td>\n",
       "      <td>0</td>\n",
       "      <td>1</td>\n",
       "    </tr>\n",
       "    <tr>\n",
       "      <th>17650</th>\n",
       "      <td>-1.392796</td>\n",
       "      <td>1.526763</td>\n",
       "      <td>-0.845000</td>\n",
       "      <td>-0.242866</td>\n",
       "      <td>0.003706</td>\n",
       "      <td>1.028024</td>\n",
       "      <td>0.611137</td>\n",
       "      <td>0.896117</td>\n",
       "      <td>0</td>\n",
       "      <td>1</td>\n",
       "    </tr>\n",
       "  </tbody>\n",
       "</table>\n",
       "<p>17053 rows × 10 columns</p>\n",
       "</div>"
      ],
      "text/plain": [
       "            PC1       PC2       PC3       PC4       PC5       PC6       PC7  \\\n",
       "0     -0.984125 -1.821761 -0.751090  0.020908  0.238219  0.383519  0.411159   \n",
       "1     -1.049131 -1.788992 -0.778160  0.001129  0.231088  0.359932  0.504451   \n",
       "2     -0.430937 -2.109797 -0.386713  0.699269 -0.117224  0.740118  0.852498   \n",
       "3     -0.774276 -1.404481  0.811964  0.231431  0.014593  0.347864  0.537312   \n",
       "4     -1.047655 -1.762890 -0.492071  0.176083  0.153238  0.200720  0.515122   \n",
       "...         ...       ...       ...       ...       ...       ...       ...   \n",
       "17646 -1.729864  2.202441 -0.201481  0.283140  0.229713  0.602968 -0.332488   \n",
       "17647 -1.909826  2.625304  0.714962 -0.115159  0.286684  0.350781 -0.251632   \n",
       "17648 -1.601258  2.391881  0.708398 -0.999497  0.207257  0.460092  0.806166   \n",
       "17649 -1.500511  2.419321  0.662971 -1.101346  0.313820  0.431071  0.736948   \n",
       "17650 -1.392796  1.526763 -0.845000 -0.242866  0.003706  1.028024  0.611137   \n",
       "\n",
       "            PC8  conventional  organic  \n",
       "0     -0.284780             1        0  \n",
       "1     -0.359095             1        0  \n",
       "2     -0.207940             1        0  \n",
       "3     -0.179269             1        0  \n",
       "4     -0.148186             1        0  \n",
       "...         ...           ...      ...  \n",
       "17646  0.088846             0        1  \n",
       "17647  0.055276             0        1  \n",
       "17648  0.842408             0        1  \n",
       "17649  0.824358             0        1  \n",
       "17650  0.896117             0        1  \n",
       "\n",
       "[17053 rows x 10 columns]"
      ]
     },
     "execution_count": 137,
     "metadata": {},
     "output_type": "execute_result"
    }
   ],
   "source": [
    "pd.concat([principal_x,cat],axis=1,join='inner')"
   ]
  },
  {
   "cell_type": "code",
   "execution_count": 138,
   "id": "8ad82e44",
   "metadata": {},
   "outputs": [
    {
     "data": {
      "text/html": [
       "<div>\n",
       "<style scoped>\n",
       "    .dataframe tbody tr th:only-of-type {\n",
       "        vertical-align: middle;\n",
       "    }\n",
       "\n",
       "    .dataframe tbody tr th {\n",
       "        vertical-align: top;\n",
       "    }\n",
       "\n",
       "    .dataframe thead th {\n",
       "        text-align: right;\n",
       "    }\n",
       "</style>\n",
       "<table border=\"1\" class=\"dataframe\">\n",
       "  <thead>\n",
       "    <tr style=\"text-align: right;\">\n",
       "      <th></th>\n",
       "      <th>PC1</th>\n",
       "      <th>PC2</th>\n",
       "      <th>PC3</th>\n",
       "      <th>PC4</th>\n",
       "      <th>PC5</th>\n",
       "      <th>PC6</th>\n",
       "      <th>PC7</th>\n",
       "      <th>PC8</th>\n",
       "      <th>type</th>\n",
       "    </tr>\n",
       "  </thead>\n",
       "  <tbody>\n",
       "    <tr>\n",
       "      <th>0</th>\n",
       "      <td>-0.984125</td>\n",
       "      <td>-1.821761</td>\n",
       "      <td>-0.751090</td>\n",
       "      <td>0.020908</td>\n",
       "      <td>0.238219</td>\n",
       "      <td>0.383519</td>\n",
       "      <td>0.411159</td>\n",
       "      <td>-0.284780</td>\n",
       "      <td>conventional</td>\n",
       "    </tr>\n",
       "    <tr>\n",
       "      <th>1</th>\n",
       "      <td>-1.049131</td>\n",
       "      <td>-1.788992</td>\n",
       "      <td>-0.778160</td>\n",
       "      <td>0.001129</td>\n",
       "      <td>0.231088</td>\n",
       "      <td>0.359932</td>\n",
       "      <td>0.504451</td>\n",
       "      <td>-0.359095</td>\n",
       "      <td>conventional</td>\n",
       "    </tr>\n",
       "    <tr>\n",
       "      <th>2</th>\n",
       "      <td>-0.430937</td>\n",
       "      <td>-2.109797</td>\n",
       "      <td>-0.386713</td>\n",
       "      <td>0.699269</td>\n",
       "      <td>-0.117224</td>\n",
       "      <td>0.740118</td>\n",
       "      <td>0.852498</td>\n",
       "      <td>-0.207940</td>\n",
       "      <td>conventional</td>\n",
       "    </tr>\n",
       "    <tr>\n",
       "      <th>3</th>\n",
       "      <td>-0.774276</td>\n",
       "      <td>-1.404481</td>\n",
       "      <td>0.811964</td>\n",
       "      <td>0.231431</td>\n",
       "      <td>0.014593</td>\n",
       "      <td>0.347864</td>\n",
       "      <td>0.537312</td>\n",
       "      <td>-0.179269</td>\n",
       "      <td>conventional</td>\n",
       "    </tr>\n",
       "    <tr>\n",
       "      <th>4</th>\n",
       "      <td>-1.047655</td>\n",
       "      <td>-1.762890</td>\n",
       "      <td>-0.492071</td>\n",
       "      <td>0.176083</td>\n",
       "      <td>0.153238</td>\n",
       "      <td>0.200720</td>\n",
       "      <td>0.515122</td>\n",
       "      <td>-0.148186</td>\n",
       "      <td>conventional</td>\n",
       "    </tr>\n",
       "    <tr>\n",
       "      <th>...</th>\n",
       "      <td>...</td>\n",
       "      <td>...</td>\n",
       "      <td>...</td>\n",
       "      <td>...</td>\n",
       "      <td>...</td>\n",
       "      <td>...</td>\n",
       "      <td>...</td>\n",
       "      <td>...</td>\n",
       "      <td>...</td>\n",
       "    </tr>\n",
       "    <tr>\n",
       "      <th>17646</th>\n",
       "      <td>-1.729864</td>\n",
       "      <td>2.202441</td>\n",
       "      <td>-0.201481</td>\n",
       "      <td>0.283140</td>\n",
       "      <td>0.229713</td>\n",
       "      <td>0.602968</td>\n",
       "      <td>-0.332488</td>\n",
       "      <td>0.088846</td>\n",
       "      <td>organic</td>\n",
       "    </tr>\n",
       "    <tr>\n",
       "      <th>17647</th>\n",
       "      <td>-1.909826</td>\n",
       "      <td>2.625304</td>\n",
       "      <td>0.714962</td>\n",
       "      <td>-0.115159</td>\n",
       "      <td>0.286684</td>\n",
       "      <td>0.350781</td>\n",
       "      <td>-0.251632</td>\n",
       "      <td>0.055276</td>\n",
       "      <td>organic</td>\n",
       "    </tr>\n",
       "    <tr>\n",
       "      <th>17648</th>\n",
       "      <td>-1.601258</td>\n",
       "      <td>2.391881</td>\n",
       "      <td>0.708398</td>\n",
       "      <td>-0.999497</td>\n",
       "      <td>0.207257</td>\n",
       "      <td>0.460092</td>\n",
       "      <td>0.806166</td>\n",
       "      <td>0.842408</td>\n",
       "      <td>organic</td>\n",
       "    </tr>\n",
       "    <tr>\n",
       "      <th>17649</th>\n",
       "      <td>-1.500511</td>\n",
       "      <td>2.419321</td>\n",
       "      <td>0.662971</td>\n",
       "      <td>-1.101346</td>\n",
       "      <td>0.313820</td>\n",
       "      <td>0.431071</td>\n",
       "      <td>0.736948</td>\n",
       "      <td>0.824358</td>\n",
       "      <td>organic</td>\n",
       "    </tr>\n",
       "    <tr>\n",
       "      <th>17650</th>\n",
       "      <td>-1.392796</td>\n",
       "      <td>1.526763</td>\n",
       "      <td>-0.845000</td>\n",
       "      <td>-0.242866</td>\n",
       "      <td>0.003706</td>\n",
       "      <td>1.028024</td>\n",
       "      <td>0.611137</td>\n",
       "      <td>0.896117</td>\n",
       "      <td>organic</td>\n",
       "    </tr>\n",
       "  </tbody>\n",
       "</table>\n",
       "<p>17651 rows × 9 columns</p>\n",
       "</div>"
      ],
      "text/plain": [
       "            PC1       PC2       PC3       PC4       PC5       PC6       PC7  \\\n",
       "0     -0.984125 -1.821761 -0.751090  0.020908  0.238219  0.383519  0.411159   \n",
       "1     -1.049131 -1.788992 -0.778160  0.001129  0.231088  0.359932  0.504451   \n",
       "2     -0.430937 -2.109797 -0.386713  0.699269 -0.117224  0.740118  0.852498   \n",
       "3     -0.774276 -1.404481  0.811964  0.231431  0.014593  0.347864  0.537312   \n",
       "4     -1.047655 -1.762890 -0.492071  0.176083  0.153238  0.200720  0.515122   \n",
       "...         ...       ...       ...       ...       ...       ...       ...   \n",
       "17646 -1.729864  2.202441 -0.201481  0.283140  0.229713  0.602968 -0.332488   \n",
       "17647 -1.909826  2.625304  0.714962 -0.115159  0.286684  0.350781 -0.251632   \n",
       "17648 -1.601258  2.391881  0.708398 -0.999497  0.207257  0.460092  0.806166   \n",
       "17649 -1.500511  2.419321  0.662971 -1.101346  0.313820  0.431071  0.736948   \n",
       "17650 -1.392796  1.526763 -0.845000 -0.242866  0.003706  1.028024  0.611137   \n",
       "\n",
       "            PC8          type  \n",
       "0     -0.284780  conventional  \n",
       "1     -0.359095  conventional  \n",
       "2     -0.207940  conventional  \n",
       "3     -0.179269  conventional  \n",
       "4     -0.148186  conventional  \n",
       "...         ...           ...  \n",
       "17646  0.088846       organic  \n",
       "17647  0.055276       organic  \n",
       "17648  0.842408       organic  \n",
       "17649  0.824358       organic  \n",
       "17650  0.896117       organic  \n",
       "\n",
       "[17651 rows x 9 columns]"
      ]
     },
     "execution_count": 138,
     "metadata": {},
     "output_type": "execute_result"
    }
   ],
   "source": [
    "principal_x['type']= data['type']\n",
    "principal_x"
   ]
  },
  {
   "cell_type": "code",
   "execution_count": 139,
   "id": "6064c47b",
   "metadata": {},
   "outputs": [
    {
     "data": {
      "text/plain": [
       "(17651, 10)"
      ]
     },
     "execution_count": 139,
     "metadata": {},
     "output_type": "execute_result"
    }
   ],
   "source": [
    "X=pd.get_dummies(principal_x)\n",
    "X.shape"
   ]
  },
  {
   "cell_type": "code",
   "execution_count": 140,
   "id": "0ff1ddb0",
   "metadata": {},
   "outputs": [
    {
     "data": {
      "text/plain": [
       "(17651,)"
      ]
     },
     "execution_count": 140,
     "metadata": {},
     "output_type": "execute_result"
    }
   ],
   "source": [
    "# Label encoder for target variable\n",
    "from sklearn.preprocessing import LabelEncoder\n",
    "le=LabelEncoder()\n",
    "Y=le.fit_transform(data['region'])\n",
    "Y.shape"
   ]
  },
  {
   "cell_type": "code",
   "execution_count": 141,
   "id": "8e2f2ba8",
   "metadata": {},
   "outputs": [
    {
     "data": {
      "text/plain": [
       "region\n",
       "0         338\n",
       "16        338\n",
       "49        338\n",
       "44        338\n",
       "39        338\n",
       "38        338\n",
       "35        338\n",
       "34        338\n",
       "32        338\n",
       "30        338\n",
       "26        338\n",
       "23        338\n",
       "19        338\n",
       "18        338\n",
       "27        338\n",
       "10        338\n",
       "2         338\n",
       "8         338\n",
       "9         338\n",
       "5         338\n",
       "11        338\n",
       "4         338\n",
       "12        338\n",
       "13        338\n",
       "20        337\n",
       "1         337\n",
       "28        337\n",
       "50        336\n",
       "33        336\n",
       "14        336\n",
       "41        336\n",
       "40        336\n",
       "24        335\n",
       "31        335\n",
       "21        333\n",
       "25        333\n",
       "48        333\n",
       "7         332\n",
       "53        332\n",
       "22        331\n",
       "17        331\n",
       "36        330\n",
       "3         329\n",
       "37        328\n",
       "47        328\n",
       "43        326\n",
       "29        325\n",
       "46        307\n",
       "42        301\n",
       "45        292\n",
       "6         290\n",
       "15        272\n",
       "52        256\n",
       "51        169\n",
       "dtype: int64"
      ]
     },
     "execution_count": 141,
     "metadata": {},
     "output_type": "execute_result"
    }
   ],
   "source": [
    "pd.DataFrame(Y,columns=['region']).value_counts()"
   ]
  },
  {
   "cell_type": "code",
   "execution_count": 142,
   "id": "2304ae96",
   "metadata": {},
   "outputs": [],
   "source": [
    "#Machine Learning"
   ]
  },
  {
   "cell_type": "code",
   "execution_count": 143,
   "id": "f2949cff",
   "metadata": {},
   "outputs": [],
   "source": [
    "from sklearn.model_selection import train_test_split\n",
    "from sklearn.linear_model import LogisticRegression\n",
    "from sklearn.metrics import accuracy_score,confusion_matrix,classification_report\n"
   ]
  },
  {
   "cell_type": "code",
   "execution_count": null,
   "id": "bc070c23",
   "metadata": {},
   "outputs": [],
   "source": [
    "# FInd best Random_state\n",
    "\n",
    "maxaccu=0\n",
    "maxRS=0\n",
    "\n",
    "for i in range(0,200):\n",
    "    x_train,x_test,y_train,y_test= train_test_split(X,Y,random_state=i,test_size=.20)\n",
    "    LR= LogisticRegression()\n",
    "    LR.fit(x_train,y_train)\n",
    "    pred= LR.predict(x_test)\n",
    "    acc=accuracy_score(y_test,pred)\n",
    "    if acc>maxaccu:\n",
    "        maxaccu=acc\n",
    "        maxRS=i\n",
    "print(\"Best accuracy is \",maxaccu,\"on Random State =\",maxRS)"
   ]
  },
  {
   "cell_type": "code",
   "execution_count": null,
   "id": "084571c8",
   "metadata": {},
   "outputs": [],
   "source": [
    "data"
   ]
  },
  {
   "cell_type": "code",
   "execution_count": null,
   "id": "bd5e60e5",
   "metadata": {},
   "outputs": [],
   "source": [
    "data.info()"
   ]
  },
  {
   "cell_type": "code",
   "execution_count": null,
   "id": "650cb31a",
   "metadata": {},
   "outputs": [],
   "source": [
    "plt.figure(figsize=(12,8))\n",
    "sns.heatmap(data.corr(),annot=True)"
   ]
  },
  {
   "cell_type": "code",
   "execution_count": null,
   "id": "f7ea4fb6",
   "metadata": {},
   "outputs": [],
   "source": [
    "data.head()"
   ]
  },
  {
   "cell_type": "code",
   "execution_count": null,
   "id": "1928c6ce",
   "metadata": {},
   "outputs": [],
   "source": [
    "Balance data() SMOTE\n",
    "pip install "
   ]
  },
  {
   "cell_type": "code",
   "execution_count": null,
   "id": "4349b64c",
   "metadata": {},
   "outputs": [],
   "source": [
    "from imblearn.over_sampling import SMOTE\n",
    "smt=SMOTE()"
   ]
  },
  {
   "cell_type": "code",
   "execution_count": null,
   "id": "37e8f860",
   "metadata": {},
   "outputs": [],
   "source": [
    "final_data.head()"
   ]
  },
  {
   "cell_type": "code",
   "execution_count": null,
   "id": "918a0224",
   "metadata": {},
   "outputs": [],
   "source": [
    "final_data.drop('region',axis=1,inplace=True)"
   ]
  },
  {
   "cell_type": "code",
   "execution_count": null,
   "id": "8bc380f1",
   "metadata": {},
   "outputs": [],
   "source": [
    "daata=pd.get_dummies(final_data)"
   ]
  },
  {
   "cell_type": "code",
   "execution_count": null,
   "id": "f0cc7c83",
   "metadata": {},
   "outputs": [],
   "source": [
    "# transformation:\n",
    "\n",
    "from sklearn.preprocessing import power_transform\n",
    "transformed=power_transform(daata)"
   ]
  },
  {
   "cell_type": "code",
   "execution_count": null,
   "id": "0e1c7fb0",
   "metadata": {},
   "outputs": [],
   "source": [
    "sc=StandardScaler()\n",
    "standard=sc.fit_transform(transformed)"
   ]
  },
  {
   "cell_type": "code",
   "execution_count": null,
   "id": "32a61edc",
   "metadata": {},
   "outputs": [],
   "source": [
    "standard.shape"
   ]
  },
  {
   "cell_type": "code",
   "execution_count": null,
   "id": "38ea093c",
   "metadata": {},
   "outputs": [],
   "source": [
    "balance_X,balance_Y=smt.fit_resample(standard,Y)"
   ]
  },
  {
   "cell_type": "code",
   "execution_count": null,
   "id": "7e79a66a",
   "metadata": {},
   "outputs": [],
   "source": [
    "balance_X.shape  , balance_Y.shape"
   ]
  },
  {
   "cell_type": "code",
   "execution_count": null,
   "id": "a05bf14a",
   "metadata": {},
   "outputs": [],
   "source": []
  }
 ],
 "metadata": {
  "kernelspec": {
   "display_name": "Python 3 (ipykernel)",
   "language": "python",
   "name": "python3"
  },
  "language_info": {
   "codemirror_mode": {
    "name": "ipython",
    "version": 3
   },
   "file_extension": ".py",
   "mimetype": "text/x-python",
   "name": "python",
   "nbconvert_exporter": "python",
   "pygments_lexer": "ipython3",
   "version": "3.9.7"
  }
 },
 "nbformat": 4,
 "nbformat_minor": 5
}
